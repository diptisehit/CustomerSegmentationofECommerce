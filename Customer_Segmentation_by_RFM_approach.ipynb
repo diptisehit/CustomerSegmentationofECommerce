{
 "cells": [
  {
   "cell_type": "code",
   "execution_count": 1,
   "id": "3ad5535f",
   "metadata": {},
   "outputs": [],
   "source": [
    "#Online shopping Customer Segmentation\n",
    "#**Problem statement**\n",
    "\n",
    "# 1: Segment (Group/Cluster) customer on basis of RFM (Recency, Frequency, Monetary) \n",
    "# 2: Segment (Group/Cluster) Identify trends for Day, Month, Season, Time by Invoice count\n",
    "# 3.Top 10 selling product \n",
    "# 4 Best product at country level.\n",
    "# 5 FINDING CUSTOMER VALUATION."
   ]
  },
  {
   "cell_type": "code",
   "execution_count": 3,
   "id": "10ab0c7a",
   "metadata": {},
   "outputs": [],
   "source": [
    "#import libraries\n",
    "import pandas as pd\n",
    "import numpy as np\n",
    "import matplotlib.pyplot as plt\n",
    "import seaborn as sns\n",
    "%matplotlib inline\n",
    "import warnings\n",
    "warnings.filterwarnings('ignore') "
   ]
  },
  {
   "cell_type": "code",
   "execution_count": 14,
   "id": "96c1554c",
   "metadata": {},
   "outputs": [
    {
     "data": {
      "text/html": [
       "<div>\n",
       "<style scoped>\n",
       "    .dataframe tbody tr th:only-of-type {\n",
       "        vertical-align: middle;\n",
       "    }\n",
       "\n",
       "    .dataframe tbody tr th {\n",
       "        vertical-align: top;\n",
       "    }\n",
       "\n",
       "    .dataframe thead th {\n",
       "        text-align: right;\n",
       "    }\n",
       "</style>\n",
       "<table border=\"1\" class=\"dataframe\">\n",
       "  <thead>\n",
       "    <tr style=\"text-align: right;\">\n",
       "      <th></th>\n",
       "      <th>InvoiceNo</th>\n",
       "      <th>StockCode</th>\n",
       "      <th>lower</th>\n",
       "      <th>Description</th>\n",
       "      <th>Quantity</th>\n",
       "      <th>InvoiceDate</th>\n",
       "      <th>UnitPrice</th>\n",
       "      <th>CustomerID</th>\n",
       "      <th>Country</th>\n",
       "    </tr>\n",
       "  </thead>\n",
       "  <tbody>\n",
       "    <tr>\n",
       "      <th>0</th>\n",
       "      <td>536365</td>\n",
       "      <td>85123A</td>\n",
       "      <td>white hanging heart t-light holder</td>\n",
       "      <td>WHITE HANGING HEART T-LIGHT HOLDER</td>\n",
       "      <td>6</td>\n",
       "      <td>2010-12-01 08:26:00</td>\n",
       "      <td>2.55</td>\n",
       "      <td>17850.0</td>\n",
       "      <td>United Kingdom</td>\n",
       "    </tr>\n",
       "    <tr>\n",
       "      <th>1</th>\n",
       "      <td>536365</td>\n",
       "      <td>71053</td>\n",
       "      <td>white metal lantern</td>\n",
       "      <td>WHITE METAL LANTERN</td>\n",
       "      <td>6</td>\n",
       "      <td>2010-12-01 08:26:00</td>\n",
       "      <td>3.39</td>\n",
       "      <td>17850.0</td>\n",
       "      <td>United Kingdom</td>\n",
       "    </tr>\n",
       "    <tr>\n",
       "      <th>2</th>\n",
       "      <td>536365</td>\n",
       "      <td>84406B</td>\n",
       "      <td>cream cupid hearts coat hanger</td>\n",
       "      <td>CREAM CUPID HEARTS COAT HANGER</td>\n",
       "      <td>8</td>\n",
       "      <td>2010-12-01 08:26:00</td>\n",
       "      <td>2.75</td>\n",
       "      <td>17850.0</td>\n",
       "      <td>United Kingdom</td>\n",
       "    </tr>\n",
       "    <tr>\n",
       "      <th>3</th>\n",
       "      <td>536365</td>\n",
       "      <td>84029G</td>\n",
       "      <td>knitted union flag hot water bottle</td>\n",
       "      <td>KNITTED UNION FLAG HOT WATER BOTTLE</td>\n",
       "      <td>6</td>\n",
       "      <td>2010-12-01 08:26:00</td>\n",
       "      <td>3.39</td>\n",
       "      <td>17850.0</td>\n",
       "      <td>United Kingdom</td>\n",
       "    </tr>\n",
       "    <tr>\n",
       "      <th>4</th>\n",
       "      <td>536365</td>\n",
       "      <td>84029E</td>\n",
       "      <td>red woolly hottie white heart.</td>\n",
       "      <td>RED WOOLLY HOTTIE WHITE HEART.</td>\n",
       "      <td>6</td>\n",
       "      <td>2010-12-01 08:26:00</td>\n",
       "      <td>3.39</td>\n",
       "      <td>17850.0</td>\n",
       "      <td>United Kingdom</td>\n",
       "    </tr>\n",
       "  </tbody>\n",
       "</table>\n",
       "</div>"
      ],
      "text/plain": [
       "  InvoiceNo StockCode                                lower  \\\n",
       "0    536365    85123A   white hanging heart t-light holder   \n",
       "1    536365     71053                  white metal lantern   \n",
       "2    536365    84406B       cream cupid hearts coat hanger   \n",
       "3    536365    84029G  knitted union flag hot water bottle   \n",
       "4    536365    84029E       red woolly hottie white heart.   \n",
       "\n",
       "                           Description  Quantity         InvoiceDate  \\\n",
       "0   WHITE HANGING HEART T-LIGHT HOLDER         6 2010-12-01 08:26:00   \n",
       "1                  WHITE METAL LANTERN         6 2010-12-01 08:26:00   \n",
       "2       CREAM CUPID HEARTS COAT HANGER         8 2010-12-01 08:26:00   \n",
       "3  KNITTED UNION FLAG HOT WATER BOTTLE         6 2010-12-01 08:26:00   \n",
       "4       RED WOOLLY HOTTIE WHITE HEART.         6 2010-12-01 08:26:00   \n",
       "\n",
       "   UnitPrice  CustomerID         Country  \n",
       "0       2.55     17850.0  United Kingdom  \n",
       "1       3.39     17850.0  United Kingdom  \n",
       "2       2.75     17850.0  United Kingdom  \n",
       "3       3.39     17850.0  United Kingdom  \n",
       "4       3.39     17850.0  United Kingdom  "
      ]
     },
     "execution_count": 14,
     "metadata": {},
     "output_type": "execute_result"
    }
   ],
   "source": [
    "df=pd.read_excel(\"Online_shopping.xlsx\")\n",
    "df.head()"
   ]
  },
  {
   "cell_type": "code",
   "execution_count": 15,
   "id": "310c0496",
   "metadata": {},
   "outputs": [
    {
     "data": {
      "text/plain": [
       "(541909, 9)"
      ]
     },
     "execution_count": 15,
     "metadata": {},
     "output_type": "execute_result"
    }
   ],
   "source": [
    "df.shape"
   ]
  },
  {
   "cell_type": "code",
   "execution_count": 16,
   "id": "9c15d222",
   "metadata": {},
   "outputs": [
    {
     "name": "stdout",
     "output_type": "stream",
     "text": [
      "<class 'pandas.core.frame.DataFrame'>\n",
      "RangeIndex: 541909 entries, 0 to 541908\n",
      "Data columns (total 9 columns):\n",
      " #   Column       Non-Null Count   Dtype         \n",
      "---  ------       --------------   -----         \n",
      " 0   InvoiceNo    541909 non-null  object        \n",
      " 1   StockCode    541909 non-null  object        \n",
      " 2   lower        1816 non-null    object        \n",
      " 3   Description  540455 non-null  object        \n",
      " 4   Quantity     541909 non-null  int64         \n",
      " 5   InvoiceDate  541909 non-null  datetime64[ns]\n",
      " 6   UnitPrice    541909 non-null  float64       \n",
      " 7   CustomerID   406829 non-null  float64       \n",
      " 8   Country      541909 non-null  object        \n",
      "dtypes: datetime64[ns](1), float64(2), int64(1), object(5)\n",
      "memory usage: 37.2+ MB\n"
     ]
    }
   ],
   "source": [
    "df.info()"
   ]
  },
  {
   "cell_type": "code",
   "execution_count": 5,
   "id": "53d10231",
   "metadata": {},
   "outputs": [],
   "source": []
  },
  {
   "cell_type": "code",
   "execution_count": 7,
   "id": "cbba8ec4",
   "metadata": {},
   "outputs": [],
   "source": [
    "# 1- Total 8 feature and this one is clustering problem so no target variable column is there.Data set consists of 541909 rows\n",
    "# 2- InvoiceDate column is already in datetime format\n",
    "# 3- Has null values in few features as well\n",
    "# 4- In cistomerID coloum we have null values."
   ]
  },
  {
   "cell_type": "code",
   "execution_count": 17,
   "id": "50706791",
   "metadata": {},
   "outputs": [
    {
     "data": {
      "text/plain": [
       "InvoiceNo       0.000000\n",
       "StockCode       0.000000\n",
       "lower          99.664888\n",
       "Description     0.268311\n",
       "Quantity        0.000000\n",
       "InvoiceDate     0.000000\n",
       "UnitPrice       0.000000\n",
       "CustomerID     24.926694\n",
       "Country         0.000000\n",
       "dtype: float64"
      ]
     },
     "execution_count": 17,
     "metadata": {},
     "output_type": "execute_result"
    }
   ],
   "source": [
    "df.isnull().sum()/len(df1)*100"
   ]
  },
  {
   "cell_type": "code",
   "execution_count": 18,
   "id": "0dd3d3ca-f0ea-4fc6-96e7-34816d3329e5",
   "metadata": {},
   "outputs": [
    {
     "data": {
      "text/plain": [
       "5268"
      ]
     },
     "execution_count": 18,
     "metadata": {},
     "output_type": "execute_result"
    }
   ],
   "source": [
    "df.duplicated().sum() # Ignoring duplicates"
   ]
  },
  {
   "cell_type": "code",
   "execution_count": 19,
   "id": "a535132f",
   "metadata": {},
   "outputs": [],
   "source": [
    "df1=df.copy()"
   ]
  },
  {
   "cell_type": "code",
   "execution_count": 20,
   "id": "ad9a22d7-d5aa-4154-be9f-4174499c2ebe",
   "metadata": {},
   "outputs": [],
   "source": [
    "df1=df1.dropna(subset=['CustomerID'])"
   ]
  },
  {
   "cell_type": "code",
   "execution_count": 21,
   "id": "a011b124-513b-4d0b-946f-38a4ce9bcc72",
   "metadata": {},
   "outputs": [
    {
     "data": {
      "text/plain": [
       "InvoiceNo           0\n",
       "StockCode           0\n",
       "lower          405387\n",
       "Description         0\n",
       "Quantity            0\n",
       "InvoiceDate         0\n",
       "UnitPrice           0\n",
       "CustomerID          0\n",
       "Country             0\n",
       "dtype: int64"
      ]
     },
     "execution_count": 21,
     "metadata": {},
     "output_type": "execute_result"
    }
   ],
   "source": [
    "df1.isnull().sum()"
   ]
  },
  {
   "cell_type": "markdown",
   "id": "e2ba5b91",
   "metadata": {},
   "source": [
    "# 1: Segment (Group/Cluster) customer on basis of RFM (Recency, Frequency, Monetary) "
   ]
  },
  {
   "cell_type": "code",
   "execution_count": 22,
   "id": "a0c655ea",
   "metadata": {},
   "outputs": [
    {
     "data": {
      "text/html": [
       "<div>\n",
       "<style scoped>\n",
       "    .dataframe tbody tr th:only-of-type {\n",
       "        vertical-align: middle;\n",
       "    }\n",
       "\n",
       "    .dataframe tbody tr th {\n",
       "        vertical-align: top;\n",
       "    }\n",
       "\n",
       "    .dataframe thead th {\n",
       "        text-align: right;\n",
       "    }\n",
       "</style>\n",
       "<table border=\"1\" class=\"dataframe\">\n",
       "  <thead>\n",
       "    <tr style=\"text-align: right;\">\n",
       "      <th></th>\n",
       "      <th>InvoiceNo</th>\n",
       "      <th>Quantity</th>\n",
       "      <th>InvoiceDate</th>\n",
       "      <th>UnitPrice</th>\n",
       "      <th>CustomerID</th>\n",
       "    </tr>\n",
       "  </thead>\n",
       "  <tbody>\n",
       "    <tr>\n",
       "      <th>0</th>\n",
       "      <td>536365</td>\n",
       "      <td>6</td>\n",
       "      <td>2010-12-01 08:26:00</td>\n",
       "      <td>2.55</td>\n",
       "      <td>17850.0</td>\n",
       "    </tr>\n",
       "    <tr>\n",
       "      <th>1</th>\n",
       "      <td>536365</td>\n",
       "      <td>6</td>\n",
       "      <td>2010-12-01 08:26:00</td>\n",
       "      <td>3.39</td>\n",
       "      <td>17850.0</td>\n",
       "    </tr>\n",
       "    <tr>\n",
       "      <th>2</th>\n",
       "      <td>536365</td>\n",
       "      <td>8</td>\n",
       "      <td>2010-12-01 08:26:00</td>\n",
       "      <td>2.75</td>\n",
       "      <td>17850.0</td>\n",
       "    </tr>\n",
       "    <tr>\n",
       "      <th>3</th>\n",
       "      <td>536365</td>\n",
       "      <td>6</td>\n",
       "      <td>2010-12-01 08:26:00</td>\n",
       "      <td>3.39</td>\n",
       "      <td>17850.0</td>\n",
       "    </tr>\n",
       "    <tr>\n",
       "      <th>4</th>\n",
       "      <td>536365</td>\n",
       "      <td>6</td>\n",
       "      <td>2010-12-01 08:26:00</td>\n",
       "      <td>3.39</td>\n",
       "      <td>17850.0</td>\n",
       "    </tr>\n",
       "  </tbody>\n",
       "</table>\n",
       "</div>"
      ],
      "text/plain": [
       "  InvoiceNo  Quantity         InvoiceDate  UnitPrice  CustomerID\n",
       "0    536365         6 2010-12-01 08:26:00       2.55     17850.0\n",
       "1    536365         6 2010-12-01 08:26:00       3.39     17850.0\n",
       "2    536365         8 2010-12-01 08:26:00       2.75     17850.0\n",
       "3    536365         6 2010-12-01 08:26:00       3.39     17850.0\n",
       "4    536365         6 2010-12-01 08:26:00       3.39     17850.0"
      ]
     },
     "execution_count": 22,
     "metadata": {},
     "output_type": "execute_result"
    }
   ],
   "source": [
    "# Droping columns are insignificant for customer segmentation\n",
    "df2 = df1.drop(['StockCode','Description', 'Country','lower'], axis = 1)\n",
    "df2.head()"
   ]
  },
  {
   "cell_type": "code",
   "execution_count": 12,
   "id": "24f2424f",
   "metadata": {},
   "outputs": [
    {
     "data": {
      "text/html": [
       "<div>\n",
       "<style scoped>\n",
       "    .dataframe tbody tr th:only-of-type {\n",
       "        vertical-align: middle;\n",
       "    }\n",
       "\n",
       "    .dataframe tbody tr th {\n",
       "        vertical-align: top;\n",
       "    }\n",
       "\n",
       "    .dataframe thead th {\n",
       "        text-align: right;\n",
       "    }\n",
       "</style>\n",
       "<table border=\"1\" class=\"dataframe\">\n",
       "  <thead>\n",
       "    <tr style=\"text-align: right;\">\n",
       "      <th></th>\n",
       "      <th>count</th>\n",
       "      <th>mean</th>\n",
       "      <th>std</th>\n",
       "      <th>min</th>\n",
       "      <th>25%</th>\n",
       "      <th>50%</th>\n",
       "      <th>75%</th>\n",
       "      <th>max</th>\n",
       "    </tr>\n",
       "  </thead>\n",
       "  <tbody>\n",
       "    <tr>\n",
       "      <th>Quantity</th>\n",
       "      <td>541909.0</td>\n",
       "      <td>9.552250</td>\n",
       "      <td>218.081158</td>\n",
       "      <td>-80995.00</td>\n",
       "      <td>1.00</td>\n",
       "      <td>3.00000</td>\n",
       "      <td>10.00</td>\n",
       "      <td>80995.0</td>\n",
       "    </tr>\n",
       "    <tr>\n",
       "      <th>UnitPrice</th>\n",
       "      <td>541909.0</td>\n",
       "      <td>4.611114</td>\n",
       "      <td>96.759853</td>\n",
       "      <td>-11062.06</td>\n",
       "      <td>1.25</td>\n",
       "      <td>2.08000</td>\n",
       "      <td>4.13</td>\n",
       "      <td>38970.0</td>\n",
       "    </tr>\n",
       "    <tr>\n",
       "      <th>CustomerID</th>\n",
       "      <td>541909.0</td>\n",
       "      <td>15287.690570</td>\n",
       "      <td>1484.746010</td>\n",
       "      <td>12346.00</td>\n",
       "      <td>14367.00</td>\n",
       "      <td>15287.69057</td>\n",
       "      <td>16255.00</td>\n",
       "      <td>18287.0</td>\n",
       "    </tr>\n",
       "  </tbody>\n",
       "</table>\n",
       "</div>"
      ],
      "text/plain": [
       "               count          mean          std       min       25%  \\\n",
       "Quantity    541909.0      9.552250   218.081158 -80995.00      1.00   \n",
       "UnitPrice   541909.0      4.611114    96.759853 -11062.06      1.25   \n",
       "CustomerID  541909.0  15287.690570  1484.746010  12346.00  14367.00   \n",
       "\n",
       "                    50%       75%      max  \n",
       "Quantity        3.00000     10.00  80995.0  \n",
       "UnitPrice       2.08000      4.13  38970.0  \n",
       "CustomerID  15287.69057  16255.00  18287.0  "
      ]
     },
     "execution_count": 12,
     "metadata": {},
     "output_type": "execute_result"
    }
   ],
   "source": [
    "df2.describe().T"
   ]
  },
  {
   "cell_type": "code",
   "execution_count": 13,
   "id": "37012620",
   "metadata": {},
   "outputs": [],
   "source": [
    "#From descriptive statistics we can see that some of the order in quantity column are negative quantity.\n",
    "#It occurs when customer returns the defective product.\n",
    "# For total Sale we have to multiply 'Quantity' with 'UnitPrice'\n",
    "# In two ways we can handle negative quantity entries\n",
    "#1- Replace the negative quanity by 0 also so that total sale amount will be 0 for that entry\n",
    "#2- Leave the negative quantity as it is so that total sale will -ve and it will cancel out the +ve sale of that item to balance out"
   ]
  },
  {
   "cell_type": "markdown",
   "id": "ce92fd11",
   "metadata": {},
   "source": [
    "# But at least customer came and buy something so we need to count that sale amount so lets fill -ve qty by 0"
   ]
  },
  {
   "cell_type": "code",
   "execution_count": 23,
   "id": "d13cc853",
   "metadata": {},
   "outputs": [],
   "source": [
    "df2=df2[(df2[\"Quantity\"]>0)]"
   ]
  },
  {
   "cell_type": "code",
   "execution_count": 24,
   "id": "473958a0",
   "metadata": {},
   "outputs": [
    {
     "data": {
      "text/plain": [
       "(397924, 5)"
      ]
     },
     "execution_count": 24,
     "metadata": {},
     "output_type": "execute_result"
    }
   ],
   "source": [
    "df2.shape\n",
    "# By removing negative and 0 quantity items we have reduced 10624 rows but considered the sales done."
   ]
  },
  {
   "cell_type": "code",
   "execution_count": 25,
   "id": "35589e9c",
   "metadata": {},
   "outputs": [
    {
     "data": {
      "text/html": [
       "<div>\n",
       "<style scoped>\n",
       "    .dataframe tbody tr th:only-of-type {\n",
       "        vertical-align: middle;\n",
       "    }\n",
       "\n",
       "    .dataframe tbody tr th {\n",
       "        vertical-align: top;\n",
       "    }\n",
       "\n",
       "    .dataframe thead th {\n",
       "        text-align: right;\n",
       "    }\n",
       "</style>\n",
       "<table border=\"1\" class=\"dataframe\">\n",
       "  <thead>\n",
       "    <tr style=\"text-align: right;\">\n",
       "      <th></th>\n",
       "      <th>InvoiceNo</th>\n",
       "      <th>Quantity</th>\n",
       "      <th>InvoiceDate</th>\n",
       "      <th>UnitPrice</th>\n",
       "      <th>CustomerID</th>\n",
       "      <th>Total</th>\n",
       "    </tr>\n",
       "  </thead>\n",
       "  <tbody>\n",
       "    <tr>\n",
       "      <th>0</th>\n",
       "      <td>536365</td>\n",
       "      <td>6</td>\n",
       "      <td>2010-12-01 08:26:00</td>\n",
       "      <td>2.55</td>\n",
       "      <td>17850.0</td>\n",
       "      <td>15.30</td>\n",
       "    </tr>\n",
       "    <tr>\n",
       "      <th>1</th>\n",
       "      <td>536365</td>\n",
       "      <td>6</td>\n",
       "      <td>2010-12-01 08:26:00</td>\n",
       "      <td>3.39</td>\n",
       "      <td>17850.0</td>\n",
       "      <td>20.34</td>\n",
       "    </tr>\n",
       "    <tr>\n",
       "      <th>2</th>\n",
       "      <td>536365</td>\n",
       "      <td>8</td>\n",
       "      <td>2010-12-01 08:26:00</td>\n",
       "      <td>2.75</td>\n",
       "      <td>17850.0</td>\n",
       "      <td>22.00</td>\n",
       "    </tr>\n",
       "    <tr>\n",
       "      <th>3</th>\n",
       "      <td>536365</td>\n",
       "      <td>6</td>\n",
       "      <td>2010-12-01 08:26:00</td>\n",
       "      <td>3.39</td>\n",
       "      <td>17850.0</td>\n",
       "      <td>20.34</td>\n",
       "    </tr>\n",
       "    <tr>\n",
       "      <th>4</th>\n",
       "      <td>536365</td>\n",
       "      <td>6</td>\n",
       "      <td>2010-12-01 08:26:00</td>\n",
       "      <td>3.39</td>\n",
       "      <td>17850.0</td>\n",
       "      <td>20.34</td>\n",
       "    </tr>\n",
       "  </tbody>\n",
       "</table>\n",
       "</div>"
      ],
      "text/plain": [
       "  InvoiceNo  Quantity         InvoiceDate  UnitPrice  CustomerID  Total\n",
       "0    536365         6 2010-12-01 08:26:00       2.55     17850.0  15.30\n",
       "1    536365         6 2010-12-01 08:26:00       3.39     17850.0  20.34\n",
       "2    536365         8 2010-12-01 08:26:00       2.75     17850.0  22.00\n",
       "3    536365         6 2010-12-01 08:26:00       3.39     17850.0  20.34\n",
       "4    536365         6 2010-12-01 08:26:00       3.39     17850.0  20.34"
      ]
     },
     "execution_count": 25,
     "metadata": {},
     "output_type": "execute_result"
    }
   ],
   "source": [
    "#Creating another column by calculating Total Sale (Sale= Qty x UnitPrice)\n",
    "df2[\"Total\"]=df2[\"Quantity\"]*df2[\"UnitPrice\"]\n",
    "df2.head()"
   ]
  },
  {
   "cell_type": "code",
   "execution_count": 26,
   "id": "e8b523de",
   "metadata": {},
   "outputs": [],
   "source": [
    "#Now we can drop 'Quantity','UnitPrice' feature as well so lets drop and create another data set\n",
    "RFMScore=df2[['CustomerID','InvoiceNo','InvoiceDate','Total']]"
   ]
  },
  {
   "cell_type": "code",
   "execution_count": 27,
   "id": "77acdfd8",
   "metadata": {},
   "outputs": [
    {
     "data": {
      "text/html": [
       "<div>\n",
       "<style scoped>\n",
       "    .dataframe tbody tr th:only-of-type {\n",
       "        vertical-align: middle;\n",
       "    }\n",
       "\n",
       "    .dataframe tbody tr th {\n",
       "        vertical-align: top;\n",
       "    }\n",
       "\n",
       "    .dataframe thead th {\n",
       "        text-align: right;\n",
       "    }\n",
       "</style>\n",
       "<table border=\"1\" class=\"dataframe\">\n",
       "  <thead>\n",
       "    <tr style=\"text-align: right;\">\n",
       "      <th></th>\n",
       "      <th>CustomerID</th>\n",
       "      <th>InvoiceNo</th>\n",
       "      <th>InvoiceDate</th>\n",
       "      <th>Total</th>\n",
       "    </tr>\n",
       "  </thead>\n",
       "  <tbody>\n",
       "    <tr>\n",
       "      <th>0</th>\n",
       "      <td>17850.0</td>\n",
       "      <td>536365</td>\n",
       "      <td>2010-12-01 08:26:00</td>\n",
       "      <td>15.30</td>\n",
       "    </tr>\n",
       "    <tr>\n",
       "      <th>1</th>\n",
       "      <td>17850.0</td>\n",
       "      <td>536365</td>\n",
       "      <td>2010-12-01 08:26:00</td>\n",
       "      <td>20.34</td>\n",
       "    </tr>\n",
       "    <tr>\n",
       "      <th>2</th>\n",
       "      <td>17850.0</td>\n",
       "      <td>536365</td>\n",
       "      <td>2010-12-01 08:26:00</td>\n",
       "      <td>22.00</td>\n",
       "    </tr>\n",
       "    <tr>\n",
       "      <th>3</th>\n",
       "      <td>17850.0</td>\n",
       "      <td>536365</td>\n",
       "      <td>2010-12-01 08:26:00</td>\n",
       "      <td>20.34</td>\n",
       "    </tr>\n",
       "    <tr>\n",
       "      <th>4</th>\n",
       "      <td>17850.0</td>\n",
       "      <td>536365</td>\n",
       "      <td>2010-12-01 08:26:00</td>\n",
       "      <td>20.34</td>\n",
       "    </tr>\n",
       "  </tbody>\n",
       "</table>\n",
       "</div>"
      ],
      "text/plain": [
       "   CustomerID InvoiceNo         InvoiceDate  Total\n",
       "0     17850.0    536365 2010-12-01 08:26:00  15.30\n",
       "1     17850.0    536365 2010-12-01 08:26:00  20.34\n",
       "2     17850.0    536365 2010-12-01 08:26:00  22.00\n",
       "3     17850.0    536365 2010-12-01 08:26:00  20.34\n",
       "4     17850.0    536365 2010-12-01 08:26:00  20.34"
      ]
     },
     "execution_count": 27,
     "metadata": {},
     "output_type": "execute_result"
    }
   ],
   "source": [
    "RFMScore.head()"
   ]
  },
  {
   "cell_type": "code",
   "execution_count": 28,
   "id": "8370879e",
   "metadata": {},
   "outputs": [
    {
     "data": {
      "text/html": [
       "<div>\n",
       "<style scoped>\n",
       "    .dataframe tbody tr th:only-of-type {\n",
       "        vertical-align: middle;\n",
       "    }\n",
       "\n",
       "    .dataframe tbody tr th {\n",
       "        vertical-align: top;\n",
       "    }\n",
       "\n",
       "    .dataframe thead th {\n",
       "        text-align: right;\n",
       "    }\n",
       "</style>\n",
       "<table border=\"1\" class=\"dataframe\">\n",
       "  <thead>\n",
       "    <tr style=\"text-align: right;\">\n",
       "      <th></th>\n",
       "      <th>InvoiceNo</th>\n",
       "      <th>InvoiceDate</th>\n",
       "      <th>CustomerID</th>\n",
       "      <th>Total</th>\n",
       "    </tr>\n",
       "  </thead>\n",
       "  <tbody>\n",
       "    <tr>\n",
       "      <th>0</th>\n",
       "      <td>536365</td>\n",
       "      <td>2010-12-01 08:26:00</td>\n",
       "      <td>17850.0</td>\n",
       "      <td>139.12</td>\n",
       "    </tr>\n",
       "    <tr>\n",
       "      <th>1</th>\n",
       "      <td>536366</td>\n",
       "      <td>2010-12-01 08:28:00</td>\n",
       "      <td>17850.0</td>\n",
       "      <td>22.20</td>\n",
       "    </tr>\n",
       "    <tr>\n",
       "      <th>2</th>\n",
       "      <td>536367</td>\n",
       "      <td>2010-12-01 08:34:00</td>\n",
       "      <td>13047.0</td>\n",
       "      <td>278.73</td>\n",
       "    </tr>\n",
       "    <tr>\n",
       "      <th>3</th>\n",
       "      <td>536368</td>\n",
       "      <td>2010-12-01 08:34:00</td>\n",
       "      <td>13047.0</td>\n",
       "      <td>70.05</td>\n",
       "    </tr>\n",
       "    <tr>\n",
       "      <th>4</th>\n",
       "      <td>536369</td>\n",
       "      <td>2010-12-01 08:35:00</td>\n",
       "      <td>13047.0</td>\n",
       "      <td>17.85</td>\n",
       "    </tr>\n",
       "  </tbody>\n",
       "</table>\n",
       "</div>"
      ],
      "text/plain": [
       "   InvoiceNo         InvoiceDate  CustomerID   Total\n",
       "0     536365 2010-12-01 08:26:00     17850.0  139.12\n",
       "1     536366 2010-12-01 08:28:00     17850.0   22.20\n",
       "2     536367 2010-12-01 08:34:00     13047.0  278.73\n",
       "3     536368 2010-12-01 08:34:00     13047.0   70.05\n",
       "4     536369 2010-12-01 08:35:00     13047.0   17.85"
      ]
     },
     "execution_count": 28,
     "metadata": {},
     "output_type": "execute_result"
    }
   ],
   "source": [
    "#For every item there is different entry for same invoice number \n",
    "#so to get total sale we have to add total of same invoice-We can apply gropuby and sum function to get total sale of an Invoice\n",
    "RFMScore=RFMScore.groupby(['InvoiceNo','InvoiceDate','CustomerID']).agg({'Total':'sum'}).reset_index()\n",
    "RFMScore.head()"
   ]
  },
  {
   "cell_type": "code",
   "execution_count": 29,
   "id": "7cf8ce00",
   "metadata": {},
   "outputs": [
    {
     "data": {
      "text/plain": [
       "(18566, 4)"
      ]
     },
     "execution_count": 29,
     "metadata": {},
     "output_type": "execute_result"
    }
   ],
   "source": [
    "RFMScore.shape"
   ]
  },
  {
   "cell_type": "markdown",
   "id": "64ac0e64",
   "metadata": {},
   "source": [
    "# Customer Classification on basis of Recency, Frequency, Monetary - \n",
    "\n",
    "1.Recency- How recently visited\n",
    "\n",
    "2.Frequency-Total how many times visited\n",
    "\n",
    "3.Monetary- Total amount spend in visit"
   ]
  },
  {
   "cell_type": "code",
   "execution_count": 30,
   "id": "9f960918",
   "metadata": {},
   "outputs": [
    {
     "data": {
      "text/plain": [
       "Timestamp('2011-12-09 12:50:00')"
      ]
     },
     "execution_count": 30,
     "metadata": {},
     "output_type": "execute_result"
    }
   ],
   "source": [
    "# check the latest date or last date of dataset\n",
    "max(RFMScore[\"InvoiceDate\"])"
   ]
  },
  {
   "cell_type": "code",
   "execution_count": 31,
   "id": "5a4bb2b2",
   "metadata": {},
   "outputs": [
    {
     "data": {
      "text/plain": [
       "Timestamp('2010-12-01 08:26:00')"
      ]
     },
     "execution_count": 31,
     "metadata": {},
     "output_type": "execute_result"
    }
   ],
   "source": [
    "# check the starting date of dataset\n",
    "min(RFMScore[\"InvoiceDate\"])"
   ]
  },
  {
   "cell_type": "markdown",
   "id": "8712a810",
   "metadata": {},
   "source": [
    "From start date and last date we can conclude that this datset is for 1 year (Dec 2010 to Dec 2011)"
   ]
  },
  {
   "cell_type": "code",
   "execution_count": 32,
   "id": "0c5fec94",
   "metadata": {},
   "outputs": [
    {
     "data": {
      "text/plain": [
       "datetime.datetime(2011, 12, 10, 0, 0)"
      ]
     },
     "execution_count": 32,
     "metadata": {},
     "output_type": "execute_result"
    }
   ],
   "source": [
    "import datetime as dt\n",
    "latest_date=dt.datetime(2011,12,10)\n",
    "latest_date"
   ]
  },
  {
   "cell_type": "markdown",
   "id": "b41267d9",
   "metadata": {},
   "source": [
    " By keeping reference as customer id -\n",
    "\n",
    "1.Recency- Difference between last invoice date and the latest date- From 'InvoiceDate' column\n",
    "\n",
    "2.Frequency- Counts of invoice no. - From 'InvoiceNo' column\n",
    "\n",
    "3.Monetary-  Sum of total.- From 'Total' column\n",
    "\n",
    "\n",
    " Now we shall compute -\n",
    "(a) Recency:-the number of days between the present date and the date of last purchase from each customer.\n",
    "\n",
    "(b) Frequency:-the number of order for each customer\n",
    "\n",
    "(c) Monetary:-the sum of purchase price for each customer.\n"
   ]
  },
  {
   "cell_type": "code",
   "execution_count": 33,
   "id": "40f5e3cc",
   "metadata": {},
   "outputs": [],
   "source": [
    "# Using dictionary format in agg function to apply column wise :\n",
    "RFMScore=RFMScore.groupby(\"CustomerID\").agg({\"InvoiceDate\":lambda x:(latest_date-x.max()).days,\n",
    "                                             \"InvoiceNo\":lambda x:x.count(),\n",
    "                                             \"Total\":lambda x:x.sum()}).reset_index()"
   ]
  },
  {
   "cell_type": "code",
   "execution_count": 34,
   "id": "909a8f9f",
   "metadata": {},
   "outputs": [
    {
     "data": {
      "text/html": [
       "<div>\n",
       "<style scoped>\n",
       "    .dataframe tbody tr th:only-of-type {\n",
       "        vertical-align: middle;\n",
       "    }\n",
       "\n",
       "    .dataframe tbody tr th {\n",
       "        vertical-align: top;\n",
       "    }\n",
       "\n",
       "    .dataframe thead th {\n",
       "        text-align: right;\n",
       "    }\n",
       "</style>\n",
       "<table border=\"1\" class=\"dataframe\">\n",
       "  <thead>\n",
       "    <tr style=\"text-align: right;\">\n",
       "      <th></th>\n",
       "      <th>CustomerID</th>\n",
       "      <th>InvoiceDate</th>\n",
       "      <th>InvoiceNo</th>\n",
       "      <th>Total</th>\n",
       "    </tr>\n",
       "  </thead>\n",
       "  <tbody>\n",
       "    <tr>\n",
       "      <th>0</th>\n",
       "      <td>12346.0</td>\n",
       "      <td>325</td>\n",
       "      <td>1</td>\n",
       "      <td>77183.60</td>\n",
       "    </tr>\n",
       "    <tr>\n",
       "      <th>1</th>\n",
       "      <td>12347.0</td>\n",
       "      <td>2</td>\n",
       "      <td>7</td>\n",
       "      <td>4310.00</td>\n",
       "    </tr>\n",
       "    <tr>\n",
       "      <th>2</th>\n",
       "      <td>12348.0</td>\n",
       "      <td>75</td>\n",
       "      <td>4</td>\n",
       "      <td>1797.24</td>\n",
       "    </tr>\n",
       "    <tr>\n",
       "      <th>3</th>\n",
       "      <td>12349.0</td>\n",
       "      <td>18</td>\n",
       "      <td>1</td>\n",
       "      <td>1757.55</td>\n",
       "    </tr>\n",
       "    <tr>\n",
       "      <th>4</th>\n",
       "      <td>12350.0</td>\n",
       "      <td>310</td>\n",
       "      <td>1</td>\n",
       "      <td>334.40</td>\n",
       "    </tr>\n",
       "  </tbody>\n",
       "</table>\n",
       "</div>"
      ],
      "text/plain": [
       "   CustomerID  InvoiceDate  InvoiceNo     Total\n",
       "0     12346.0          325          1  77183.60\n",
       "1     12347.0            2          7   4310.00\n",
       "2     12348.0           75          4   1797.24\n",
       "3     12349.0           18          1   1757.55\n",
       "4     12350.0          310          1    334.40"
      ]
     },
     "execution_count": 34,
     "metadata": {},
     "output_type": "execute_result"
    }
   ],
   "source": [
    "RFMScore.head()"
   ]
  },
  {
   "cell_type": "code",
   "execution_count": 51,
   "id": "169cd73b",
   "metadata": {},
   "outputs": [],
   "source": [
    "# rename the columns \n",
    "RFMScore=RFMScore.rename(columns={\"InvoiceDate\":\"Recency\",\"InvoiceNo\":\"Frequency\",\"Total\":\"Monetary\"})"
   ]
  },
  {
   "cell_type": "code",
   "execution_count": 52,
   "id": "917d3a71",
   "metadata": {},
   "outputs": [
    {
     "data": {
      "text/html": [
       "<div>\n",
       "<style scoped>\n",
       "    .dataframe tbody tr th:only-of-type {\n",
       "        vertical-align: middle;\n",
       "    }\n",
       "\n",
       "    .dataframe tbody tr th {\n",
       "        vertical-align: top;\n",
       "    }\n",
       "\n",
       "    .dataframe thead th {\n",
       "        text-align: right;\n",
       "    }\n",
       "</style>\n",
       "<table border=\"1\" class=\"dataframe\">\n",
       "  <thead>\n",
       "    <tr style=\"text-align: right;\">\n",
       "      <th></th>\n",
       "      <th>CustomerID</th>\n",
       "      <th>Recency</th>\n",
       "      <th>Frequency</th>\n",
       "      <th>Monetary</th>\n",
       "    </tr>\n",
       "  </thead>\n",
       "  <tbody>\n",
       "    <tr>\n",
       "      <th>0</th>\n",
       "      <td>12346.0</td>\n",
       "      <td>325</td>\n",
       "      <td>1</td>\n",
       "      <td>77183.60</td>\n",
       "    </tr>\n",
       "    <tr>\n",
       "      <th>1</th>\n",
       "      <td>12347.0</td>\n",
       "      <td>2</td>\n",
       "      <td>7</td>\n",
       "      <td>4310.00</td>\n",
       "    </tr>\n",
       "    <tr>\n",
       "      <th>2</th>\n",
       "      <td>12348.0</td>\n",
       "      <td>75</td>\n",
       "      <td>4</td>\n",
       "      <td>1797.24</td>\n",
       "    </tr>\n",
       "    <tr>\n",
       "      <th>3</th>\n",
       "      <td>12349.0</td>\n",
       "      <td>18</td>\n",
       "      <td>1</td>\n",
       "      <td>1757.55</td>\n",
       "    </tr>\n",
       "    <tr>\n",
       "      <th>4</th>\n",
       "      <td>12350.0</td>\n",
       "      <td>310</td>\n",
       "      <td>1</td>\n",
       "      <td>334.40</td>\n",
       "    </tr>\n",
       "  </tbody>\n",
       "</table>\n",
       "</div>"
      ],
      "text/plain": [
       "   CustomerID  Recency  Frequency  Monetary\n",
       "0     12346.0      325          1  77183.60\n",
       "1     12347.0        2          7   4310.00\n",
       "2     12348.0       75          4   1797.24\n",
       "3     12349.0       18          1   1757.55\n",
       "4     12350.0      310          1    334.40"
      ]
     },
     "execution_count": 52,
     "metadata": {},
     "output_type": "execute_result"
    }
   ],
   "source": [
    "RFMScore.head()"
   ]
  },
  {
   "cell_type": "markdown",
   "id": "aab7d4f7",
   "metadata": {},
   "source": [
    "Now we have to set benchmark for R,F,M to assign scores so that segmentation can be done as per total score.\n",
    "The benchmark can be based on percentile so lets see the five point summary of RFM score data"
   ]
  },
  {
   "cell_type": "code",
   "execution_count": 36,
   "id": "098eb4cb",
   "metadata": {},
   "outputs": [
    {
     "data": {
      "text/html": [
       "<div>\n",
       "<style scoped>\n",
       "    .dataframe tbody tr th:only-of-type {\n",
       "        vertical-align: middle;\n",
       "    }\n",
       "\n",
       "    .dataframe tbody tr th {\n",
       "        vertical-align: top;\n",
       "    }\n",
       "\n",
       "    .dataframe thead th {\n",
       "        text-align: right;\n",
       "    }\n",
       "</style>\n",
       "<table border=\"1\" class=\"dataframe\">\n",
       "  <thead>\n",
       "    <tr style=\"text-align: right;\">\n",
       "      <th></th>\n",
       "      <th>CustomerID</th>\n",
       "      <th>Recency</th>\n",
       "      <th>Frequency</th>\n",
       "      <th>Monetary</th>\n",
       "    </tr>\n",
       "  </thead>\n",
       "  <tbody>\n",
       "    <tr>\n",
       "      <th>count</th>\n",
       "      <td>4339.000000</td>\n",
       "      <td>4339.000000</td>\n",
       "      <td>4339.000000</td>\n",
       "      <td>4339.000000</td>\n",
       "    </tr>\n",
       "    <tr>\n",
       "      <th>mean</th>\n",
       "      <td>15299.936852</td>\n",
       "      <td>92.041484</td>\n",
       "      <td>4.278866</td>\n",
       "      <td>2053.793018</td>\n",
       "    </tr>\n",
       "    <tr>\n",
       "      <th>std</th>\n",
       "      <td>1721.889758</td>\n",
       "      <td>100.007757</td>\n",
       "      <td>7.727621</td>\n",
       "      <td>8988.248381</td>\n",
       "    </tr>\n",
       "    <tr>\n",
       "      <th>min</th>\n",
       "      <td>12346.000000</td>\n",
       "      <td>0.000000</td>\n",
       "      <td>1.000000</td>\n",
       "      <td>0.000000</td>\n",
       "    </tr>\n",
       "    <tr>\n",
       "      <th>25%</th>\n",
       "      <td>13812.500000</td>\n",
       "      <td>17.000000</td>\n",
       "      <td>1.000000</td>\n",
       "      <td>307.245000</td>\n",
       "    </tr>\n",
       "    <tr>\n",
       "      <th>50%</th>\n",
       "      <td>15299.000000</td>\n",
       "      <td>50.000000</td>\n",
       "      <td>2.000000</td>\n",
       "      <td>674.450000</td>\n",
       "    </tr>\n",
       "    <tr>\n",
       "      <th>75%</th>\n",
       "      <td>16778.500000</td>\n",
       "      <td>141.500000</td>\n",
       "      <td>5.000000</td>\n",
       "      <td>1661.640000</td>\n",
       "    </tr>\n",
       "    <tr>\n",
       "      <th>max</th>\n",
       "      <td>18287.000000</td>\n",
       "      <td>373.000000</td>\n",
       "      <td>211.000000</td>\n",
       "      <td>280206.020000</td>\n",
       "    </tr>\n",
       "  </tbody>\n",
       "</table>\n",
       "</div>"
      ],
      "text/plain": [
       "         CustomerID      Recency    Frequency       Monetary\n",
       "count   4339.000000  4339.000000  4339.000000    4339.000000\n",
       "mean   15299.936852    92.041484     4.278866    2053.793018\n",
       "std     1721.889758   100.007757     7.727621    8988.248381\n",
       "min    12346.000000     0.000000     1.000000       0.000000\n",
       "25%    13812.500000    17.000000     1.000000     307.245000\n",
       "50%    15299.000000    50.000000     2.000000     674.450000\n",
       "75%    16778.500000   141.500000     5.000000    1661.640000\n",
       "max    18287.000000   373.000000   211.000000  280206.020000"
      ]
     },
     "execution_count": 36,
     "metadata": {},
     "output_type": "execute_result"
    }
   ],
   "source": [
    "RFMScore.describe()"
   ]
  },
  {
   "cell_type": "code",
   "execution_count": 29,
   "id": "9550369b",
   "metadata": {},
   "outputs": [
    {
     "data": {
      "text/plain": [
       "<AxesSubplot:xlabel='Recency', ylabel='Proportion'>"
      ]
     },
     "execution_count": 29,
     "metadata": {},
     "output_type": "execute_result"
    },
    {
     "data": {
      "image/png": "[encoded data removed]",
      "text/plain": [
       "<Figure size 640x480 with 1 Axes>"
      ]
     },
     "metadata": {},
     "output_type": "display_data"
    }
   ],
   "source": [
    "sns.ecdfplot(data=RFMScore['Recency'])"
   ]
  },
  {
   "cell_type": "code",
   "execution_count": 30,
   "id": "3dce2835",
   "metadata": {},
   "outputs": [
    {
     "data": {
      "text/plain": [
       "<AxesSubplot:xlabel='Frequency', ylabel='Proportion'>"
      ]
     },
     "execution_count": 30,
     "metadata": {},
     "output_type": "execute_result"
    },
    {
     "data": {
      "image/png": "[encoded data removed]",
      "text/plain": [
       "<Figure size 640x480 with 1 Axes>"
      ]
     },
     "metadata": {},
     "output_type": "display_data"
    }
   ],
   "source": [
    "sns.ecdfplot(data=RFMScore['Frequency'])"
   ]
  },
  {
   "cell_type": "code",
   "execution_count": 31,
   "id": "7d3ca6db",
   "metadata": {},
   "outputs": [
    {
     "data": {
      "text/plain": [
       "<AxesSubplot:xlabel='Monetary', ylabel='Proportion'>"
      ]
     },
     "execution_count": 31,
     "metadata": {},
     "output_type": "execute_result"
    },
    {
     "data": {
      "image/png": "[encoded data removed]",
      "text/plain": [
       "<Figure size 640x480 with 1 Axes>"
      ]
     },
     "metadata": {},
     "output_type": "display_data"
    }
   ],
   "source": [
    "sns.ecdfplot(data=RFMScore['Monetary'])"
   ]
  },
  {
   "cell_type": "code",
   "execution_count": 32,
   "id": "d6da4bae",
   "metadata": {},
   "outputs": [
    {
     "data": {
      "text/plain": [
       "<seaborn.axisgrid.FacetGrid at 0x1d63c70d910>"
      ]
     },
     "execution_count": 32,
     "metadata": {},
     "output_type": "execute_result"
    },
    {
     "data": {
      "image/png": "[encoded data removed]",
      "text/plain": [
       "<Figure size 500x500 with 1 Axes>"
      ]
     },
     "metadata": {},
     "output_type": "display_data"
    }
   ],
   "source": [
    "sns.displot(x=RFMScore['Recency'])"
   ]
  },
  {
   "cell_type": "code",
   "execution_count": 33,
   "id": "035b8b25",
   "metadata": {},
   "outputs": [
    {
     "data": {
      "text/plain": [
       "<seaborn.axisgrid.FacetGrid at 0x1d63c70dbb0>"
      ]
     },
     "execution_count": 33,
     "metadata": {},
     "output_type": "execute_result"
    },
    {
     "data": {
      "image/png": "[encoded data removed]",
      "text/plain": [
       "<Figure size 500x500 with 1 Axes>"
      ]
     },
     "metadata": {},
     "output_type": "display_data"
    }
   ],
   "source": [
    "sns.displot(x=RFMScore['Frequency'])"
   ]
  },
  {
   "cell_type": "code",
   "execution_count": 34,
   "id": "c793f7a0",
   "metadata": {},
   "outputs": [
    {
     "data": {
      "text/plain": [
       "<seaborn.axisgrid.FacetGrid at 0x1d63e8b2f40>"
      ]
     },
     "execution_count": 34,
     "metadata": {},
     "output_type": "execute_result"
    },
    {
     "data": {
      "image/png": "[encoded data removed]",
      "text/plain": [
       "<Figure size 500x500 with 1 Axes>"
      ]
     },
     "metadata": {},
     "output_type": "display_data"
    }
   ],
   "source": [
    "sns.displot(x=RFMScore['Monetary'])"
   ]
  },
  {
   "cell_type": "code",
   "execution_count": 37,
   "id": "37515300",
   "metadata": {},
   "outputs": [
    {
     "data": {
      "text/plain": [
       "0.39     31.0\n",
       "0.50     50.0\n",
       "0.75    141.5\n",
       "Name: Recency, dtype: float64"
      ]
     },
     "execution_count": 37,
     "metadata": {},
     "output_type": "execute_result"
    }
   ],
   "source": [
    "RFMScore['Recency'].quantile(q=[0.39,0.50,0.75])"
   ]
  },
  {
   "cell_type": "code",
   "execution_count": 38,
   "id": "f3164408",
   "metadata": {},
   "outputs": [
    {
     "data": {
      "text/plain": [
       "0.75     5.0\n",
       "0.95    13.0\n",
       "0.99    30.0\n",
       "Name: Frequency, dtype: float64"
      ]
     },
     "execution_count": 38,
     "metadata": {},
     "output_type": "execute_result"
    }
   ],
   "source": [
    "RFMScore['Frequency'].quantile(q=[0.75,0.95,0.99])"
   ]
  },
  {
   "cell_type": "code",
   "execution_count": 39,
   "id": "c57ed033",
   "metadata": {},
   "outputs": [
    {
     "data": {
      "text/plain": [
       "0.75     1661.6400\n",
       "0.95     5840.1820\n",
       "0.99    19880.0918\n",
       "Name: Monetary, dtype: float64"
      ]
     },
     "execution_count": 39,
     "metadata": {},
     "output_type": "execute_result"
    }
   ],
   "source": [
    "RFMScore['Monetary'].quantile(q=[0.75,0.95,0.99])"
   ]
  },
  {
   "cell_type": "code",
   "execution_count": 38,
   "id": "cbdad610",
   "metadata": {},
   "outputs": [
    {
     "data": {
      "text/html": [
       "<div>\n",
       "<style scoped>\n",
       "    .dataframe tbody tr th:only-of-type {\n",
       "        vertical-align: middle;\n",
       "    }\n",
       "\n",
       "    .dataframe tbody tr th {\n",
       "        vertical-align: top;\n",
       "    }\n",
       "\n",
       "    .dataframe thead th {\n",
       "        text-align: right;\n",
       "    }\n",
       "</style>\n",
       "<table border=\"1\" class=\"dataframe\">\n",
       "  <thead>\n",
       "    <tr style=\"text-align: right;\">\n",
       "      <th></th>\n",
       "      <th>CustomerID</th>\n",
       "      <th>Recency</th>\n",
       "      <th>Frequency</th>\n",
       "      <th>Monetary</th>\n",
       "    </tr>\n",
       "  </thead>\n",
       "  <tbody>\n",
       "    <tr>\n",
       "      <th>count</th>\n",
       "      <td>4340.000000</td>\n",
       "      <td>4340.000000</td>\n",
       "      <td>4340.000000</td>\n",
       "      <td>4.340000e+03</td>\n",
       "    </tr>\n",
       "    <tr>\n",
       "      <th>mean</th>\n",
       "      <td>15299.934030</td>\n",
       "      <td>92.020276</td>\n",
       "      <td>4.785714</td>\n",
       "      <td>2.452664e+03</td>\n",
       "    </tr>\n",
       "    <tr>\n",
       "      <th>std</th>\n",
       "      <td>1721.691336</td>\n",
       "      <td>100.005992</td>\n",
       "      <td>34.272832</td>\n",
       "      <td>2.777147e+04</td>\n",
       "    </tr>\n",
       "    <tr>\n",
       "      <th>min</th>\n",
       "      <td>12346.000000</td>\n",
       "      <td>0.000000</td>\n",
       "      <td>1.000000</td>\n",
       "      <td>0.000000e+00</td>\n",
       "    </tr>\n",
       "    <tr>\n",
       "      <th>25%</th>\n",
       "      <td>13812.750000</td>\n",
       "      <td>17.000000</td>\n",
       "      <td>1.000000</td>\n",
       "      <td>3.073225e+02</td>\n",
       "    </tr>\n",
       "    <tr>\n",
       "      <th>50%</th>\n",
       "      <td>15298.500000</td>\n",
       "      <td>50.000000</td>\n",
       "      <td>2.000000</td>\n",
       "      <td>6.744850e+02</td>\n",
       "    </tr>\n",
       "    <tr>\n",
       "      <th>75%</th>\n",
       "      <td>16778.250000</td>\n",
       "      <td>141.250000</td>\n",
       "      <td>5.000000</td>\n",
       "      <td>1.661950e+03</td>\n",
       "    </tr>\n",
       "    <tr>\n",
       "      <th>max</th>\n",
       "      <td>18287.000000</td>\n",
       "      <td>373.000000</td>\n",
       "      <td>2204.000000</td>\n",
       "      <td>1.733153e+06</td>\n",
       "    </tr>\n",
       "  </tbody>\n",
       "</table>\n",
       "</div>"
      ],
      "text/plain": [
       "         CustomerID      Recency    Frequency      Monetary\n",
       "count   4340.000000  4340.000000  4340.000000  4.340000e+03\n",
       "mean   15299.934030    92.020276     4.785714  2.452664e+03\n",
       "std     1721.691336   100.005992    34.272832  2.777147e+04\n",
       "min    12346.000000     0.000000     1.000000  0.000000e+00\n",
       "25%    13812.750000    17.000000     1.000000  3.073225e+02\n",
       "50%    15298.500000    50.000000     2.000000  6.744850e+02\n",
       "75%    16778.250000   141.250000     5.000000  1.661950e+03\n",
       "max    18287.000000   373.000000  2204.000000  1.733153e+06"
      ]
     },
     "execution_count": 38,
     "metadata": {},
     "output_type": "execute_result"
    }
   ],
   "source": [
    "RFMScore.describe()"
   ]
  },
  {
   "cell_type": "code",
   "execution_count": 53,
   "id": "6ffbce55",
   "metadata": {},
   "outputs": [],
   "source": [
    "quantile100=RFMScore.quantile(q=[0.39,0.56,0.72])#Recency\n",
    "quantile200=RFMScore.quantile(q=[0.75,0.94,0.977,0.995])#Frequency\n",
    "quantile300=RFMScore.quantile(q=[0.62,0.80,0.938,0.9915,0.9985])#Monetary"
   ]
  },
  {
   "cell_type": "code",
   "execution_count": 46,
   "id": "0b768998",
   "metadata": {},
   "outputs": [
    {
     "data": {
      "text/html": [
       "<div>\n",
       "<style scoped>\n",
       "    .dataframe tbody tr th:only-of-type {\n",
       "        vertical-align: middle;\n",
       "    }\n",
       "\n",
       "    .dataframe tbody tr th {\n",
       "        vertical-align: top;\n",
       "    }\n",
       "\n",
       "    .dataframe thead th {\n",
       "        text-align: right;\n",
       "    }\n",
       "</style>\n",
       "<table border=\"1\" class=\"dataframe\">\n",
       "  <thead>\n",
       "    <tr style=\"text-align: right;\">\n",
       "      <th></th>\n",
       "      <th>CustomerID</th>\n",
       "      <th>Recency</th>\n",
       "      <th>Frequency</th>\n",
       "      <th>Monetary</th>\n",
       "    </tr>\n",
       "  </thead>\n",
       "  <tbody>\n",
       "    <tr>\n",
       "      <th>0.39</th>\n",
       "      <td>14648.64</td>\n",
       "      <td>31.00</td>\n",
       "      <td>2.0</td>\n",
       "      <td>472.7968</td>\n",
       "    </tr>\n",
       "    <tr>\n",
       "      <th>0.56</th>\n",
       "      <td>15652.28</td>\n",
       "      <td>63.00</td>\n",
       "      <td>3.0</td>\n",
       "      <td>813.6544</td>\n",
       "    </tr>\n",
       "    <tr>\n",
       "      <th>0.72</th>\n",
       "      <td>16610.36</td>\n",
       "      <td>120.36</td>\n",
       "      <td>4.0</td>\n",
       "      <td>1472.1016</td>\n",
       "    </tr>\n",
       "  </tbody>\n",
       "</table>\n",
       "</div>"
      ],
      "text/plain": [
       "      CustomerID  Recency  Frequency   Monetary\n",
       "0.39    14648.64    31.00        2.0   472.7968\n",
       "0.56    15652.28    63.00        3.0   813.6544\n",
       "0.72    16610.36   120.36        4.0  1472.1016"
      ]
     },
     "execution_count": 46,
     "metadata": {},
     "output_type": "execute_result"
    }
   ],
   "source": [
    "quantile100  #so quantile100 is a DataFrame"
   ]
  },
  {
   "cell_type": "markdown",
   "id": "946d539d",
   "metadata": {},
   "source": [
    "# Function for R,F,M scoring"
   ]
  },
  {
   "cell_type": "code",
   "execution_count": 54,
   "id": "fa387353",
   "metadata": {},
   "outputs": [],
   "source": [
    "# less the recency, higher the scoring\n",
    "# x=Recency/Frequency/Monetary value; \n",
    "# d,p= the quantile dataframe no. of row,no. of column\n",
    "\n",
    "def RScoring(x,d,p):\n",
    "    if x<=d[p][0.39]:\n",
    "        return 4\n",
    "    elif x<=d[p][0.56]:\n",
    "        return 3\n",
    "    elif x<=d[p][0.72]:\n",
    "        return 2\n",
    "    else:\n",
    "        return 1\n",
    "    "
   ]
  },
  {
   "cell_type": "code",
   "execution_count": 55,
   "id": "64b586a3",
   "metadata": {},
   "outputs": [],
   "source": [
    "# Less the frequency, lesser the scoring\n",
    "def FScoring(x,d,p):\n",
    "    if x<=d[p][0.75]:\n",
    "        return 1\n",
    "    elif x<=d[p][0.94]:\n",
    "        return 2\n",
    "    elif x<=d[p][0.977]:\n",
    "        return 3\n",
    "    elif x<=d[p][0.995]:\n",
    "        return 4\n",
    "    else:\n",
    "        return 5\n",
    "    "
   ]
  },
  {
   "cell_type": "code",
   "execution_count": 56,
   "id": "3b720173",
   "metadata": {},
   "outputs": [],
   "source": [
    "# Less the monetary, lesser the scoring\n",
    "def MScoring(x,d,p):\n",
    "    if x<=d[p][0.62]:\n",
    "        return 1\n",
    "    elif x<=d[p][0.80]:\n",
    "        return 2\n",
    "    elif x<=d[p][0.938]:\n",
    "        return 3\n",
    "    elif x<=d[p][0.9915]:\n",
    "        return 4\n",
    "    else:\n",
    "        return 5\n",
    " "
   ]
  },
  {
   "cell_type": "markdown",
   "id": "f1adbeae",
   "metadata": {},
   "source": [
    "Calculating RFM score of each customer by applying respective score function"
   ]
  },
  {
   "cell_type": "code",
   "execution_count": 59,
   "id": "262d6bd2",
   "metadata": {},
   "outputs": [],
   "source": [
    "RFMScore[\"R\"]=RFMScore[\"Recency\"].apply(RScoring,args=(quantile100,\"Recency\"))   \n",
    "RFMScore[\"F\"]=RFMScore[\"Frequency\"].apply(FScoring,args=(quantile200,\"Frequency\"))\n",
    "RFMScore[\"M\"]=RFMScore[\"Monetary\"].apply(MScoring,args=(quantile300,\"Monetary\"))"
   ]
  },
  {
   "cell_type": "markdown",
   "id": "2db51a3f",
   "metadata": {},
   "source": [
    "Function arguments for RScoring: x-RFMScore[\"Recency\"] ;  d - dataframe of RScoring ; p - \"Recency\" column"
   ]
  },
  {
   "cell_type": "code",
   "execution_count": 60,
   "id": "1dfda3b7",
   "metadata": {},
   "outputs": [
    {
     "data": {
      "text/html": [
       "<div>\n",
       "<style scoped>\n",
       "    .dataframe tbody tr th:only-of-type {\n",
       "        vertical-align: middle;\n",
       "    }\n",
       "\n",
       "    .dataframe tbody tr th {\n",
       "        vertical-align: top;\n",
       "    }\n",
       "\n",
       "    .dataframe thead th {\n",
       "        text-align: right;\n",
       "    }\n",
       "</style>\n",
       "<table border=\"1\" class=\"dataframe\">\n",
       "  <thead>\n",
       "    <tr style=\"text-align: right;\">\n",
       "      <th></th>\n",
       "      <th>CustomerID</th>\n",
       "      <th>Recency</th>\n",
       "      <th>Frequency</th>\n",
       "      <th>Monetary</th>\n",
       "      <th>R</th>\n",
       "      <th>F</th>\n",
       "      <th>M</th>\n",
       "    </tr>\n",
       "  </thead>\n",
       "  <tbody>\n",
       "    <tr>\n",
       "      <th>0</th>\n",
       "      <td>12346.0</td>\n",
       "      <td>325</td>\n",
       "      <td>1</td>\n",
       "      <td>77183.60</td>\n",
       "      <td>1</td>\n",
       "      <td>1</td>\n",
       "      <td>5</td>\n",
       "    </tr>\n",
       "    <tr>\n",
       "      <th>1</th>\n",
       "      <td>12347.0</td>\n",
       "      <td>2</td>\n",
       "      <td>7</td>\n",
       "      <td>4310.00</td>\n",
       "      <td>4</td>\n",
       "      <td>2</td>\n",
       "      <td>3</td>\n",
       "    </tr>\n",
       "    <tr>\n",
       "      <th>2</th>\n",
       "      <td>12348.0</td>\n",
       "      <td>75</td>\n",
       "      <td>4</td>\n",
       "      <td>1797.24</td>\n",
       "      <td>2</td>\n",
       "      <td>1</td>\n",
       "      <td>2</td>\n",
       "    </tr>\n",
       "    <tr>\n",
       "      <th>3</th>\n",
       "      <td>12349.0</td>\n",
       "      <td>18</td>\n",
       "      <td>1</td>\n",
       "      <td>1757.55</td>\n",
       "      <td>4</td>\n",
       "      <td>1</td>\n",
       "      <td>2</td>\n",
       "    </tr>\n",
       "    <tr>\n",
       "      <th>4</th>\n",
       "      <td>12350.0</td>\n",
       "      <td>310</td>\n",
       "      <td>1</td>\n",
       "      <td>334.40</td>\n",
       "      <td>1</td>\n",
       "      <td>1</td>\n",
       "      <td>1</td>\n",
       "    </tr>\n",
       "  </tbody>\n",
       "</table>\n",
       "</div>"
      ],
      "text/plain": [
       "   CustomerID  Recency  Frequency  Monetary  R  F  M\n",
       "0     12346.0      325          1  77183.60  1  1  5\n",
       "1     12347.0        2          7   4310.00  4  2  3\n",
       "2     12348.0       75          4   1797.24  2  1  2\n",
       "3     12349.0       18          1   1757.55  4  1  2\n",
       "4     12350.0      310          1    334.40  1  1  1"
      ]
     },
     "execution_count": 60,
     "metadata": {},
     "output_type": "execute_result"
    }
   ],
   "source": [
    "RFMScore.head()"
   ]
  },
  {
   "cell_type": "code",
   "execution_count": 61,
   "id": "3fe7bc09",
   "metadata": {},
   "outputs": [
    {
     "data": {
      "text/html": [
       "<div>\n",
       "<style scoped>\n",
       "    .dataframe tbody tr th:only-of-type {\n",
       "        vertical-align: middle;\n",
       "    }\n",
       "\n",
       "    .dataframe tbody tr th {\n",
       "        vertical-align: top;\n",
       "    }\n",
       "\n",
       "    .dataframe thead th {\n",
       "        text-align: right;\n",
       "    }\n",
       "</style>\n",
       "<table border=\"1\" class=\"dataframe\">\n",
       "  <thead>\n",
       "    <tr style=\"text-align: right;\">\n",
       "      <th></th>\n",
       "      <th>CustomerID</th>\n",
       "      <th>Recency</th>\n",
       "      <th>Frequency</th>\n",
       "      <th>Monetary</th>\n",
       "      <th>R</th>\n",
       "      <th>F</th>\n",
       "      <th>M</th>\n",
       "      <th>RFM_sum</th>\n",
       "    </tr>\n",
       "  </thead>\n",
       "  <tbody>\n",
       "    <tr>\n",
       "      <th>0</th>\n",
       "      <td>12346.0</td>\n",
       "      <td>325</td>\n",
       "      <td>1</td>\n",
       "      <td>77183.60</td>\n",
       "      <td>1</td>\n",
       "      <td>1</td>\n",
       "      <td>5</td>\n",
       "      <td>7</td>\n",
       "    </tr>\n",
       "    <tr>\n",
       "      <th>1</th>\n",
       "      <td>12347.0</td>\n",
       "      <td>2</td>\n",
       "      <td>7</td>\n",
       "      <td>4310.00</td>\n",
       "      <td>4</td>\n",
       "      <td>2</td>\n",
       "      <td>3</td>\n",
       "      <td>9</td>\n",
       "    </tr>\n",
       "    <tr>\n",
       "      <th>2</th>\n",
       "      <td>12348.0</td>\n",
       "      <td>75</td>\n",
       "      <td>4</td>\n",
       "      <td>1797.24</td>\n",
       "      <td>2</td>\n",
       "      <td>1</td>\n",
       "      <td>2</td>\n",
       "      <td>5</td>\n",
       "    </tr>\n",
       "    <tr>\n",
       "      <th>3</th>\n",
       "      <td>12349.0</td>\n",
       "      <td>18</td>\n",
       "      <td>1</td>\n",
       "      <td>1757.55</td>\n",
       "      <td>4</td>\n",
       "      <td>1</td>\n",
       "      <td>2</td>\n",
       "      <td>7</td>\n",
       "    </tr>\n",
       "    <tr>\n",
       "      <th>4</th>\n",
       "      <td>12350.0</td>\n",
       "      <td>310</td>\n",
       "      <td>1</td>\n",
       "      <td>334.40</td>\n",
       "      <td>1</td>\n",
       "      <td>1</td>\n",
       "      <td>1</td>\n",
       "      <td>3</td>\n",
       "    </tr>\n",
       "  </tbody>\n",
       "</table>\n",
       "</div>"
      ],
      "text/plain": [
       "   CustomerID  Recency  Frequency  Monetary  R  F  M  RFM_sum\n",
       "0     12346.0      325          1  77183.60  1  1  5        7\n",
       "1     12347.0        2          7   4310.00  4  2  3        9\n",
       "2     12348.0       75          4   1797.24  2  1  2        5\n",
       "3     12349.0       18          1   1757.55  4  1  2        7\n",
       "4     12350.0      310          1    334.40  1  1  1        3"
      ]
     },
     "execution_count": 61,
     "metadata": {},
     "output_type": "execute_result"
    }
   ],
   "source": [
    "#Finding sum of R,F,M Score\n",
    "RFMScore[\"RFM_sum\"]=RFMScore[[\"R\",\"F\",\"M\"]].sum(axis=1)\n",
    "RFMScore.head()"
   ]
  },
  {
   "cell_type": "code",
   "execution_count": 62,
   "id": "fa8e4c5e",
   "metadata": {},
   "outputs": [
    {
     "data": {
      "text/plain": [
       "RFM_sum\n",
       "3     1056\n",
       "6      888\n",
       "5      613\n",
       "4      557\n",
       "7      379\n",
       "8      284\n",
       "9      276\n",
       "10     117\n",
       "11      80\n",
       "12      59\n",
       "14      17\n",
       "13      13\n",
       "Name: count, dtype: int64"
      ]
     },
     "execution_count": 62,
     "metadata": {},
     "output_type": "execute_result"
    }
   ],
   "source": [
    "RFMScore.RFM_sum.value_counts() #Customer segmentation can be done for 3 to 14 RFM_sum"
   ]
  },
  {
   "cell_type": "code",
   "execution_count": 63,
   "id": "85cde1f4",
   "metadata": {},
   "outputs": [
    {
     "data": {
      "text/plain": [
       "0.25     4.0\n",
       "0.70     6.0\n",
       "0.95    10.0\n",
       "Name: RFM_sum, dtype: float64"
      ]
     },
     "execution_count": 63,
     "metadata": {},
     "output_type": "execute_result"
    }
   ],
   "source": [
    "#Doing segmentation by assigning loyality type to each customer\n",
    "loyality_label=[\"Silver\",\"Gold\",\"Diamond\",\"Platinum\"]  # 0-4 silver, 5-6 Gold, 7-10 Diamond, 10+ Platinum\n",
    "RFMScore[\"RFM_sum\"].quantile(q=[0.25,0.70,0.95])"
   ]
  },
  {
   "cell_type": "code",
   "execution_count": 64,
   "id": "5e7d702b",
   "metadata": {},
   "outputs": [],
   "source": [
    "quantile500=RFMScore[\"RFM_sum\"].quantile(q=[0.25,0.70,0.95])\n",
    "def loyality(x,d,p):\n",
    "    if x<=4:\n",
    "        return 'Silver'\n",
    "    elif x<=6:\n",
    "        return 'Gold'\n",
    "    elif x<=10:\n",
    "        return 'Diamond'\n",
    "    else:\n",
    "        return 'Platinum'"
   ]
  },
  {
   "cell_type": "code",
   "execution_count": 65,
   "id": "cd8015a7",
   "metadata": {},
   "outputs": [],
   "source": [
    "RFMScore[\"RFM_loyality\"]=RFMScore[\"RFM_sum\"].apply(loyality,args=(quantile500,\"RFM_sum\")) "
   ]
  },
  {
   "cell_type": "code",
   "execution_count": 66,
   "id": "430a78da",
   "metadata": {},
   "outputs": [
    {
     "data": {
      "text/plain": [
       "RFM_loyality\n",
       "Silver      1613\n",
       "Gold        1501\n",
       "Diamond     1056\n",
       "Platinum     169\n",
       "Name: count, dtype: int64"
      ]
     },
     "execution_count": 66,
     "metadata": {},
     "output_type": "execute_result"
    }
   ],
   "source": [
    "RFMScore[\"RFM_loyality\"].value_counts()"
   ]
  },
  {
   "cell_type": "markdown",
   "id": "9923d772",
   "metadata": {},
   "source": [
    "We can also apply qcut function to divide into 4 equal parts\n",
    "score_cuts=pd.qcut(RFMScore.RFM_sum,q=4,labels=loyality_label)\n",
    "RFMScore[\"RFM_loyality\"]=score_cuts.values"
   ]
  },
  {
   "cell_type": "code",
   "execution_count": 52,
   "id": "35a87797",
   "metadata": {},
   "outputs": [
    {
     "data": {
      "text/html": [
       "<div>\n",
       "<style scoped>\n",
       "    .dataframe tbody tr th:only-of-type {\n",
       "        vertical-align: middle;\n",
       "    }\n",
       "\n",
       "    .dataframe tbody tr th {\n",
       "        vertical-align: top;\n",
       "    }\n",
       "\n",
       "    .dataframe thead th {\n",
       "        text-align: right;\n",
       "    }\n",
       "</style>\n",
       "<table border=\"1\" class=\"dataframe\">\n",
       "  <thead>\n",
       "    <tr style=\"text-align: right;\">\n",
       "      <th></th>\n",
       "      <th>CustomerID</th>\n",
       "      <th>Recency</th>\n",
       "      <th>Frequency</th>\n",
       "      <th>Monetary</th>\n",
       "      <th>R</th>\n",
       "      <th>F</th>\n",
       "      <th>M</th>\n",
       "      <th>RFM_sum</th>\n",
       "      <th>RFM_loyality</th>\n",
       "    </tr>\n",
       "  </thead>\n",
       "  <tbody>\n",
       "    <tr>\n",
       "      <th>0</th>\n",
       "      <td>12346.0</td>\n",
       "      <td>325</td>\n",
       "      <td>1</td>\n",
       "      <td>77183.60</td>\n",
       "      <td>1</td>\n",
       "      <td>1</td>\n",
       "      <td>5</td>\n",
       "      <td>7</td>\n",
       "      <td>Diamond</td>\n",
       "    </tr>\n",
       "    <tr>\n",
       "      <th>1</th>\n",
       "      <td>12347.0</td>\n",
       "      <td>2</td>\n",
       "      <td>7</td>\n",
       "      <td>4310.00</td>\n",
       "      <td>4</td>\n",
       "      <td>2</td>\n",
       "      <td>3</td>\n",
       "      <td>9</td>\n",
       "      <td>Diamond</td>\n",
       "    </tr>\n",
       "    <tr>\n",
       "      <th>2</th>\n",
       "      <td>12348.0</td>\n",
       "      <td>75</td>\n",
       "      <td>4</td>\n",
       "      <td>1797.24</td>\n",
       "      <td>2</td>\n",
       "      <td>1</td>\n",
       "      <td>2</td>\n",
       "      <td>5</td>\n",
       "      <td>Gold</td>\n",
       "    </tr>\n",
       "    <tr>\n",
       "      <th>3</th>\n",
       "      <td>12349.0</td>\n",
       "      <td>18</td>\n",
       "      <td>1</td>\n",
       "      <td>1757.55</td>\n",
       "      <td>4</td>\n",
       "      <td>1</td>\n",
       "      <td>2</td>\n",
       "      <td>7</td>\n",
       "      <td>Diamond</td>\n",
       "    </tr>\n",
       "    <tr>\n",
       "      <th>4</th>\n",
       "      <td>12350.0</td>\n",
       "      <td>310</td>\n",
       "      <td>1</td>\n",
       "      <td>334.40</td>\n",
       "      <td>1</td>\n",
       "      <td>1</td>\n",
       "      <td>1</td>\n",
       "      <td>3</td>\n",
       "      <td>Silver</td>\n",
       "    </tr>\n",
       "  </tbody>\n",
       "</table>\n",
       "</div>"
      ],
      "text/plain": [
       "   CustomerID  Recency  Frequency  Monetary  R  F  M  RFM_sum RFM_loyality\n",
       "0     12346.0      325          1  77183.60  1  1  5        7      Diamond\n",
       "1     12347.0        2          7   4310.00  4  2  3        9      Diamond\n",
       "2     12348.0       75          4   1797.24  2  1  2        5         Gold\n",
       "3     12349.0       18          1   1757.55  4  1  2        7      Diamond\n",
       "4     12350.0      310          1    334.40  1  1  1        3       Silver"
      ]
     },
     "execution_count": 52,
     "metadata": {},
     "output_type": "execute_result"
    }
   ],
   "source": [
    "RFMScore.head()"
   ]
  },
  {
   "cell_type": "code",
   "execution_count": 53,
   "id": "e1302daa",
   "metadata": {},
   "outputs": [
    {
     "data": {
      "text/plain": [
       "<AxesSubplot:xlabel='Frequency', ylabel='RFM_sum'>"
      ]
     },
     "execution_count": 53,
     "metadata": {},
     "output_type": "execute_result"
    },
    {
     "data": {
      "image/png": "[encoded data removed]",
      "text/plain": [
       "<Figure size 640x480 with 1 Axes>"
      ]
     },
     "metadata": {},
     "output_type": "display_data"
    }
   ],
   "source": [
    "#Visualization \n",
    "sns.scatterplot(data=RFMScore,x=\"Frequency\",y=\"RFM_sum\",hue=\"RFM_loyality\")"
   ]
  },
  {
   "cell_type": "code",
   "execution_count": 54,
   "id": "d17f3292",
   "metadata": {},
   "outputs": [
    {
     "data": {
      "text/plain": [
       "<AxesSubplot:xlabel='Monetary', ylabel='RFM_sum'>"
      ]
     },
     "execution_count": 54,
     "metadata": {},
     "output_type": "execute_result"
    },
    {
     "data": {
      "image/png": "[encoded data removed]",
      "text/plain": [
       "<Figure size 640x480 with 1 Axes>"
      ]
     },
     "metadata": {},
     "output_type": "display_data"
    }
   ],
   "source": [
    "sns.scatterplot(data=RFMScore,x=\"Monetary\",y=\"RFM_sum\",hue=\"RFM_loyality\")"
   ]
  },
  {
   "cell_type": "code",
   "execution_count": 55,
   "id": "5de674f3",
   "metadata": {},
   "outputs": [
    {
     "data": {
      "text/plain": [
       "<AxesSubplot:xlabel='Recency', ylabel='RFM_sum'>"
      ]
     },
     "execution_count": 55,
     "metadata": {},
     "output_type": "execute_result"
    },
    {
     "data": {
      "image/png": "[encoded data removed]",
      "text/plain": [
       "<Figure size 640x480 with 1 Axes>"
      ]
     },
     "metadata": {},
     "output_type": "display_data"
    }
   ],
   "source": [
    "sns.scatterplot(data=RFMScore,x=\"Recency\",y=\"RFM_sum\",hue=\"RFM_loyality\")"
   ]
  },
  {
   "cell_type": "code",
   "execution_count": 56,
   "id": "51cb97eb",
   "metadata": {},
   "outputs": [],
   "source": [
    "#Creating RFM_id by combining R,F,M score instead of adding"
   ]
  },
  {
   "cell_type": "code",
   "execution_count": 57,
   "id": "d650faee",
   "metadata": {},
   "outputs": [
    {
     "data": {
      "text/html": [
       "<div>\n",
       "<style scoped>\n",
       "    .dataframe tbody tr th:only-of-type {\n",
       "        vertical-align: middle;\n",
       "    }\n",
       "\n",
       "    .dataframe tbody tr th {\n",
       "        vertical-align: top;\n",
       "    }\n",
       "\n",
       "    .dataframe thead th {\n",
       "        text-align: right;\n",
       "    }\n",
       "</style>\n",
       "<table border=\"1\" class=\"dataframe\">\n",
       "  <thead>\n",
       "    <tr style=\"text-align: right;\">\n",
       "      <th></th>\n",
       "      <th>CustomerID</th>\n",
       "      <th>Recency</th>\n",
       "      <th>Frequency</th>\n",
       "      <th>Monetary</th>\n",
       "      <th>R</th>\n",
       "      <th>F</th>\n",
       "      <th>M</th>\n",
       "      <th>RFM_sum</th>\n",
       "      <th>RFM_loyality</th>\n",
       "      <th>RFM_ID</th>\n",
       "    </tr>\n",
       "  </thead>\n",
       "  <tbody>\n",
       "    <tr>\n",
       "      <th>0</th>\n",
       "      <td>12346.0</td>\n",
       "      <td>325</td>\n",
       "      <td>1</td>\n",
       "      <td>77183.60</td>\n",
       "      <td>1</td>\n",
       "      <td>1</td>\n",
       "      <td>5</td>\n",
       "      <td>7</td>\n",
       "      <td>Diamond</td>\n",
       "      <td>115</td>\n",
       "    </tr>\n",
       "    <tr>\n",
       "      <th>1</th>\n",
       "      <td>12347.0</td>\n",
       "      <td>2</td>\n",
       "      <td>7</td>\n",
       "      <td>4310.00</td>\n",
       "      <td>4</td>\n",
       "      <td>2</td>\n",
       "      <td>3</td>\n",
       "      <td>9</td>\n",
       "      <td>Diamond</td>\n",
       "      <td>423</td>\n",
       "    </tr>\n",
       "    <tr>\n",
       "      <th>2</th>\n",
       "      <td>12348.0</td>\n",
       "      <td>75</td>\n",
       "      <td>4</td>\n",
       "      <td>1797.24</td>\n",
       "      <td>2</td>\n",
       "      <td>1</td>\n",
       "      <td>2</td>\n",
       "      <td>5</td>\n",
       "      <td>Gold</td>\n",
       "      <td>212</td>\n",
       "    </tr>\n",
       "    <tr>\n",
       "      <th>3</th>\n",
       "      <td>12349.0</td>\n",
       "      <td>18</td>\n",
       "      <td>1</td>\n",
       "      <td>1757.55</td>\n",
       "      <td>4</td>\n",
       "      <td>1</td>\n",
       "      <td>2</td>\n",
       "      <td>7</td>\n",
       "      <td>Diamond</td>\n",
       "      <td>412</td>\n",
       "    </tr>\n",
       "    <tr>\n",
       "      <th>4</th>\n",
       "      <td>12350.0</td>\n",
       "      <td>310</td>\n",
       "      <td>1</td>\n",
       "      <td>334.40</td>\n",
       "      <td>1</td>\n",
       "      <td>1</td>\n",
       "      <td>1</td>\n",
       "      <td>3</td>\n",
       "      <td>Silver</td>\n",
       "      <td>111</td>\n",
       "    </tr>\n",
       "  </tbody>\n",
       "</table>\n",
       "</div>"
      ],
      "text/plain": [
       "   CustomerID  Recency  Frequency  Monetary  R  F  M  RFM_sum RFM_loyality  \\\n",
       "0     12346.0      325          1  77183.60  1  1  5        7      Diamond   \n",
       "1     12347.0        2          7   4310.00  4  2  3        9      Diamond   \n",
       "2     12348.0       75          4   1797.24  2  1  2        5         Gold   \n",
       "3     12349.0       18          1   1757.55  4  1  2        7      Diamond   \n",
       "4     12350.0      310          1    334.40  1  1  1        3       Silver   \n",
       "\n",
       "  RFM_ID  \n",
       "0    115  \n",
       "1    423  \n",
       "2    212  \n",
       "3    412  \n",
       "4    111  "
      ]
     },
     "execution_count": 57,
     "metadata": {},
     "output_type": "execute_result"
    }
   ],
   "source": [
    "RFMScore[\"RFM_ID\"]=RFMScore.R.map(str)+RFMScore.F.map(str)+RFMScore.M.map(str)\n",
    "RFMScore.head()"
   ]
  },
  {
   "cell_type": "markdown",
   "id": "1f89abeb",
   "metadata": {},
   "source": [
    "Customer Segment descriptions:\n",
    "1. Inactive or Passerby customers - Customers who are not after anything in particular. only buy what might catch their attention.\n",
    "2. Promising or Loyal customers - Customers who shop regularly and love this shopping mall\n",
    "3. New customers - Customers who enjoy their last visit to shop and may come back if they find out more about what this mall has to offer\n",
    "4. Out-of-town customers or sleeping - They were once loyal customers, but they move to new place and find a closer shopping mall\n",
    "5. Students - Customers who visit the store often but they dont spend much\n",
    "6. Can't loose or Dissatisfied customers - They spend a lot on shopping, but the previous purchase didnt suit them\n",
    "7. Nurture or Soon-to-be loyal customers - They are 'soon-to-be' loyal customers if the previous purchase suited them and the mall catches their attention"
   ]
  },
  {
   "cell_type": "code",
   "execution_count": 58,
   "id": "7c10ee86",
   "metadata": {},
   "outputs": [
    {
     "data": {
      "text/plain": [
       "students                           1709\n",
       "new customer                       1655\n",
       "Drive_Loyality                      515\n",
       "promising                           229\n",
       "Inactive or Passerby customers      144\n",
       "at-Risk                              67\n",
       "cant_lose                            19\n",
       "need_attention                        2\n",
       "Name: Segment, dtype: int64"
      ]
     },
     "execution_count": 58,
     "metadata": {},
     "output_type": "execute_result"
    }
   ],
   "source": [
    "#regex for customer segmentation by using RFM ID\n",
    "seg_map={\n",
    "    r'[1][1-2][2-3]':\"Inactive or Passerby customers \",\n",
    "    r'[1-2][1-3][3]':\"at-Risk\",\n",
    "    r'[1-2][1-5][3-5]':\"cant_lose\",\n",
    "    r'[1][1-4][2-4]':\"about_to_sleep\",\n",
    "    r'[3][3][3]':\"need_attention\",\n",
    "    r'[3-5][3-5][3-5]':\"promising\",\n",
    "    r'[1-2][1-5][1-2]':\"new customer\",\n",
    "    r'[3-5][[1-5][1-2]':'students',\n",
    "    r'[3-5][[1-3][1-2]':'Nurture',\n",
    "    r'[3-5][[1-2][3-5]': 'Drive_Loyality',\n",
    "    }\n",
    "\n",
    "RFMScore[\"Segment\"]=RFMScore[\"RFM_ID\"].replace(seg_map,regex=True)\n",
    "RFMScore['Segment'].value_counts()\n"
   ]
  },
  {
   "cell_type": "code",
   "execution_count": 59,
   "id": "e344bbb8",
   "metadata": {},
   "outputs": [
    {
     "data": {
      "text/html": [
       "<div>\n",
       "<style scoped>\n",
       "    .dataframe tbody tr th:only-of-type {\n",
       "        vertical-align: middle;\n",
       "    }\n",
       "\n",
       "    .dataframe tbody tr th {\n",
       "        vertical-align: top;\n",
       "    }\n",
       "\n",
       "    .dataframe thead th {\n",
       "        text-align: right;\n",
       "    }\n",
       "</style>\n",
       "<table border=\"1\" class=\"dataframe\">\n",
       "  <thead>\n",
       "    <tr style=\"text-align: right;\">\n",
       "      <th></th>\n",
       "      <th>CustomerID</th>\n",
       "      <th>Recency</th>\n",
       "      <th>Frequency</th>\n",
       "      <th>Monetary</th>\n",
       "      <th>R</th>\n",
       "      <th>F</th>\n",
       "      <th>M</th>\n",
       "      <th>RFM_sum</th>\n",
       "      <th>RFM_loyality</th>\n",
       "      <th>RFM_ID</th>\n",
       "      <th>Segment</th>\n",
       "    </tr>\n",
       "  </thead>\n",
       "  <tbody>\n",
       "    <tr>\n",
       "      <th>0</th>\n",
       "      <td>12346.0</td>\n",
       "      <td>325</td>\n",
       "      <td>1</td>\n",
       "      <td>77183.60</td>\n",
       "      <td>1</td>\n",
       "      <td>1</td>\n",
       "      <td>5</td>\n",
       "      <td>7</td>\n",
       "      <td>Diamond</td>\n",
       "      <td>115</td>\n",
       "      <td>cant_lose</td>\n",
       "    </tr>\n",
       "    <tr>\n",
       "      <th>1</th>\n",
       "      <td>12347.0</td>\n",
       "      <td>2</td>\n",
       "      <td>7</td>\n",
       "      <td>4310.00</td>\n",
       "      <td>4</td>\n",
       "      <td>2</td>\n",
       "      <td>3</td>\n",
       "      <td>9</td>\n",
       "      <td>Diamond</td>\n",
       "      <td>423</td>\n",
       "      <td>Drive_Loyality</td>\n",
       "    </tr>\n",
       "    <tr>\n",
       "      <th>2</th>\n",
       "      <td>12348.0</td>\n",
       "      <td>75</td>\n",
       "      <td>4</td>\n",
       "      <td>1797.24</td>\n",
       "      <td>2</td>\n",
       "      <td>1</td>\n",
       "      <td>2</td>\n",
       "      <td>5</td>\n",
       "      <td>Gold</td>\n",
       "      <td>212</td>\n",
       "      <td>new customer</td>\n",
       "    </tr>\n",
       "    <tr>\n",
       "      <th>3</th>\n",
       "      <td>12349.0</td>\n",
       "      <td>18</td>\n",
       "      <td>1</td>\n",
       "      <td>1757.55</td>\n",
       "      <td>4</td>\n",
       "      <td>1</td>\n",
       "      <td>2</td>\n",
       "      <td>7</td>\n",
       "      <td>Diamond</td>\n",
       "      <td>412</td>\n",
       "      <td>students</td>\n",
       "    </tr>\n",
       "    <tr>\n",
       "      <th>4</th>\n",
       "      <td>12350.0</td>\n",
       "      <td>310</td>\n",
       "      <td>1</td>\n",
       "      <td>334.40</td>\n",
       "      <td>1</td>\n",
       "      <td>1</td>\n",
       "      <td>1</td>\n",
       "      <td>3</td>\n",
       "      <td>Silver</td>\n",
       "      <td>111</td>\n",
       "      <td>new customer</td>\n",
       "    </tr>\n",
       "  </tbody>\n",
       "</table>\n",
       "</div>"
      ],
      "text/plain": [
       "   CustomerID  Recency  Frequency  Monetary  R  F  M  RFM_sum RFM_loyality  \\\n",
       "0     12346.0      325          1  77183.60  1  1  5        7      Diamond   \n",
       "1     12347.0        2          7   4310.00  4  2  3        9      Diamond   \n",
       "2     12348.0       75          4   1797.24  2  1  2        5         Gold   \n",
       "3     12349.0       18          1   1757.55  4  1  2        7      Diamond   \n",
       "4     12350.0      310          1    334.40  1  1  1        3       Silver   \n",
       "\n",
       "  RFM_ID         Segment  \n",
       "0    115       cant_lose  \n",
       "1    423  Drive_Loyality  \n",
       "2    212    new customer  \n",
       "3    412        students  \n",
       "4    111    new customer  "
      ]
     },
     "execution_count": 59,
     "metadata": {},
     "output_type": "execute_result"
    }
   ],
   "source": [
    "RFMScore.head()"
   ]
  },
  {
   "cell_type": "code",
   "execution_count": 60,
   "id": "c3baf0fd",
   "metadata": {},
   "outputs": [
    {
     "data": {
      "image/png": "[encoded data removed]",
      "text/plain": [
       "<Figure size 1400x800 with 1 Axes>"
      ]
     },
     "metadata": {},
     "output_type": "display_data"
    }
   ],
   "source": [
    "plt.figure(figsize=(14,8))\n",
    "plt.pie(RFMScore.Segment.value_counts(),explode=(0,0,0,0,0,0,0.2,0.5),labels=RFMScore.Segment.value_counts().index,autopct=\"%2f%%\")\n",
    "plt.show()"
   ]
  },
  {
   "cell_type": "code",
   "execution_count": 61,
   "id": "14711b47",
   "metadata": {},
   "outputs": [
    {
     "data": {
      "text/html": [
       "<div>\n",
       "<style scoped>\n",
       "    .dataframe tbody tr th:only-of-type {\n",
       "        vertical-align: middle;\n",
       "    }\n",
       "\n",
       "    .dataframe tbody tr th {\n",
       "        vertical-align: top;\n",
       "    }\n",
       "\n",
       "    .dataframe thead th {\n",
       "        text-align: right;\n",
       "    }\n",
       "</style>\n",
       "<table border=\"1\" class=\"dataframe\">\n",
       "  <thead>\n",
       "    <tr style=\"text-align: right;\">\n",
       "      <th></th>\n",
       "      <th>RFM_sum</th>\n",
       "    </tr>\n",
       "  </thead>\n",
       "  <tbody>\n",
       "    <tr>\n",
       "      <th>0</th>\n",
       "      <td>7</td>\n",
       "    </tr>\n",
       "    <tr>\n",
       "      <th>1</th>\n",
       "      <td>9</td>\n",
       "    </tr>\n",
       "    <tr>\n",
       "      <th>2</th>\n",
       "      <td>5</td>\n",
       "    </tr>\n",
       "    <tr>\n",
       "      <th>3</th>\n",
       "      <td>7</td>\n",
       "    </tr>\n",
       "    <tr>\n",
       "      <th>4</th>\n",
       "      <td>3</td>\n",
       "    </tr>\n",
       "    <tr>\n",
       "      <th>...</th>\n",
       "      <td>...</td>\n",
       "    </tr>\n",
       "    <tr>\n",
       "      <th>4335</th>\n",
       "      <td>3</td>\n",
       "    </tr>\n",
       "    <tr>\n",
       "      <th>4336</th>\n",
       "      <td>3</td>\n",
       "    </tr>\n",
       "    <tr>\n",
       "      <th>4337</th>\n",
       "      <td>6</td>\n",
       "    </tr>\n",
       "    <tr>\n",
       "      <th>4338</th>\n",
       "      <td>10</td>\n",
       "    </tr>\n",
       "    <tr>\n",
       "      <th>4339</th>\n",
       "      <td>6</td>\n",
       "    </tr>\n",
       "  </tbody>\n",
       "</table>\n",
       "<p>4340 rows × 1 columns</p>\n",
       "</div>"
      ],
      "text/plain": [
       "      RFM_sum\n",
       "0           7\n",
       "1           9\n",
       "2           5\n",
       "3           7\n",
       "4           3\n",
       "...       ...\n",
       "4335        3\n",
       "4336        3\n",
       "4337        6\n",
       "4338       10\n",
       "4339        6\n",
       "\n",
       "[4340 rows x 1 columns]"
      ]
     },
     "execution_count": 61,
     "metadata": {},
     "output_type": "execute_result"
    }
   ],
   "source": [
    "#Using KMeans Algorithm \n",
    "Newdata=RFMScore[\"RFM_sum\"]\n",
    "Newdata\n",
    "pd.DataFrame(Newdata)"
   ]
  },
  {
   "cell_type": "markdown",
   "id": "abccd275",
   "metadata": {},
   "source": [
    "Finding the appropriate cluster number by applying the k-means algorithm- Elbow Method"
   ]
  },
  {
   "cell_type": "code",
   "execution_count": 62,
   "id": "6b1d8813",
   "metadata": {},
   "outputs": [
    {
     "data": {
      "image/png": "[encoded data removed]",
      "text/plain": [
       "<Figure size 1000x800 with 1 Axes>"
      ]
     },
     "metadata": {},
     "output_type": "display_data"
    }
   ],
   "source": [
    "plt.figure(figsize=(10, 8))\n",
    "from sklearn.cluster import KMeans\n",
    "wcss = []\n",
    "for i in range(1, 30):\n",
    "    kmeans = KMeans(n_clusters = i, init = 'k-means++', random_state = 42)\n",
    "    kmeans.fit(pd.DataFrame(Newdata))\n",
    "    wcss.append(kmeans.inertia_)\n",
    "plt.plot(range(1, 30), wcss,marker=\"o\")\n",
    "plt.title('The Elbow Method')\n",
    "plt.xlabel('Number of clusters')\n",
    "plt.ylabel('WCSS')\n",
    "plt.show()"
   ]
  },
  {
   "cell_type": "code",
   "execution_count": 63,
   "id": "2ab2747e",
   "metadata": {},
   "outputs": [],
   "source": [
    "#!pip install yellowbrick"
   ]
  },
  {
   "cell_type": "code",
   "execution_count": 64,
   "id": "6eee00e1",
   "metadata": {},
   "outputs": [
    {
     "data": {
      "image/png": "[encoded data removed]",
      "text/plain": [
       "<Figure size 800x550 with 2 Axes>"
      ]
     },
     "metadata": {},
     "output_type": "display_data"
    },
    {
     "data": {
      "text/plain": [
       "<AxesSubplot:title={'center':'Distortion Score Elbow for KMeans Clustering'}, xlabel='k', ylabel='distortion score'>"
      ]
     },
     "execution_count": 64,
     "metadata": {},
     "output_type": "execute_result"
    }
   ],
   "source": [
    "# install yellowbrick package\n",
    "from yellowbrick.cluster import KElbowVisualizer\n",
    "model=KMeans()\n",
    "visualizer=KElbowVisualizer(model,k=(1,30)).fit(pd.DataFrame(Newdata))\n",
    "visualizer.show()"
   ]
  },
  {
   "cell_type": "code",
   "execution_count": 65,
   "id": "6244148b",
   "metadata": {},
   "outputs": [
    {
     "data": {
      "text/plain": [
       "array([1, 1, 3, ..., 3, 2, 3])"
      ]
     },
     "execution_count": 65,
     "metadata": {},
     "output_type": "execute_result"
    }
   ],
   "source": [
    "# Fitting data using KMeans algorithm----K=4\n",
    "kmeans=KMeans(n_clusters=4,init=\"k-means++\",max_iter=100,random_state=101)\n",
    "y_kmeans=kmeans.fit_predict(pd.DataFrame(Newdata))\n",
    "y_kmeans"
   ]
  },
  {
   "cell_type": "code",
   "execution_count": 66,
   "id": "462e474c",
   "metadata": {},
   "outputs": [
    {
     "data": {
      "text/html": [
       "<div>\n",
       "<style scoped>\n",
       "    .dataframe tbody tr th:only-of-type {\n",
       "        vertical-align: middle;\n",
       "    }\n",
       "\n",
       "    .dataframe tbody tr th {\n",
       "        vertical-align: top;\n",
       "    }\n",
       "\n",
       "    .dataframe thead th {\n",
       "        text-align: right;\n",
       "    }\n",
       "</style>\n",
       "<table border=\"1\" class=\"dataframe\">\n",
       "  <thead>\n",
       "    <tr style=\"text-align: right;\">\n",
       "      <th></th>\n",
       "      <th>CustomerID</th>\n",
       "      <th>Recency</th>\n",
       "      <th>Frequency</th>\n",
       "      <th>Monetary</th>\n",
       "      <th>R</th>\n",
       "      <th>F</th>\n",
       "      <th>M</th>\n",
       "      <th>RFM_sum</th>\n",
       "      <th>RFM_loyality</th>\n",
       "      <th>RFM_ID</th>\n",
       "      <th>Segment</th>\n",
       "      <th>Cluster</th>\n",
       "    </tr>\n",
       "  </thead>\n",
       "  <tbody>\n",
       "    <tr>\n",
       "      <th>0</th>\n",
       "      <td>12346.0</td>\n",
       "      <td>325</td>\n",
       "      <td>1</td>\n",
       "      <td>77183.60</td>\n",
       "      <td>1</td>\n",
       "      <td>1</td>\n",
       "      <td>5</td>\n",
       "      <td>7</td>\n",
       "      <td>Diamond</td>\n",
       "      <td>115</td>\n",
       "      <td>cant_lose</td>\n",
       "      <td>1</td>\n",
       "    </tr>\n",
       "    <tr>\n",
       "      <th>1</th>\n",
       "      <td>12347.0</td>\n",
       "      <td>2</td>\n",
       "      <td>7</td>\n",
       "      <td>4310.00</td>\n",
       "      <td>4</td>\n",
       "      <td>2</td>\n",
       "      <td>3</td>\n",
       "      <td>9</td>\n",
       "      <td>Diamond</td>\n",
       "      <td>423</td>\n",
       "      <td>Drive_Loyality</td>\n",
       "      <td>1</td>\n",
       "    </tr>\n",
       "    <tr>\n",
       "      <th>2</th>\n",
       "      <td>12348.0</td>\n",
       "      <td>75</td>\n",
       "      <td>4</td>\n",
       "      <td>1797.24</td>\n",
       "      <td>2</td>\n",
       "      <td>1</td>\n",
       "      <td>2</td>\n",
       "      <td>5</td>\n",
       "      <td>Gold</td>\n",
       "      <td>212</td>\n",
       "      <td>new customer</td>\n",
       "      <td>3</td>\n",
       "    </tr>\n",
       "    <tr>\n",
       "      <th>3</th>\n",
       "      <td>12349.0</td>\n",
       "      <td>18</td>\n",
       "      <td>1</td>\n",
       "      <td>1757.55</td>\n",
       "      <td>4</td>\n",
       "      <td>1</td>\n",
       "      <td>2</td>\n",
       "      <td>7</td>\n",
       "      <td>Diamond</td>\n",
       "      <td>412</td>\n",
       "      <td>students</td>\n",
       "      <td>1</td>\n",
       "    </tr>\n",
       "    <tr>\n",
       "      <th>4</th>\n",
       "      <td>12350.0</td>\n",
       "      <td>310</td>\n",
       "      <td>1</td>\n",
       "      <td>334.40</td>\n",
       "      <td>1</td>\n",
       "      <td>1</td>\n",
       "      <td>1</td>\n",
       "      <td>3</td>\n",
       "      <td>Silver</td>\n",
       "      <td>111</td>\n",
       "      <td>new customer</td>\n",
       "      <td>0</td>\n",
       "    </tr>\n",
       "  </tbody>\n",
       "</table>\n",
       "</div>"
      ],
      "text/plain": [
       "   CustomerID  Recency  Frequency  Monetary  R  F  M  RFM_sum RFM_loyality  \\\n",
       "0     12346.0      325          1  77183.60  1  1  5        7      Diamond   \n",
       "1     12347.0        2          7   4310.00  4  2  3        9      Diamond   \n",
       "2     12348.0       75          4   1797.24  2  1  2        5         Gold   \n",
       "3     12349.0       18          1   1757.55  4  1  2        7      Diamond   \n",
       "4     12350.0      310          1    334.40  1  1  1        3       Silver   \n",
       "\n",
       "  RFM_ID         Segment  Cluster  \n",
       "0    115       cant_lose        1  \n",
       "1    423  Drive_Loyality        1  \n",
       "2    212    new customer        3  \n",
       "3    412        students        1  \n",
       "4    111    new customer        0  "
      ]
     },
     "execution_count": 66,
     "metadata": {},
     "output_type": "execute_result"
    }
   ],
   "source": [
    "RFMScore[\"Cluster\"]=kmeans.labels_\n",
    "RFMScore.head()"
   ]
  },
  {
   "cell_type": "code",
   "execution_count": 67,
   "id": "f400dae9",
   "metadata": {},
   "outputs": [
    {
     "data": {
      "text/plain": [
       "0    1613\n",
       "3    1503\n",
       "1     937\n",
       "2     287\n",
       "Name: Cluster, dtype: int64"
      ]
     },
     "execution_count": 67,
     "metadata": {},
     "output_type": "execute_result"
    }
   ],
   "source": [
    "RFMScore[\"Cluster\"].value_counts()"
   ]
  },
  {
   "cell_type": "code",
   "execution_count": 68,
   "id": "6369fffd",
   "metadata": {},
   "outputs": [
    {
     "data": {
      "text/plain": [
       "Silver      1613\n",
       "Gold        1503\n",
       "Diamond     1054\n",
       "Platinum     170\n",
       "Name: RFM_loyality, dtype: int64"
      ]
     },
     "execution_count": 68,
     "metadata": {},
     "output_type": "execute_result"
    }
   ],
   "source": [
    "RFMScore[\"RFM_loyality\"].value_counts()"
   ]
  },
  {
   "cell_type": "code",
   "execution_count": 69,
   "id": "4ca54159",
   "metadata": {},
   "outputs": [
    {
     "name": "stdout",
     "output_type": "stream",
     "text": [
      "0.6854691777739286\n"
     ]
    }
   ],
   "source": [
    "#Evaluating the cluster\n",
    "\n",
    "labels=kmeans.labels_\n",
    "\n",
    "from sklearn.metrics import silhouette_score\n",
    "\n",
    "print(silhouette_score(pd.DataFrame(Newdata),labels))\n",
    "#we find the very good silhoutte score so clustering is effective"
   ]
  }
 ],
 "metadata": {
  "kernelspec": {
   "display_name": "Python 3 (ipykernel)",
   "language": "python",
   "name": "python3"
  },
  "language_info": {
   "codemirror_mode": {
    "name": "ipython",
    "version": 3
   },
   "file_extension": ".py",
   "mimetype": "text/x-python",
   "name": "python",
   "nbconvert_exporter": "python",
   "pygments_lexer": "ipython3",
   "version": "3.12.7"
  }
 },
 "nbformat": 4,
 "nbformat_minor": 5
}
