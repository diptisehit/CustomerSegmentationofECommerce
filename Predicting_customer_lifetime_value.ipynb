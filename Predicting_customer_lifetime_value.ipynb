{
 "cells": [
  {
   "cell_type": "code",
   "execution_count": 1,
   "id": "3ad5535f",
   "metadata": {},
   "outputs": [],
   "source": [
    "#Online shopping Customer Segmentation\n",
    "#**Problem statement**\n",
    "\n",
    "# 1: Segment (Group/Cluster) customer on basis of RFM (Recency, Frequency, Monetary) \n",
    "# 2: Segment (Group/Cluster) Identify trends for Day, Month, Season, Time by Invoice count\n",
    "# 3.Top 10 selling product \n",
    "# 4 Best product at country level.\n",
    "# 5 FINDING CUSTOMER VALUATION."
   ]
  },
  {
   "cell_type": "code",
   "execution_count": 3,
   "id": "10ab0c7a",
   "metadata": {},
   "outputs": [],
   "source": [
    "#import libraries\n",
    "import pandas as pd\n",
    "import numpy as np\n",
    "import matplotlib.pyplot as plt\n",
    "import seaborn as sns\n",
    "%matplotlib inline\n",
    "import warnings\n",
    "warnings.filterwarnings('ignore') "
   ]
  },
  {
   "cell_type": "code",
   "execution_count": 14,
   "id": "96c1554c",
   "metadata": {},
   "outputs": [
    {
     "data": {
      "text/html": [
       "<div>\n",
       "<style scoped>\n",
       "    .dataframe tbody tr th:only-of-type {\n",
       "        vertical-align: middle;\n",
       "    }\n",
       "\n",
       "    .dataframe tbody tr th {\n",
       "        vertical-align: top;\n",
       "    }\n",
       "\n",
       "    .dataframe thead th {\n",
       "        text-align: right;\n",
       "    }\n",
       "</style>\n",
       "<table border=\"1\" class=\"dataframe\">\n",
       "  <thead>\n",
       "    <tr style=\"text-align: right;\">\n",
       "      <th></th>\n",
       "      <th>InvoiceNo</th>\n",
       "      <th>StockCode</th>\n",
       "      <th>lower</th>\n",
       "      <th>Description</th>\n",
       "      <th>Quantity</th>\n",
       "      <th>InvoiceDate</th>\n",
       "      <th>UnitPrice</th>\n",
       "      <th>CustomerID</th>\n",
       "      <th>Country</th>\n",
       "    </tr>\n",
       "  </thead>\n",
       "  <tbody>\n",
       "    <tr>\n",
       "      <th>0</th>\n",
       "      <td>536365</td>\n",
       "      <td>85123A</td>\n",
       "      <td>white hanging heart t-light holder</td>\n",
       "      <td>WHITE HANGING HEART T-LIGHT HOLDER</td>\n",
       "      <td>6</td>\n",
       "      <td>2010-12-01 08:26:00</td>\n",
       "      <td>2.55</td>\n",
       "      <td>17850.0</td>\n",
       "      <td>United Kingdom</td>\n",
       "    </tr>\n",
       "    <tr>\n",
       "      <th>1</th>\n",
       "      <td>536365</td>\n",
       "      <td>71053</td>\n",
       "      <td>white metal lantern</td>\n",
       "      <td>WHITE METAL LANTERN</td>\n",
       "      <td>6</td>\n",
       "      <td>2010-12-01 08:26:00</td>\n",
       "      <td>3.39</td>\n",
       "      <td>17850.0</td>\n",
       "      <td>United Kingdom</td>\n",
       "    </tr>\n",
       "    <tr>\n",
       "      <th>2</th>\n",
       "      <td>536365</td>\n",
       "      <td>84406B</td>\n",
       "      <td>cream cupid hearts coat hanger</td>\n",
       "      <td>CREAM CUPID HEARTS COAT HANGER</td>\n",
       "      <td>8</td>\n",
       "      <td>2010-12-01 08:26:00</td>\n",
       "      <td>2.75</td>\n",
       "      <td>17850.0</td>\n",
       "      <td>United Kingdom</td>\n",
       "    </tr>\n",
       "    <tr>\n",
       "      <th>3</th>\n",
       "      <td>536365</td>\n",
       "      <td>84029G</td>\n",
       "      <td>knitted union flag hot water bottle</td>\n",
       "      <td>KNITTED UNION FLAG HOT WATER BOTTLE</td>\n",
       "      <td>6</td>\n",
       "      <td>2010-12-01 08:26:00</td>\n",
       "      <td>3.39</td>\n",
       "      <td>17850.0</td>\n",
       "      <td>United Kingdom</td>\n",
       "    </tr>\n",
       "    <tr>\n",
       "      <th>4</th>\n",
       "      <td>536365</td>\n",
       "      <td>84029E</td>\n",
       "      <td>red woolly hottie white heart.</td>\n",
       "      <td>RED WOOLLY HOTTIE WHITE HEART.</td>\n",
       "      <td>6</td>\n",
       "      <td>2010-12-01 08:26:00</td>\n",
       "      <td>3.39</td>\n",
       "      <td>17850.0</td>\n",
       "      <td>United Kingdom</td>\n",
       "    </tr>\n",
       "  </tbody>\n",
       "</table>\n",
       "</div>"
      ],
      "text/plain": [
       "  InvoiceNo StockCode                                lower  \\\n",
       "0    536365    85123A   white hanging heart t-light holder   \n",
       "1    536365     71053                  white metal lantern   \n",
       "2    536365    84406B       cream cupid hearts coat hanger   \n",
       "3    536365    84029G  knitted union flag hot water bottle   \n",
       "4    536365    84029E       red woolly hottie white heart.   \n",
       "\n",
       "                           Description  Quantity         InvoiceDate  \\\n",
       "0   WHITE HANGING HEART T-LIGHT HOLDER         6 2010-12-01 08:26:00   \n",
       "1                  WHITE METAL LANTERN         6 2010-12-01 08:26:00   \n",
       "2       CREAM CUPID HEARTS COAT HANGER         8 2010-12-01 08:26:00   \n",
       "3  KNITTED UNION FLAG HOT WATER BOTTLE         6 2010-12-01 08:26:00   \n",
       "4       RED WOOLLY HOTTIE WHITE HEART.         6 2010-12-01 08:26:00   \n",
       "\n",
       "   UnitPrice  CustomerID         Country  \n",
       "0       2.55     17850.0  United Kingdom  \n",
       "1       3.39     17850.0  United Kingdom  \n",
       "2       2.75     17850.0  United Kingdom  \n",
       "3       3.39     17850.0  United Kingdom  \n",
       "4       3.39     17850.0  United Kingdom  "
      ]
     },
     "execution_count": 14,
     "metadata": {},
     "output_type": "execute_result"
    }
   ],
   "source": [
    "df=pd.read_excel(\"Online_shopping.xlsx\")\n",
    "df.head()"
   ]
  },
  {
   "cell_type": "code",
   "execution_count": 15,
   "id": "310c0496",
   "metadata": {},
   "outputs": [
    {
     "data": {
      "text/plain": [
       "(541909, 9)"
      ]
     },
     "execution_count": 15,
     "metadata": {},
     "output_type": "execute_result"
    }
   ],
   "source": [
    "df.shape"
   ]
  },
  {
   "cell_type": "code",
   "execution_count": 16,
   "id": "9c15d222",
   "metadata": {},
   "outputs": [
    {
     "name": "stdout",
     "output_type": "stream",
     "text": [
      "<class 'pandas.core.frame.DataFrame'>\n",
      "RangeIndex: 541909 entries, 0 to 541908\n",
      "Data columns (total 9 columns):\n",
      " #   Column       Non-Null Count   Dtype         \n",
      "---  ------       --------------   -----         \n",
      " 0   InvoiceNo    541909 non-null  object        \n",
      " 1   StockCode    541909 non-null  object        \n",
      " 2   lower        1816 non-null    object        \n",
      " 3   Description  540455 non-null  object        \n",
      " 4   Quantity     541909 non-null  int64         \n",
      " 5   InvoiceDate  541909 non-null  datetime64[ns]\n",
      " 6   UnitPrice    541909 non-null  float64       \n",
      " 7   CustomerID   406829 non-null  float64       \n",
      " 8   Country      541909 non-null  object        \n",
      "dtypes: datetime64[ns](1), float64(2), int64(1), object(5)\n",
      "memory usage: 37.2+ MB\n"
     ]
    }
   ],
   "source": [
    "df.info()"
   ]
  },
  {
   "cell_type": "code",
   "execution_count": 5,
   "id": "53d10231",
   "metadata": {},
   "outputs": [],
   "source": []
  },
  {
   "cell_type": "code",
   "execution_count": 7,
   "id": "cbba8ec4",
   "metadata": {},
   "outputs": [],
   "source": [
    "# 1- Total 8 feature and this one is clustering problem so no target variable column is there.Data set consists of 541909 rows\n",
    "# 2- InvoiceDate column is already in datetime format\n",
    "# 3- Has null values in few features as well\n",
    "# 4- In cistomerID coloum we have null values."
   ]
  },
  {
   "cell_type": "code",
   "execution_count": 17,
   "id": "50706791",
   "metadata": {},
   "outputs": [
    {
     "data": {
      "text/plain": [
       "InvoiceNo       0.000000\n",
       "StockCode       0.000000\n",
       "lower          99.664888\n",
       "Description     0.268311\n",
       "Quantity        0.000000\n",
       "InvoiceDate     0.000000\n",
       "UnitPrice       0.000000\n",
       "CustomerID     24.926694\n",
       "Country         0.000000\n",
       "dtype: float64"
      ]
     },
     "execution_count": 17,
     "metadata": {},
     "output_type": "execute_result"
    }
   ],
   "source": [
    "df.isnull().sum()/len(df1)*100"
   ]
  },
  {
   "cell_type": "code",
   "execution_count": 18,
   "id": "0dd3d3ca-f0ea-4fc6-96e7-34816d3329e5",
   "metadata": {},
   "outputs": [
    {
     "data": {
      "text/plain": [
       "5268"
      ]
     },
     "execution_count": 18,
     "metadata": {},
     "output_type": "execute_result"
    }
   ],
   "source": [
    "df.duplicated().sum() # Ignoring duplicates"
   ]
  },
  {
   "cell_type": "code",
   "execution_count": 19,
   "id": "a535132f",
   "metadata": {},
   "outputs": [],
   "source": [
    "df1=df.copy()"
   ]
  },
  {
   "cell_type": "code",
   "execution_count": 20,
   "id": "ad9a22d7-d5aa-4154-be9f-4174499c2ebe",
   "metadata": {},
   "outputs": [],
   "source": [
    "df1=df1.dropna(subset=['CustomerID'])"
   ]
  },
  {
   "cell_type": "code",
   "execution_count": 21,
   "id": "a011b124-513b-4d0b-946f-38a4ce9bcc72",
   "metadata": {},
   "outputs": [
    {
     "data": {
      "text/plain": [
       "InvoiceNo           0\n",
       "StockCode           0\n",
       "lower          405387\n",
       "Description         0\n",
       "Quantity            0\n",
       "InvoiceDate         0\n",
       "UnitPrice           0\n",
       "CustomerID          0\n",
       "Country             0\n",
       "dtype: int64"
      ]
     },
     "execution_count": 21,
     "metadata": {},
     "output_type": "execute_result"
    }
   ],
   "source": [
    "df1.isnull().sum()"
   ]
  },
  {
   "cell_type": "markdown",
   "id": "e2ba5b91",
   "metadata": {},
   "source": [
    "# 1: Segment (Group/Cluster) customer on basis of RFM (Recency, Frequency, Monetary) "
   ]
  },
  {
   "cell_type": "code",
   "execution_count": 22,
   "id": "a0c655ea",
   "metadata": {},
   "outputs": [
    {
     "data": {
      "text/html": [
       "<div>\n",
       "<style scoped>\n",
       "    .dataframe tbody tr th:only-of-type {\n",
       "        vertical-align: middle;\n",
       "    }\n",
       "\n",
       "    .dataframe tbody tr th {\n",
       "        vertical-align: top;\n",
       "    }\n",
       "\n",
       "    .dataframe thead th {\n",
       "        text-align: right;\n",
       "    }\n",
       "</style>\n",
       "<table border=\"1\" class=\"dataframe\">\n",
       "  <thead>\n",
       "    <tr style=\"text-align: right;\">\n",
       "      <th></th>\n",
       "      <th>InvoiceNo</th>\n",
       "      <th>Quantity</th>\n",
       "      <th>InvoiceDate</th>\n",
       "      <th>UnitPrice</th>\n",
       "      <th>CustomerID</th>\n",
       "    </tr>\n",
       "  </thead>\n",
       "  <tbody>\n",
       "    <tr>\n",
       "      <th>0</th>\n",
       "      <td>536365</td>\n",
       "      <td>6</td>\n",
       "      <td>2010-12-01 08:26:00</td>\n",
       "      <td>2.55</td>\n",
       "      <td>17850.0</td>\n",
       "    </tr>\n",
       "    <tr>\n",
       "      <th>1</th>\n",
       "      <td>536365</td>\n",
       "      <td>6</td>\n",
       "      <td>2010-12-01 08:26:00</td>\n",
       "      <td>3.39</td>\n",
       "      <td>17850.0</td>\n",
       "    </tr>\n",
       "    <tr>\n",
       "      <th>2</th>\n",
       "      <td>536365</td>\n",
       "      <td>8</td>\n",
       "      <td>2010-12-01 08:26:00</td>\n",
       "      <td>2.75</td>\n",
       "      <td>17850.0</td>\n",
       "    </tr>\n",
       "    <tr>\n",
       "      <th>3</th>\n",
       "      <td>536365</td>\n",
       "      <td>6</td>\n",
       "      <td>2010-12-01 08:26:00</td>\n",
       "      <td>3.39</td>\n",
       "      <td>17850.0</td>\n",
       "    </tr>\n",
       "    <tr>\n",
       "      <th>4</th>\n",
       "      <td>536365</td>\n",
       "      <td>6</td>\n",
       "      <td>2010-12-01 08:26:00</td>\n",
       "      <td>3.39</td>\n",
       "      <td>17850.0</td>\n",
       "    </tr>\n",
       "  </tbody>\n",
       "</table>\n",
       "</div>"
      ],
      "text/plain": [
       "  InvoiceNo  Quantity         InvoiceDate  UnitPrice  CustomerID\n",
       "0    536365         6 2010-12-01 08:26:00       2.55     17850.0\n",
       "1    536365         6 2010-12-01 08:26:00       3.39     17850.0\n",
       "2    536365         8 2010-12-01 08:26:00       2.75     17850.0\n",
       "3    536365         6 2010-12-01 08:26:00       3.39     17850.0\n",
       "4    536365         6 2010-12-01 08:26:00       3.39     17850.0"
      ]
     },
     "execution_count": 22,
     "metadata": {},
     "output_type": "execute_result"
    }
   ],
   "source": [
    "# Droping columns are insignificant for customer segmentation\n",
    "df2 = df1.drop(['StockCode','Description', 'Country','lower'], axis = 1)\n",
    "df2.head()"
   ]
  },
  {
   "cell_type": "code",
   "execution_count": 12,
   "id": "24f2424f",
   "metadata": {},
   "outputs": [
    {
     "data": {
      "text/html": [
       "<div>\n",
       "<style scoped>\n",
       "    .dataframe tbody tr th:only-of-type {\n",
       "        vertical-align: middle;\n",
       "    }\n",
       "\n",
       "    .dataframe tbody tr th {\n",
       "        vertical-align: top;\n",
       "    }\n",
       "\n",
       "    .dataframe thead th {\n",
       "        text-align: right;\n",
       "    }\n",
       "</style>\n",
       "<table border=\"1\" class=\"dataframe\">\n",
       "  <thead>\n",
       "    <tr style=\"text-align: right;\">\n",
       "      <th></th>\n",
       "      <th>count</th>\n",
       "      <th>mean</th>\n",
       "      <th>std</th>\n",
       "      <th>min</th>\n",
       "      <th>25%</th>\n",
       "      <th>50%</th>\n",
       "      <th>75%</th>\n",
       "      <th>max</th>\n",
       "    </tr>\n",
       "  </thead>\n",
       "  <tbody>\n",
       "    <tr>\n",
       "      <th>Quantity</th>\n",
       "      <td>541909.0</td>\n",
       "      <td>9.552250</td>\n",
       "      <td>218.081158</td>\n",
       "      <td>-80995.00</td>\n",
       "      <td>1.00</td>\n",
       "      <td>3.00000</td>\n",
       "      <td>10.00</td>\n",
       "      <td>80995.0</td>\n",
       "    </tr>\n",
       "    <tr>\n",
       "      <th>UnitPrice</th>\n",
       "      <td>541909.0</td>\n",
       "      <td>4.611114</td>\n",
       "      <td>96.759853</td>\n",
       "      <td>-11062.06</td>\n",
       "      <td>1.25</td>\n",
       "      <td>2.08000</td>\n",
       "      <td>4.13</td>\n",
       "      <td>38970.0</td>\n",
       "    </tr>\n",
       "    <tr>\n",
       "      <th>CustomerID</th>\n",
       "      <td>541909.0</td>\n",
       "      <td>15287.690570</td>\n",
       "      <td>1484.746010</td>\n",
       "      <td>12346.00</td>\n",
       "      <td>14367.00</td>\n",
       "      <td>15287.69057</td>\n",
       "      <td>16255.00</td>\n",
       "      <td>18287.0</td>\n",
       "    </tr>\n",
       "  </tbody>\n",
       "</table>\n",
       "</div>"
      ],
      "text/plain": [
       "               count          mean          std       min       25%  \\\n",
       "Quantity    541909.0      9.552250   218.081158 -80995.00      1.00   \n",
       "UnitPrice   541909.0      4.611114    96.759853 -11062.06      1.25   \n",
       "CustomerID  541909.0  15287.690570  1484.746010  12346.00  14367.00   \n",
       "\n",
       "                    50%       75%      max  \n",
       "Quantity        3.00000     10.00  80995.0  \n",
       "UnitPrice       2.08000      4.13  38970.0  \n",
       "CustomerID  15287.69057  16255.00  18287.0  "
      ]
     },
     "execution_count": 12,
     "metadata": {},
     "output_type": "execute_result"
    }
   ],
   "source": [
    "df2.describe().T"
   ]
  },
  {
   "cell_type": "code",
   "execution_count": 13,
   "id": "37012620",
   "metadata": {},
   "outputs": [],
   "source": [
    "#From descriptive statistics we can see that some of the order in quantity column are negative quantity.\n",
    "#It occurs when customer returns the defective product.\n",
    "# For total Sale we have to multiply 'Quantity' with 'UnitPrice'\n",
    "# In two ways we can handle negative quantity entries\n",
    "#1- Replace the negative quanity by 0 also so that total sale amount will be 0 for that entry\n",
    "#2- Leave the negative quantity as it is so that total sale will -ve and it will cancel out the +ve sale of that item to balance out"
   ]
  },
  {
   "cell_type": "markdown",
   "id": "ce92fd11",
   "metadata": {},
   "source": [
    "# But at least customer came and buy something so we need to count that sale amount so lets fill -ve qty by 0"
   ]
  },
  {
   "cell_type": "code",
   "execution_count": 23,
   "id": "d13cc853",
   "metadata": {},
   "outputs": [],
   "source": [
    "df2=df2[(df2[\"Quantity\"]>0)]"
   ]
  },
  {
   "cell_type": "code",
   "execution_count": 24,
   "id": "473958a0",
   "metadata": {},
   "outputs": [
    {
     "data": {
      "text/plain": [
       "(397924, 5)"
      ]
     },
     "execution_count": 24,
     "metadata": {},
     "output_type": "execute_result"
    }
   ],
   "source": [
    "df2.shape\n",
    "# By removing negative and 0 quantity items we have reduced 10624 rows but considered the sales done."
   ]
  },
  {
   "cell_type": "code",
   "execution_count": 25,
   "id": "35589e9c",
   "metadata": {},
   "outputs": [
    {
     "data": {
      "text/html": [
       "<div>\n",
       "<style scoped>\n",
       "    .dataframe tbody tr th:only-of-type {\n",
       "        vertical-align: middle;\n",
       "    }\n",
       "\n",
       "    .dataframe tbody tr th {\n",
       "        vertical-align: top;\n",
       "    }\n",
       "\n",
       "    .dataframe thead th {\n",
       "        text-align: right;\n",
       "    }\n",
       "</style>\n",
       "<table border=\"1\" class=\"dataframe\">\n",
       "  <thead>\n",
       "    <tr style=\"text-align: right;\">\n",
       "      <th></th>\n",
       "      <th>InvoiceNo</th>\n",
       "      <th>Quantity</th>\n",
       "      <th>InvoiceDate</th>\n",
       "      <th>UnitPrice</th>\n",
       "      <th>CustomerID</th>\n",
       "      <th>Total</th>\n",
       "    </tr>\n",
       "  </thead>\n",
       "  <tbody>\n",
       "    <tr>\n",
       "      <th>0</th>\n",
       "      <td>536365</td>\n",
       "      <td>6</td>\n",
       "      <td>2010-12-01 08:26:00</td>\n",
       "      <td>2.55</td>\n",
       "      <td>17850.0</td>\n",
       "      <td>15.30</td>\n",
       "    </tr>\n",
       "    <tr>\n",
       "      <th>1</th>\n",
       "      <td>536365</td>\n",
       "      <td>6</td>\n",
       "      <td>2010-12-01 08:26:00</td>\n",
       "      <td>3.39</td>\n",
       "      <td>17850.0</td>\n",
       "      <td>20.34</td>\n",
       "    </tr>\n",
       "    <tr>\n",
       "      <th>2</th>\n",
       "      <td>536365</td>\n",
       "      <td>8</td>\n",
       "      <td>2010-12-01 08:26:00</td>\n",
       "      <td>2.75</td>\n",
       "      <td>17850.0</td>\n",
       "      <td>22.00</td>\n",
       "    </tr>\n",
       "    <tr>\n",
       "      <th>3</th>\n",
       "      <td>536365</td>\n",
       "      <td>6</td>\n",
       "      <td>2010-12-01 08:26:00</td>\n",
       "      <td>3.39</td>\n",
       "      <td>17850.0</td>\n",
       "      <td>20.34</td>\n",
       "    </tr>\n",
       "    <tr>\n",
       "      <th>4</th>\n",
       "      <td>536365</td>\n",
       "      <td>6</td>\n",
       "      <td>2010-12-01 08:26:00</td>\n",
       "      <td>3.39</td>\n",
       "      <td>17850.0</td>\n",
       "      <td>20.34</td>\n",
       "    </tr>\n",
       "  </tbody>\n",
       "</table>\n",
       "</div>"
      ],
      "text/plain": [
       "  InvoiceNo  Quantity         InvoiceDate  UnitPrice  CustomerID  Total\n",
       "0    536365         6 2010-12-01 08:26:00       2.55     17850.0  15.30\n",
       "1    536365         6 2010-12-01 08:26:00       3.39     17850.0  20.34\n",
       "2    536365         8 2010-12-01 08:26:00       2.75     17850.0  22.00\n",
       "3    536365         6 2010-12-01 08:26:00       3.39     17850.0  20.34\n",
       "4    536365         6 2010-12-01 08:26:00       3.39     17850.0  20.34"
      ]
     },
     "execution_count": 25,
     "metadata": {},
     "output_type": "execute_result"
    }
   ],
   "source": [
    "#Creating another column by calculating Total Sale (Sale= Qty x UnitPrice)\n",
    "df2[\"Total\"]=df2[\"Quantity\"]*df2[\"UnitPrice\"]\n",
    "df2.head()"
   ]
  },
  {
   "cell_type": "markdown",
   "id": "f38a6cf4",
   "metadata": {},
   "source": [
    "# 5 FINDING CUSTOMER VALUATION - CLTV\n"
   ]
  },
  {
   "cell_type": "markdown",
   "id": "712a4a4c",
   "metadata": {},
   "source": [
    "For customer evaluation we can think the problem statement as a regression problem.\n",
    "\n",
    "Customer Life time value(CLTV) is a quantitative analysis and \n",
    "one of the most important metric to modern customer centric business senario.\n",
    "\n",
    "Customer Lifetime Value is the amount of monetary value a customer\n",
    "will bring to your company during their lifetime, from the first \n",
    "to the last purchase. In other words, it is a number that represents \n",
    "the total amount spent by a single customer on your products \n",
    "or services over their lifespan.\n",
    "\n",
    "Customer Lifetime Value (CLTV) is the average revenue you can generate from customers over the entire lifetime of their account. \n",
    "\n",
    "Based on that specific number, you will have a better sense of how much \n",
    "you can spend on customer acquisition, how much you should invest into \n",
    "your existing customers, and you can define strategies and a budget \n",
    "to increase your Customer Lifetime Value in eCommerce or retain your \n",
    "high-value customers."
   ]
  },
  {
   "cell_type": "code",
   "execution_count": 119,
   "id": "ad3ae478",
   "metadata": {},
   "outputs": [
    {
     "data": {
      "text/html": [
       "<div>\n",
       "<style scoped>\n",
       "    .dataframe tbody tr th:only-of-type {\n",
       "        vertical-align: middle;\n",
       "    }\n",
       "\n",
       "    .dataframe tbody tr th {\n",
       "        vertical-align: top;\n",
       "    }\n",
       "\n",
       "    .dataframe thead th {\n",
       "        text-align: right;\n",
       "    }\n",
       "</style>\n",
       "<table border=\"1\" class=\"dataframe\">\n",
       "  <thead>\n",
       "    <tr style=\"text-align: right;\">\n",
       "      <th></th>\n",
       "      <th>InvoiceNo</th>\n",
       "      <th>Quantity</th>\n",
       "      <th>InvoiceDate</th>\n",
       "      <th>UnitPrice</th>\n",
       "      <th>CustomerID</th>\n",
       "      <th>Total</th>\n",
       "    </tr>\n",
       "  </thead>\n",
       "  <tbody>\n",
       "    <tr>\n",
       "      <th>0</th>\n",
       "      <td>536365</td>\n",
       "      <td>6</td>\n",
       "      <td>2010-12-01 08:26:00</td>\n",
       "      <td>2.55</td>\n",
       "      <td>17850.0</td>\n",
       "      <td>15.30</td>\n",
       "    </tr>\n",
       "    <tr>\n",
       "      <th>1</th>\n",
       "      <td>536365</td>\n",
       "      <td>6</td>\n",
       "      <td>2010-12-01 08:26:00</td>\n",
       "      <td>3.39</td>\n",
       "      <td>17850.0</td>\n",
       "      <td>20.34</td>\n",
       "    </tr>\n",
       "    <tr>\n",
       "      <th>2</th>\n",
       "      <td>536365</td>\n",
       "      <td>8</td>\n",
       "      <td>2010-12-01 08:26:00</td>\n",
       "      <td>2.75</td>\n",
       "      <td>17850.0</td>\n",
       "      <td>22.00</td>\n",
       "    </tr>\n",
       "    <tr>\n",
       "      <th>3</th>\n",
       "      <td>536365</td>\n",
       "      <td>6</td>\n",
       "      <td>2010-12-01 08:26:00</td>\n",
       "      <td>3.39</td>\n",
       "      <td>17850.0</td>\n",
       "      <td>20.34</td>\n",
       "    </tr>\n",
       "    <tr>\n",
       "      <th>4</th>\n",
       "      <td>536365</td>\n",
       "      <td>6</td>\n",
       "      <td>2010-12-01 08:26:00</td>\n",
       "      <td>3.39</td>\n",
       "      <td>17850.0</td>\n",
       "      <td>20.34</td>\n",
       "    </tr>\n",
       "  </tbody>\n",
       "</table>\n",
       "</div>"
      ],
      "text/plain": [
       "  InvoiceNo  Quantity         InvoiceDate  UnitPrice  CustomerID  Total\n",
       "0    536365         6 2010-12-01 08:26:00       2.55     17850.0  15.30\n",
       "1    536365         6 2010-12-01 08:26:00       3.39     17850.0  20.34\n",
       "2    536365         8 2010-12-01 08:26:00       2.75     17850.0  22.00\n",
       "3    536365         6 2010-12-01 08:26:00       3.39     17850.0  20.34\n",
       "4    536365         6 2010-12-01 08:26:00       3.39     17850.0  20.34"
      ]
     },
     "execution_count": 119,
     "metadata": {},
     "output_type": "execute_result"
    }
   ],
   "source": [
    "dfcltv=df2[['InvoiceNo','Quantity','InvoiceDate','UnitPrice','CustomerID','Total']]\n",
    "dfcltv.head()"
   ]
  },
  {
   "cell_type": "markdown",
   "id": "c09bedec",
   "metadata": {},
   "source": [
    "# CLTV= Average Total Order value * Purchases Frequency / Churn Rate"
   ]
  },
  {
   "cell_type": "markdown",
   "id": "629912de",
   "metadata": {},
   "source": [
    "\n",
    "For CLTV we need to calculate 3 things of each customer\n",
    "\n",
    "1.Average Total Order value = Monetary/Frequency i.e. Total shopping done/No. of orders placed\n",
    "\n",
    "2.Average Purchases per year or Purchase Frequency\n",
    "\n",
    "3.Churn rate"
   ]
  },
  {
   "cell_type": "code",
   "execution_count": 120,
   "id": "35b780a8",
   "metadata": {},
   "outputs": [
    {
     "data": {
      "text/html": [
       "<div>\n",
       "<style scoped>\n",
       "    .dataframe tbody tr th:only-of-type {\n",
       "        vertical-align: middle;\n",
       "    }\n",
       "\n",
       "    .dataframe tbody tr th {\n",
       "        vertical-align: top;\n",
       "    }\n",
       "\n",
       "    .dataframe thead th {\n",
       "        text-align: right;\n",
       "    }\n",
       "</style>\n",
       "<table border=\"1\" class=\"dataframe\">\n",
       "  <thead>\n",
       "    <tr style=\"text-align: right;\">\n",
       "      <th></th>\n",
       "      <th>CustomerID</th>\n",
       "      <th>Recency</th>\n",
       "      <th>Frequency</th>\n",
       "      <th>Monetary</th>\n",
       "      <th>R</th>\n",
       "      <th>F</th>\n",
       "      <th>M</th>\n",
       "      <th>RFM_sum</th>\n",
       "      <th>RFM_loyality</th>\n",
       "      <th>RFM_ID</th>\n",
       "      <th>Segment</th>\n",
       "      <th>Cluster</th>\n",
       "    </tr>\n",
       "  </thead>\n",
       "  <tbody>\n",
       "    <tr>\n",
       "      <th>0</th>\n",
       "      <td>12346.0</td>\n",
       "      <td>325</td>\n",
       "      <td>1</td>\n",
       "      <td>77183.60</td>\n",
       "      <td>1</td>\n",
       "      <td>1</td>\n",
       "      <td>5</td>\n",
       "      <td>7</td>\n",
       "      <td>Diamond</td>\n",
       "      <td>115</td>\n",
       "      <td>cant_lose</td>\n",
       "      <td>1</td>\n",
       "    </tr>\n",
       "    <tr>\n",
       "      <th>1</th>\n",
       "      <td>12347.0</td>\n",
       "      <td>2</td>\n",
       "      <td>7</td>\n",
       "      <td>4310.00</td>\n",
       "      <td>4</td>\n",
       "      <td>2</td>\n",
       "      <td>3</td>\n",
       "      <td>9</td>\n",
       "      <td>Diamond</td>\n",
       "      <td>423</td>\n",
       "      <td>Drive_Loyality</td>\n",
       "      <td>1</td>\n",
       "    </tr>\n",
       "    <tr>\n",
       "      <th>2</th>\n",
       "      <td>12348.0</td>\n",
       "      <td>75</td>\n",
       "      <td>4</td>\n",
       "      <td>1797.24</td>\n",
       "      <td>2</td>\n",
       "      <td>1</td>\n",
       "      <td>2</td>\n",
       "      <td>5</td>\n",
       "      <td>Gold</td>\n",
       "      <td>212</td>\n",
       "      <td>new customer</td>\n",
       "      <td>3</td>\n",
       "    </tr>\n",
       "    <tr>\n",
       "      <th>3</th>\n",
       "      <td>12349.0</td>\n",
       "      <td>18</td>\n",
       "      <td>1</td>\n",
       "      <td>1757.55</td>\n",
       "      <td>4</td>\n",
       "      <td>1</td>\n",
       "      <td>2</td>\n",
       "      <td>7</td>\n",
       "      <td>Diamond</td>\n",
       "      <td>412</td>\n",
       "      <td>students</td>\n",
       "      <td>1</td>\n",
       "    </tr>\n",
       "    <tr>\n",
       "      <th>4</th>\n",
       "      <td>12350.0</td>\n",
       "      <td>310</td>\n",
       "      <td>1</td>\n",
       "      <td>334.40</td>\n",
       "      <td>1</td>\n",
       "      <td>1</td>\n",
       "      <td>1</td>\n",
       "      <td>3</td>\n",
       "      <td>Silver</td>\n",
       "      <td>111</td>\n",
       "      <td>new customer</td>\n",
       "      <td>0</td>\n",
       "    </tr>\n",
       "  </tbody>\n",
       "</table>\n",
       "</div>"
      ],
      "text/plain": [
       "   CustomerID  Recency  Frequency  Monetary  R  F  M  RFM_sum RFM_loyality  \\\n",
       "0     12346.0      325          1  77183.60  1  1  5        7      Diamond   \n",
       "1     12347.0        2          7   4310.00  4  2  3        9      Diamond   \n",
       "2     12348.0       75          4   1797.24  2  1  2        5         Gold   \n",
       "3     12349.0       18          1   1757.55  4  1  2        7      Diamond   \n",
       "4     12350.0      310          1    334.40  1  1  1        3       Silver   \n",
       "\n",
       "  RFM_ID         Segment  Cluster  \n",
       "0    115       cant_lose        1  \n",
       "1    423  Drive_Loyality        1  \n",
       "2    212    new customer        3  \n",
       "3    412        students        1  \n",
       "4    111    new customer        0  "
      ]
     },
     "execution_count": 120,
     "metadata": {},
     "output_type": "execute_result"
    }
   ],
   "source": [
    "#For finding Average Total Order value we can use RFMScore table\n",
    "RFMScore.head()"
   ]
  },
  {
   "cell_type": "code",
   "execution_count": 121,
   "id": "436437a0",
   "metadata": {},
   "outputs": [
    {
     "data": {
      "text/html": [
       "<div>\n",
       "<style scoped>\n",
       "    .dataframe tbody tr th:only-of-type {\n",
       "        vertical-align: middle;\n",
       "    }\n",
       "\n",
       "    .dataframe tbody tr th {\n",
       "        vertical-align: top;\n",
       "    }\n",
       "\n",
       "    .dataframe thead th {\n",
       "        text-align: right;\n",
       "    }\n",
       "</style>\n",
       "<table border=\"1\" class=\"dataframe\">\n",
       "  <thead>\n",
       "    <tr style=\"text-align: right;\">\n",
       "      <th></th>\n",
       "      <th>CustomerID</th>\n",
       "      <th>Recency</th>\n",
       "      <th>Frequency</th>\n",
       "      <th>Monetary</th>\n",
       "      <th>R</th>\n",
       "      <th>F</th>\n",
       "      <th>M</th>\n",
       "      <th>RFM_sum</th>\n",
       "      <th>RFM_loyality</th>\n",
       "      <th>RFM_ID</th>\n",
       "      <th>Segment</th>\n",
       "      <th>Cluster</th>\n",
       "      <th>avg_order_value</th>\n",
       "    </tr>\n",
       "  </thead>\n",
       "  <tbody>\n",
       "    <tr>\n",
       "      <th>0</th>\n",
       "      <td>12346.0</td>\n",
       "      <td>325</td>\n",
       "      <td>1</td>\n",
       "      <td>77183.60</td>\n",
       "      <td>1</td>\n",
       "      <td>1</td>\n",
       "      <td>5</td>\n",
       "      <td>7</td>\n",
       "      <td>Diamond</td>\n",
       "      <td>115</td>\n",
       "      <td>cant_lose</td>\n",
       "      <td>1</td>\n",
       "      <td>77183.600000</td>\n",
       "    </tr>\n",
       "    <tr>\n",
       "      <th>1</th>\n",
       "      <td>12347.0</td>\n",
       "      <td>2</td>\n",
       "      <td>7</td>\n",
       "      <td>4310.00</td>\n",
       "      <td>4</td>\n",
       "      <td>2</td>\n",
       "      <td>3</td>\n",
       "      <td>9</td>\n",
       "      <td>Diamond</td>\n",
       "      <td>423</td>\n",
       "      <td>Drive_Loyality</td>\n",
       "      <td>1</td>\n",
       "      <td>615.714286</td>\n",
       "    </tr>\n",
       "    <tr>\n",
       "      <th>2</th>\n",
       "      <td>12348.0</td>\n",
       "      <td>75</td>\n",
       "      <td>4</td>\n",
       "      <td>1797.24</td>\n",
       "      <td>2</td>\n",
       "      <td>1</td>\n",
       "      <td>2</td>\n",
       "      <td>5</td>\n",
       "      <td>Gold</td>\n",
       "      <td>212</td>\n",
       "      <td>new customer</td>\n",
       "      <td>3</td>\n",
       "      <td>449.310000</td>\n",
       "    </tr>\n",
       "    <tr>\n",
       "      <th>3</th>\n",
       "      <td>12349.0</td>\n",
       "      <td>18</td>\n",
       "      <td>1</td>\n",
       "      <td>1757.55</td>\n",
       "      <td>4</td>\n",
       "      <td>1</td>\n",
       "      <td>2</td>\n",
       "      <td>7</td>\n",
       "      <td>Diamond</td>\n",
       "      <td>412</td>\n",
       "      <td>students</td>\n",
       "      <td>1</td>\n",
       "      <td>1757.550000</td>\n",
       "    </tr>\n",
       "    <tr>\n",
       "      <th>4</th>\n",
       "      <td>12350.0</td>\n",
       "      <td>310</td>\n",
       "      <td>1</td>\n",
       "      <td>334.40</td>\n",
       "      <td>1</td>\n",
       "      <td>1</td>\n",
       "      <td>1</td>\n",
       "      <td>3</td>\n",
       "      <td>Silver</td>\n",
       "      <td>111</td>\n",
       "      <td>new customer</td>\n",
       "      <td>0</td>\n",
       "      <td>334.400000</td>\n",
       "    </tr>\n",
       "  </tbody>\n",
       "</table>\n",
       "</div>"
      ],
      "text/plain": [
       "   CustomerID  Recency  Frequency  Monetary  R  F  M  RFM_sum RFM_loyality  \\\n",
       "0     12346.0      325          1  77183.60  1  1  5        7      Diamond   \n",
       "1     12347.0        2          7   4310.00  4  2  3        9      Diamond   \n",
       "2     12348.0       75          4   1797.24  2  1  2        5         Gold   \n",
       "3     12349.0       18          1   1757.55  4  1  2        7      Diamond   \n",
       "4     12350.0      310          1    334.40  1  1  1        3       Silver   \n",
       "\n",
       "  RFM_ID         Segment  Cluster  avg_order_value  \n",
       "0    115       cant_lose        1     77183.600000  \n",
       "1    423  Drive_Loyality        1       615.714286  \n",
       "2    212    new customer        3       449.310000  \n",
       "3    412        students        1      1757.550000  \n",
       "4    111    new customer        0       334.400000  "
      ]
     },
     "execution_count": 121,
     "metadata": {},
     "output_type": "execute_result"
    }
   ],
   "source": [
    "# AVERAGE ORDER VALUE\n",
    "\n",
    "RFMScore[\"avg_order_value\"]=RFMScore[\"Monetary\"]/RFMScore[\"Frequency\"]\n",
    "RFMScore.head()"
   ]
  },
  {
   "cell_type": "markdown",
   "id": "d2f06af1",
   "metadata": {},
   "source": [
    "In ecommerce, companies are battling for attention, customers, and loyalty.\n",
    "They typically adopt two broad strategic approaches-\n",
    "1. Customer Acquisition\n",
    "2. Customer Retention\n",
    "However, customer acquisition is costly — around five times more than customer retention on average. "
   ]
  },
  {
   "cell_type": "markdown",
   "id": "99605193",
   "metadata": {},
   "source": [
    "# Repeat Purchase Rate"
   ]
  },
  {
   "cell_type": "markdown",
   "id": "849f577f",
   "metadata": {},
   "source": [
    "\n",
    "The repeat purchase rate is the first place to start when you decide to focus more time and energy on existing customers.\n",
    "The repeat purchase rate (or repeat customer rate), is a metric that calculates the ratio of repeat customers to the overall customer base\n",
    "This metric is essential because it tells you how poorly or successfully your customer retention strategies are performing.\n",
    "The retention rate does not consider new customers so it is different from customerretention rate."
   ]
  },
  {
   "cell_type": "markdown",
   "id": "1ea40485",
   "metadata": {},
   "source": [
    "Repeat Purchase Rate = The no of customers completed 2 or more purchases during a given time frame / The total number of customers who bought from your company in the same period "
   ]
  },
  {
   "cell_type": "code",
   "execution_count": 122,
   "id": "0b4a8144",
   "metadata": {},
   "outputs": [
    {
     "data": {
      "text/plain": [
       "2848"
      ]
     },
     "execution_count": 122,
     "metadata": {},
     "output_type": "execute_result"
    }
   ],
   "source": [
    "RFMScore[RFMScore[\"Frequency\"]>1].shape[0]"
   ]
  },
  {
   "cell_type": "code",
   "execution_count": 123,
   "id": "182d74e8",
   "metadata": {},
   "outputs": [
    {
     "data": {
      "text/plain": [
       "4340"
      ]
     },
     "execution_count": 123,
     "metadata": {},
     "output_type": "execute_result"
    }
   ],
   "source": [
    "RFMScore.shape[0]"
   ]
  },
  {
   "cell_type": "code",
   "execution_count": 124,
   "id": "6866d8c3",
   "metadata": {},
   "outputs": [
    {
     "data": {
      "text/plain": [
       "0.656221198156682"
      ]
     },
     "execution_count": 124,
     "metadata": {},
     "output_type": "execute_result"
    }
   ],
   "source": [
    "#Repeat Rate\n",
    "repeat_rate=RFMScore[RFMScore[\"Frequency\"]>1].shape[0]/RFMScore.shape[0] #shape[0] gives the no of customers\n",
    "repeat_rate"
   ]
  },
  {
   "cell_type": "markdown",
   "id": "20630f9a",
   "metadata": {},
   "source": [
    "# Purchase Frequency"
   ]
  },
  {
   "cell_type": "markdown",
   "id": "983e6cbd",
   "metadata": {},
   "source": [
    "Customer purchase frequency = Total Number of orders ÷ Total Number of unique customers"
   ]
  },
  {
   "cell_type": "markdown",
   "id": "51172749",
   "metadata": {},
   "source": [
    "If you know how frequently customers are coming back to make purchases, \n",
    "you’ll have a good understanding of your success at converting customers into repeat clients, \n",
    "helping you to make decisions about your customer retention strategy. "
   ]
  },
  {
   "cell_type": "code",
   "execution_count": 125,
   "id": "36091435",
   "metadata": {},
   "outputs": [
    {
     "data": {
      "text/plain": [
       "20770"
      ]
     },
     "execution_count": 125,
     "metadata": {},
     "output_type": "execute_result"
    }
   ],
   "source": [
    "sum(RFMScore[\"Frequency\"])"
   ]
  },
  {
   "cell_type": "code",
   "execution_count": 126,
   "id": "4d21627b",
   "metadata": {},
   "outputs": [
    {
     "data": {
      "text/plain": [
       "4340"
      ]
     },
     "execution_count": 126,
     "metadata": {},
     "output_type": "execute_result"
    }
   ],
   "source": [
    "RFMScore.shape[0]"
   ]
  },
  {
   "cell_type": "code",
   "execution_count": 127,
   "id": "9a9c187e",
   "metadata": {},
   "outputs": [
    {
     "data": {
      "text/plain": [
       "4.785714285714286"
      ]
     },
     "execution_count": 127,
     "metadata": {},
     "output_type": "execute_result"
    }
   ],
   "source": [
    "#Purchase Frquency\n",
    "purchase_frequency=sum(RFMScore[\"Frequency\"])/RFMScore.shape[0]\n",
    "purchase_frequency"
   ]
  },
  {
   "cell_type": "markdown",
   "id": "d9689a3a",
   "metadata": {},
   "source": [
    "# Churn Rate"
   ]
  },
  {
   "cell_type": "markdown",
   "id": "e798ff6b",
   "metadata": {},
   "source": [
    "eCommerce churn is the term used to describe the number of customers who stop buying from your online store.\n",
    "The churn rate is the percentage of customers who stop doing business with you over a predetermined period. \n",
    "The important thing is that your churn rate remains as low as possible and doesn’t exceed your growth rate."
   ]
  },
  {
   "cell_type": "code",
   "execution_count": 128,
   "id": "6c5851a6",
   "metadata": {},
   "outputs": [
    {
     "data": {
      "text/plain": [
       "0.343778801843318"
      ]
     },
     "execution_count": 128,
     "metadata": {},
     "output_type": "execute_result"
    }
   ],
   "source": [
    "#ChurnRate\n",
    "churn_rate=1-repeat_rate\n",
    "churn_rate"
   ]
  },
  {
   "cell_type": "code",
   "execution_count": 129,
   "id": "269f25d9",
   "metadata": {},
   "outputs": [
    {
     "data": {
      "text/plain": [
       "(4.785714285714286, 0.656221198156682, 0.343778801843318)"
      ]
     },
     "execution_count": 129,
     "metadata": {},
     "output_type": "execute_result"
    }
   ],
   "source": [
    "purchase_frequency,repeat_rate,churn_rate"
   ]
  },
  {
   "cell_type": "code",
   "execution_count": 132,
   "id": "88cbe4c7",
   "metadata": {},
   "outputs": [
    {
     "data": {
      "text/html": [
       "<div>\n",
       "<style scoped>\n",
       "    .dataframe tbody tr th:only-of-type {\n",
       "        vertical-align: middle;\n",
       "    }\n",
       "\n",
       "    .dataframe tbody tr th {\n",
       "        vertical-align: top;\n",
       "    }\n",
       "\n",
       "    .dataframe thead th {\n",
       "        text-align: right;\n",
       "    }\n",
       "</style>\n",
       "<table border=\"1\" class=\"dataframe\">\n",
       "  <thead>\n",
       "    <tr style=\"text-align: right;\">\n",
       "      <th></th>\n",
       "      <th>CustomerID</th>\n",
       "      <th>Recency</th>\n",
       "      <th>Frequency</th>\n",
       "      <th>Monetary</th>\n",
       "      <th>R</th>\n",
       "      <th>F</th>\n",
       "      <th>M</th>\n",
       "      <th>RFM_sum</th>\n",
       "      <th>RFM_loyality</th>\n",
       "      <th>RFM_ID</th>\n",
       "      <th>Segment</th>\n",
       "      <th>Cluster</th>\n",
       "      <th>avg_order_value</th>\n",
       "      <th>CLTV</th>\n",
       "    </tr>\n",
       "  </thead>\n",
       "  <tbody>\n",
       "    <tr>\n",
       "      <th>0</th>\n",
       "      <td>12346.0</td>\n",
       "      <td>325</td>\n",
       "      <td>1</td>\n",
       "      <td>77183.60</td>\n",
       "      <td>1</td>\n",
       "      <td>1</td>\n",
       "      <td>5</td>\n",
       "      <td>7</td>\n",
       "      <td>Diamond</td>\n",
       "      <td>115</td>\n",
       "      <td>cant_lose</td>\n",
       "      <td>1</td>\n",
       "      <td>77183.600000</td>\n",
       "      <td>1.074466e+06</td>\n",
       "    </tr>\n",
       "    <tr>\n",
       "      <th>1</th>\n",
       "      <td>12347.0</td>\n",
       "      <td>2</td>\n",
       "      <td>7</td>\n",
       "      <td>4310.00</td>\n",
       "      <td>4</td>\n",
       "      <td>2</td>\n",
       "      <td>3</td>\n",
       "      <td>9</td>\n",
       "      <td>Diamond</td>\n",
       "      <td>423</td>\n",
       "      <td>Drive_Loyality</td>\n",
       "      <td>1</td>\n",
       "      <td>615.714286</td>\n",
       "      <td>8.571304e+03</td>\n",
       "    </tr>\n",
       "    <tr>\n",
       "      <th>2</th>\n",
       "      <td>12348.0</td>\n",
       "      <td>75</td>\n",
       "      <td>4</td>\n",
       "      <td>1797.24</td>\n",
       "      <td>2</td>\n",
       "      <td>1</td>\n",
       "      <td>2</td>\n",
       "      <td>5</td>\n",
       "      <td>Gold</td>\n",
       "      <td>212</td>\n",
       "      <td>new customer</td>\n",
       "      <td>3</td>\n",
       "      <td>449.310000</td>\n",
       "      <td>6.254805e+03</td>\n",
       "    </tr>\n",
       "    <tr>\n",
       "      <th>3</th>\n",
       "      <td>12349.0</td>\n",
       "      <td>18</td>\n",
       "      <td>1</td>\n",
       "      <td>1757.55</td>\n",
       "      <td>4</td>\n",
       "      <td>1</td>\n",
       "      <td>2</td>\n",
       "      <td>7</td>\n",
       "      <td>Diamond</td>\n",
       "      <td>412</td>\n",
       "      <td>students</td>\n",
       "      <td>1</td>\n",
       "      <td>1757.550000</td>\n",
       "      <td>2.446670e+04</td>\n",
       "    </tr>\n",
       "    <tr>\n",
       "      <th>4</th>\n",
       "      <td>12350.0</td>\n",
       "      <td>310</td>\n",
       "      <td>1</td>\n",
       "      <td>334.40</td>\n",
       "      <td>1</td>\n",
       "      <td>1</td>\n",
       "      <td>1</td>\n",
       "      <td>3</td>\n",
       "      <td>Silver</td>\n",
       "      <td>111</td>\n",
       "      <td>new customer</td>\n",
       "      <td>0</td>\n",
       "      <td>334.400000</td>\n",
       "      <td>4.655153e+03</td>\n",
       "    </tr>\n",
       "  </tbody>\n",
       "</table>\n",
       "</div>"
      ],
      "text/plain": [
       "   CustomerID  Recency  Frequency  Monetary  R  F  M  RFM_sum RFM_loyality  \\\n",
       "0     12346.0      325          1  77183.60  1  1  5        7      Diamond   \n",
       "1     12347.0        2          7   4310.00  4  2  3        9      Diamond   \n",
       "2     12348.0       75          4   1797.24  2  1  2        5         Gold   \n",
       "3     12349.0       18          1   1757.55  4  1  2        7      Diamond   \n",
       "4     12350.0      310          1    334.40  1  1  1        3       Silver   \n",
       "\n",
       "  RFM_ID         Segment  Cluster  avg_order_value          CLTV  \n",
       "0    115       cant_lose        1     77183.600000  1.074466e+06  \n",
       "1    423  Drive_Loyality        1       615.714286  8.571304e+03  \n",
       "2    212    new customer        3       449.310000  6.254805e+03  \n",
       "3    412        students        1      1757.550000  2.446670e+04  \n",
       "4    111    new customer        0       334.400000  4.655153e+03  "
      ]
     },
     "execution_count": 132,
     "metadata": {},
     "output_type": "execute_result"
    }
   ],
   "source": [
    "#customer value\n",
    "RFMScore[\"CLTV\"]=RFMScore[\"avg_order_value\"]*purchase_frequency/churn_rate\n",
    "RFMScore.head()"
   ]
  },
  {
   "cell_type": "markdown",
   "id": "e7fc9601",
   "metadata": {},
   "source": [
    "# Returns on customer lifetime = CLTV"
   ]
  },
  {
   "cell_type": "markdown",
   "id": "e7318b89",
   "metadata": {},
   "source": [
    "profit margin & CLTV\n",
    " Lets assume that business making 25% profit"
   ]
  },
  {
   "cell_type": "code",
   "execution_count": 136,
   "id": "08e50052",
   "metadata": {},
   "outputs": [
    {
     "data": {
      "text/html": [
       "<div>\n",
       "<style scoped>\n",
       "    .dataframe tbody tr th:only-of-type {\n",
       "        vertical-align: middle;\n",
       "    }\n",
       "\n",
       "    .dataframe tbody tr th {\n",
       "        vertical-align: top;\n",
       "    }\n",
       "\n",
       "    .dataframe thead th {\n",
       "        text-align: right;\n",
       "    }\n",
       "</style>\n",
       "<table border=\"1\" class=\"dataframe\">\n",
       "  <thead>\n",
       "    <tr style=\"text-align: right;\">\n",
       "      <th></th>\n",
       "      <th>CustomerID</th>\n",
       "      <th>Recency</th>\n",
       "      <th>Frequency</th>\n",
       "      <th>Monetary</th>\n",
       "      <th>R</th>\n",
       "      <th>F</th>\n",
       "      <th>M</th>\n",
       "      <th>RFM_sum</th>\n",
       "      <th>RFM_loyality</th>\n",
       "      <th>RFM_ID</th>\n",
       "      <th>Segment</th>\n",
       "      <th>Cluster</th>\n",
       "      <th>avg_order_value</th>\n",
       "      <th>CLTV</th>\n",
       "      <th>profit_margin</th>\n",
       "    </tr>\n",
       "  </thead>\n",
       "  <tbody>\n",
       "    <tr>\n",
       "      <th>0</th>\n",
       "      <td>12346.0</td>\n",
       "      <td>325</td>\n",
       "      <td>1</td>\n",
       "      <td>77183.60</td>\n",
       "      <td>1</td>\n",
       "      <td>1</td>\n",
       "      <td>5</td>\n",
       "      <td>7</td>\n",
       "      <td>Diamond</td>\n",
       "      <td>115</td>\n",
       "      <td>cant_lose</td>\n",
       "      <td>1</td>\n",
       "      <td>77183.600000</td>\n",
       "      <td>1.074466e+06</td>\n",
       "      <td>19295.9000</td>\n",
       "    </tr>\n",
       "    <tr>\n",
       "      <th>1</th>\n",
       "      <td>12347.0</td>\n",
       "      <td>2</td>\n",
       "      <td>7</td>\n",
       "      <td>4310.00</td>\n",
       "      <td>4</td>\n",
       "      <td>2</td>\n",
       "      <td>3</td>\n",
       "      <td>9</td>\n",
       "      <td>Diamond</td>\n",
       "      <td>423</td>\n",
       "      <td>Drive_Loyality</td>\n",
       "      <td>1</td>\n",
       "      <td>615.714286</td>\n",
       "      <td>8.571304e+03</td>\n",
       "      <td>1077.5000</td>\n",
       "    </tr>\n",
       "    <tr>\n",
       "      <th>2</th>\n",
       "      <td>12348.0</td>\n",
       "      <td>75</td>\n",
       "      <td>4</td>\n",
       "      <td>1797.24</td>\n",
       "      <td>2</td>\n",
       "      <td>1</td>\n",
       "      <td>2</td>\n",
       "      <td>5</td>\n",
       "      <td>Gold</td>\n",
       "      <td>212</td>\n",
       "      <td>new customer</td>\n",
       "      <td>3</td>\n",
       "      <td>449.310000</td>\n",
       "      <td>6.254805e+03</td>\n",
       "      <td>449.3100</td>\n",
       "    </tr>\n",
       "    <tr>\n",
       "      <th>3</th>\n",
       "      <td>12349.0</td>\n",
       "      <td>18</td>\n",
       "      <td>1</td>\n",
       "      <td>1757.55</td>\n",
       "      <td>4</td>\n",
       "      <td>1</td>\n",
       "      <td>2</td>\n",
       "      <td>7</td>\n",
       "      <td>Diamond</td>\n",
       "      <td>412</td>\n",
       "      <td>students</td>\n",
       "      <td>1</td>\n",
       "      <td>1757.550000</td>\n",
       "      <td>2.446670e+04</td>\n",
       "      <td>439.3875</td>\n",
       "    </tr>\n",
       "    <tr>\n",
       "      <th>4</th>\n",
       "      <td>12350.0</td>\n",
       "      <td>310</td>\n",
       "      <td>1</td>\n",
       "      <td>334.40</td>\n",
       "      <td>1</td>\n",
       "      <td>1</td>\n",
       "      <td>1</td>\n",
       "      <td>3</td>\n",
       "      <td>Silver</td>\n",
       "      <td>111</td>\n",
       "      <td>new customer</td>\n",
       "      <td>0</td>\n",
       "      <td>334.400000</td>\n",
       "      <td>4.655153e+03</td>\n",
       "      <td>83.6000</td>\n",
       "    </tr>\n",
       "  </tbody>\n",
       "</table>\n",
       "</div>"
      ],
      "text/plain": [
       "   CustomerID  Recency  Frequency  Monetary  R  F  M  RFM_sum RFM_loyality  \\\n",
       "0     12346.0      325          1  77183.60  1  1  5        7      Diamond   \n",
       "1     12347.0        2          7   4310.00  4  2  3        9      Diamond   \n",
       "2     12348.0       75          4   1797.24  2  1  2        5         Gold   \n",
       "3     12349.0       18          1   1757.55  4  1  2        7      Diamond   \n",
       "4     12350.0      310          1    334.40  1  1  1        3       Silver   \n",
       "\n",
       "  RFM_ID         Segment  Cluster  avg_order_value          CLTV  \\\n",
       "0    115       cant_lose        1     77183.600000  1.074466e+06   \n",
       "1    423  Drive_Loyality        1       615.714286  8.571304e+03   \n",
       "2    212    new customer        3       449.310000  6.254805e+03   \n",
       "3    412        students        1      1757.550000  2.446670e+04   \n",
       "4    111    new customer        0       334.400000  4.655153e+03   \n",
       "\n",
       "   profit_margin  \n",
       "0     19295.9000  \n",
       "1      1077.5000  \n",
       "2       449.3100  \n",
       "3       439.3875  \n",
       "4        83.6000  "
      ]
     },
     "execution_count": 136,
     "metadata": {},
     "output_type": "execute_result"
    }
   ],
   "source": [
    "#profit Margin\n",
    "RFMScore[\"profit_margin\"]=RFMScore[\"Monetary\"]*0.25\n",
    "RFMScore.head()\n"
   ]
  },
  {
   "cell_type": "code",
   "execution_count": 137,
   "id": "01f1d079",
   "metadata": {},
   "outputs": [],
   "source": [
    "# Returns on CUSTOMER LIFETIME VALUE\n",
    "RFMScore[\"cust_lifetime_value\"]=RFMScore[\"CLTV\"]*RFMScore[\"profit_margin\"]"
   ]
  },
  {
   "cell_type": "code",
   "execution_count": 141,
   "id": "d3f3541b",
   "metadata": {},
   "outputs": [
    {
     "data": {
      "text/html": [
       "<div>\n",
       "<style scoped>\n",
       "    .dataframe tbody tr th:only-of-type {\n",
       "        vertical-align: middle;\n",
       "    }\n",
       "\n",
       "    .dataframe tbody tr th {\n",
       "        vertical-align: top;\n",
       "    }\n",
       "\n",
       "    .dataframe thead th {\n",
       "        text-align: right;\n",
       "    }\n",
       "</style>\n",
       "<table border=\"1\" class=\"dataframe\">\n",
       "  <thead>\n",
       "    <tr style=\"text-align: right;\">\n",
       "      <th></th>\n",
       "      <th>CustomerID</th>\n",
       "      <th>Recency</th>\n",
       "      <th>Frequency</th>\n",
       "      <th>Monetary</th>\n",
       "      <th>avg_order_value</th>\n",
       "      <th>CLTV</th>\n",
       "      <th>profit_margin</th>\n",
       "      <th>cust_lifetime_value</th>\n",
       "    </tr>\n",
       "  </thead>\n",
       "  <tbody>\n",
       "    <tr>\n",
       "      <th>0</th>\n",
       "      <td>12346.0</td>\n",
       "      <td>325</td>\n",
       "      <td>1</td>\n",
       "      <td>77183.60</td>\n",
       "      <td>77183.600000</td>\n",
       "      <td>1.074466e+06</td>\n",
       "      <td>19295.9000</td>\n",
       "      <td>2.073279e+10</td>\n",
       "    </tr>\n",
       "    <tr>\n",
       "      <th>1</th>\n",
       "      <td>12347.0</td>\n",
       "      <td>2</td>\n",
       "      <td>7</td>\n",
       "      <td>4310.00</td>\n",
       "      <td>615.714286</td>\n",
       "      <td>8.571304e+03</td>\n",
       "      <td>1077.5000</td>\n",
       "      <td>9.235580e+06</td>\n",
       "    </tr>\n",
       "    <tr>\n",
       "      <th>2</th>\n",
       "      <td>12348.0</td>\n",
       "      <td>75</td>\n",
       "      <td>4</td>\n",
       "      <td>1797.24</td>\n",
       "      <td>449.310000</td>\n",
       "      <td>6.254805e+03</td>\n",
       "      <td>449.3100</td>\n",
       "      <td>2.810346e+06</td>\n",
       "    </tr>\n",
       "    <tr>\n",
       "      <th>3</th>\n",
       "      <td>12349.0</td>\n",
       "      <td>18</td>\n",
       "      <td>1</td>\n",
       "      <td>1757.55</td>\n",
       "      <td>1757.550000</td>\n",
       "      <td>2.446670e+04</td>\n",
       "      <td>439.3875</td>\n",
       "      <td>1.075036e+07</td>\n",
       "    </tr>\n",
       "    <tr>\n",
       "      <th>4</th>\n",
       "      <td>12350.0</td>\n",
       "      <td>310</td>\n",
       "      <td>1</td>\n",
       "      <td>334.40</td>\n",
       "      <td>334.400000</td>\n",
       "      <td>4.655153e+03</td>\n",
       "      <td>83.6000</td>\n",
       "      <td>3.891708e+05</td>\n",
       "    </tr>\n",
       "  </tbody>\n",
       "</table>\n",
       "</div>"
      ],
      "text/plain": [
       "   CustomerID  Recency  Frequency  Monetary  avg_order_value          CLTV  \\\n",
       "0     12346.0      325          1  77183.60     77183.600000  1.074466e+06   \n",
       "1     12347.0        2          7   4310.00       615.714286  8.571304e+03   \n",
       "2     12348.0       75          4   1797.24       449.310000  6.254805e+03   \n",
       "3     12349.0       18          1   1757.55      1757.550000  2.446670e+04   \n",
       "4     12350.0      310          1    334.40       334.400000  4.655153e+03   \n",
       "\n",
       "   profit_margin  cust_lifetime_value  \n",
       "0     19295.9000         2.073279e+10  \n",
       "1      1077.5000         9.235580e+06  \n",
       "2       449.3100         2.810346e+06  \n",
       "3       439.3875         1.075036e+07  \n",
       "4        83.6000         3.891708e+05  "
      ]
     },
     "execution_count": 141,
     "metadata": {},
     "output_type": "execute_result"
    }
   ],
   "source": [
    "RFMScore2=RFMScore[['CustomerID','Recency','Frequency','Monetary','avg_order_value','CLTV','profit_margin','cust_lifetime_value']]\n",
    "RFMScore2.head()"
   ]
  },
  {
   "cell_type": "markdown",
   "id": "a08c34bb",
   "metadata": {},
   "source": [
    "# Building a Regression model"
   ]
  },
  {
   "cell_type": "code",
   "execution_count": 143,
   "id": "1c5d9e30",
   "metadata": {},
   "outputs": [
    {
     "data": {
      "text/html": [
       "<div>\n",
       "<style scoped>\n",
       "    .dataframe tbody tr th:only-of-type {\n",
       "        vertical-align: middle;\n",
       "    }\n",
       "\n",
       "    .dataframe tbody tr th {\n",
       "        vertical-align: top;\n",
       "    }\n",
       "\n",
       "    .dataframe thead th {\n",
       "        text-align: right;\n",
       "    }\n",
       "</style>\n",
       "<table border=\"1\" class=\"dataframe\">\n",
       "  <thead>\n",
       "    <tr style=\"text-align: right;\">\n",
       "      <th></th>\n",
       "      <th>InvoiceNo</th>\n",
       "      <th>Quantity</th>\n",
       "      <th>InvoiceDate</th>\n",
       "      <th>UnitPrice</th>\n",
       "      <th>CustomerID</th>\n",
       "      <th>Total</th>\n",
       "      <th>month_yr</th>\n",
       "    </tr>\n",
       "  </thead>\n",
       "  <tbody>\n",
       "    <tr>\n",
       "      <th>0</th>\n",
       "      <td>536365</td>\n",
       "      <td>6</td>\n",
       "      <td>2010-12-01 08:26:00</td>\n",
       "      <td>2.55</td>\n",
       "      <td>17850.0</td>\n",
       "      <td>15.30</td>\n",
       "      <td>Dec-2010</td>\n",
       "    </tr>\n",
       "    <tr>\n",
       "      <th>1</th>\n",
       "      <td>536365</td>\n",
       "      <td>6</td>\n",
       "      <td>2010-12-01 08:26:00</td>\n",
       "      <td>3.39</td>\n",
       "      <td>17850.0</td>\n",
       "      <td>20.34</td>\n",
       "      <td>Dec-2010</td>\n",
       "    </tr>\n",
       "    <tr>\n",
       "      <th>2</th>\n",
       "      <td>536365</td>\n",
       "      <td>8</td>\n",
       "      <td>2010-12-01 08:26:00</td>\n",
       "      <td>2.75</td>\n",
       "      <td>17850.0</td>\n",
       "      <td>22.00</td>\n",
       "      <td>Dec-2010</td>\n",
       "    </tr>\n",
       "    <tr>\n",
       "      <th>3</th>\n",
       "      <td>536365</td>\n",
       "      <td>6</td>\n",
       "      <td>2010-12-01 08:26:00</td>\n",
       "      <td>3.39</td>\n",
       "      <td>17850.0</td>\n",
       "      <td>20.34</td>\n",
       "      <td>Dec-2010</td>\n",
       "    </tr>\n",
       "    <tr>\n",
       "      <th>4</th>\n",
       "      <td>536365</td>\n",
       "      <td>6</td>\n",
       "      <td>2010-12-01 08:26:00</td>\n",
       "      <td>3.39</td>\n",
       "      <td>17850.0</td>\n",
       "      <td>20.34</td>\n",
       "      <td>Dec-2010</td>\n",
       "    </tr>\n",
       "  </tbody>\n",
       "</table>\n",
       "</div>"
      ],
      "text/plain": [
       "  InvoiceNo  Quantity         InvoiceDate  UnitPrice  CustomerID  Total  \\\n",
       "0    536365         6 2010-12-01 08:26:00       2.55     17850.0  15.30   \n",
       "1    536365         6 2010-12-01 08:26:00       3.39     17850.0  20.34   \n",
       "2    536365         8 2010-12-01 08:26:00       2.75     17850.0  22.00   \n",
       "3    536365         6 2010-12-01 08:26:00       3.39     17850.0  20.34   \n",
       "4    536365         6 2010-12-01 08:26:00       3.39     17850.0  20.34   \n",
       "\n",
       "   month_yr  \n",
       "0  Dec-2010  \n",
       "1  Dec-2010  \n",
       "2  Dec-2010  \n",
       "3  Dec-2010  \n",
       "4  Dec-2010  "
      ]
     },
     "execution_count": 143,
     "metadata": {},
     "output_type": "execute_result"
    }
   ],
   "source": [
    "# creation of month year\n",
    "dfcltv[\"month_yr\"]=dfcltv[\"InvoiceDate\"].apply(lambda x: x.strftime(\"%b-%Y\"))# extract the month and year\n",
    "\n",
    "dfcltv.head()"
   ]
  },
  {
   "cell_type": "code",
   "execution_count": 146,
   "id": "19554e28",
   "metadata": {},
   "outputs": [],
   "source": [
    "sale=dfcltv.pivot_table(index=[\"CustomerID\"],columns=[\"month_yr\"],values=\"Total\",aggfunc=\"sum\",fill_value=0).reset_index()\n",
    "sale[\"CLV\"]=sale.iloc[:,2:].sum(axis=1)# sum all the months sale\n"
   ]
  },
  {
   "cell_type": "code",
   "execution_count": 147,
   "id": "382de0a2",
   "metadata": {},
   "outputs": [
    {
     "data": {
      "text/html": [
       "<div>\n",
       "<style scoped>\n",
       "    .dataframe tbody tr th:only-of-type {\n",
       "        vertical-align: middle;\n",
       "    }\n",
       "\n",
       "    .dataframe tbody tr th {\n",
       "        vertical-align: top;\n",
       "    }\n",
       "\n",
       "    .dataframe thead th {\n",
       "        text-align: right;\n",
       "    }\n",
       "</style>\n",
       "<table border=\"1\" class=\"dataframe\">\n",
       "  <thead>\n",
       "    <tr style=\"text-align: right;\">\n",
       "      <th>month_yr</th>\n",
       "      <th>CustomerID</th>\n",
       "      <th>Apr-2011</th>\n",
       "      <th>Aug-2011</th>\n",
       "      <th>Dec-2010</th>\n",
       "      <th>Dec-2011</th>\n",
       "      <th>Feb-2011</th>\n",
       "      <th>Jan-2011</th>\n",
       "      <th>Jul-2011</th>\n",
       "      <th>Jun-2011</th>\n",
       "      <th>Mar-2011</th>\n",
       "      <th>May-2011</th>\n",
       "      <th>Nov-2011</th>\n",
       "      <th>Oct-2011</th>\n",
       "      <th>Sep-2011</th>\n",
       "      <th>CLV</th>\n",
       "    </tr>\n",
       "  </thead>\n",
       "  <tbody>\n",
       "    <tr>\n",
       "      <th>0</th>\n",
       "      <td>12346.0</td>\n",
       "      <td>0.00</td>\n",
       "      <td>0.00</td>\n",
       "      <td>0.00</td>\n",
       "      <td>0.00</td>\n",
       "      <td>0.0</td>\n",
       "      <td>77183.60</td>\n",
       "      <td>0.0</td>\n",
       "      <td>0.00</td>\n",
       "      <td>0.0</td>\n",
       "      <td>0.0</td>\n",
       "      <td>0.00</td>\n",
       "      <td>0.00</td>\n",
       "      <td>0.0</td>\n",
       "      <td>77183.60</td>\n",
       "    </tr>\n",
       "    <tr>\n",
       "      <th>1</th>\n",
       "      <td>12347.0</td>\n",
       "      <td>636.25</td>\n",
       "      <td>584.91</td>\n",
       "      <td>711.79</td>\n",
       "      <td>224.82</td>\n",
       "      <td>0.0</td>\n",
       "      <td>475.39</td>\n",
       "      <td>0.0</td>\n",
       "      <td>382.52</td>\n",
       "      <td>0.0</td>\n",
       "      <td>0.0</td>\n",
       "      <td>0.00</td>\n",
       "      <td>1294.32</td>\n",
       "      <td>0.0</td>\n",
       "      <td>3673.75</td>\n",
       "    </tr>\n",
       "    <tr>\n",
       "      <th>2</th>\n",
       "      <td>12348.0</td>\n",
       "      <td>367.00</td>\n",
       "      <td>0.00</td>\n",
       "      <td>892.80</td>\n",
       "      <td>0.00</td>\n",
       "      <td>0.0</td>\n",
       "      <td>227.44</td>\n",
       "      <td>0.0</td>\n",
       "      <td>0.00</td>\n",
       "      <td>0.0</td>\n",
       "      <td>0.0</td>\n",
       "      <td>0.00</td>\n",
       "      <td>0.00</td>\n",
       "      <td>310.0</td>\n",
       "      <td>1430.24</td>\n",
       "    </tr>\n",
       "    <tr>\n",
       "      <th>3</th>\n",
       "      <td>12349.0</td>\n",
       "      <td>0.00</td>\n",
       "      <td>0.00</td>\n",
       "      <td>0.00</td>\n",
       "      <td>0.00</td>\n",
       "      <td>0.0</td>\n",
       "      <td>0.00</td>\n",
       "      <td>0.0</td>\n",
       "      <td>0.00</td>\n",
       "      <td>0.0</td>\n",
       "      <td>0.0</td>\n",
       "      <td>1757.55</td>\n",
       "      <td>0.00</td>\n",
       "      <td>0.0</td>\n",
       "      <td>1757.55</td>\n",
       "    </tr>\n",
       "    <tr>\n",
       "      <th>4</th>\n",
       "      <td>12350.0</td>\n",
       "      <td>0.00</td>\n",
       "      <td>0.00</td>\n",
       "      <td>0.00</td>\n",
       "      <td>0.00</td>\n",
       "      <td>334.4</td>\n",
       "      <td>0.00</td>\n",
       "      <td>0.0</td>\n",
       "      <td>0.00</td>\n",
       "      <td>0.0</td>\n",
       "      <td>0.0</td>\n",
       "      <td>0.00</td>\n",
       "      <td>0.00</td>\n",
       "      <td>0.0</td>\n",
       "      <td>334.40</td>\n",
       "    </tr>\n",
       "  </tbody>\n",
       "</table>\n",
       "</div>"
      ],
      "text/plain": [
       "month_yr  CustomerID  Apr-2011  Aug-2011  Dec-2010  Dec-2011  Feb-2011  \\\n",
       "0            12346.0      0.00      0.00      0.00      0.00       0.0   \n",
       "1            12347.0    636.25    584.91    711.79    224.82       0.0   \n",
       "2            12348.0    367.00      0.00    892.80      0.00       0.0   \n",
       "3            12349.0      0.00      0.00      0.00      0.00       0.0   \n",
       "4            12350.0      0.00      0.00      0.00      0.00     334.4   \n",
       "\n",
       "month_yr  Jan-2011  Jul-2011  Jun-2011  Mar-2011  May-2011  Nov-2011  \\\n",
       "0         77183.60       0.0      0.00       0.0       0.0      0.00   \n",
       "1           475.39       0.0    382.52       0.0       0.0      0.00   \n",
       "2           227.44       0.0      0.00       0.0       0.0      0.00   \n",
       "3             0.00       0.0      0.00       0.0       0.0   1757.55   \n",
       "4             0.00       0.0      0.00       0.0       0.0      0.00   \n",
       "\n",
       "month_yr  Oct-2011  Sep-2011       CLV  \n",
       "0             0.00       0.0  77183.60  \n",
       "1          1294.32       0.0   3673.75  \n",
       "2             0.00     310.0   1430.24  \n",
       "3             0.00       0.0   1757.55  \n",
       "4             0.00       0.0    334.40  "
      ]
     },
     "execution_count": 147,
     "metadata": {},
     "output_type": "execute_result"
    }
   ],
   "source": [
    "sale.head()"
   ]
  },
  {
   "cell_type": "markdown",
   "id": "b7bbdb08",
   "metadata": {},
   "source": [
    "Now lets build a regression model for existing customers.\n",
    "We need a set of dependent (Y) and independent variables (X). \n",
    "we shall take last six-month data as independent variables and \n",
    "total revenue over three years as a dependent variable.\n"
   ]
  },
  {
   "cell_type": "code",
   "execution_count": 148,
   "id": "bad8e48b",
   "metadata": {},
   "outputs": [],
   "source": [
    "X=sale[[\"Sep-2011\",\"Aug-2011\",\"Jul-2011\",\"Dec-2011\",\"Nov-2011\",\"Oct-2011\"]]\n",
    "Y=sale[\"CLV\"]"
   ]
  },
  {
   "cell_type": "code",
   "execution_count": 149,
   "id": "1c86387a",
   "metadata": {},
   "outputs": [
    {
     "name": "stdout",
     "output_type": "stream",
     "text": [
      "-49.32124274323223\n",
      "[0.9837198  2.43487669 2.44446529 1.02121234 2.08966068 1.62583706]\n"
     ]
    }
   ],
   "source": [
    "#SPLIT TRAINING AND TESTING\n",
    "from sklearn.model_selection import train_test_split\n",
    "X_train,X_test,Y_train,Y_test = train_test_split(X,Y,test_size = 0.2, random_state = 42)\n",
    "\n",
    "from sklearn.linear_model import LinearRegression\n",
    "lr = LinearRegression()\n",
    "lr.fit(X_train,Y_train)\n",
    "\n",
    "Y_pred=lr.predict(X_test)\n",
    "\n",
    "\n",
    "print(lr.intercept_)\n",
    "print(lr.coef_)"
   ]
  },
  {
   "cell_type": "code",
   "execution_count": 150,
   "id": "546ce30c",
   "metadata": {},
   "outputs": [
    {
     "name": "stdout",
     "output_type": "stream",
     "text": [
      "R-Square 0.9777690999899974\n",
      "MAE 675.5374198721219\n",
      "MSE 2120295.800197622\n",
      "RMSE 1456.1235525179934\n"
     ]
    }
   ],
   "source": [
    "from sklearn import metrics\n",
    "\n",
    "print(\"R-Square\", metrics.r2_score(Y_test,Y_pred))\n",
    "print(\"MAE\",metrics.mean_absolute_error(Y_test,Y_pred))\n",
    "print(\"MSE\",metrics.mean_squared_error(Y_test,Y_pred))\n",
    "print(\"RMSE\",np.sqrt(metrics.mean_squared_error(Y_test,Y_pred)))"
   ]
  },
  {
   "cell_type": "markdown",
   "id": "489b72e9",
   "metadata": {},
   "source": [
    "# when the model is deployed the ML algorithm helps to understand the patterns"
   ]
  }
 ],
 "metadata": {
  "kernelspec": {
   "display_name": "Python 3 (ipykernel)",
   "language": "python",
   "name": "python3"
  },
  "language_info": {
   "codemirror_mode": {
    "name": "ipython",
    "version": 3
   },
   "file_extension": ".py",
   "mimetype": "text/x-python",
   "name": "python",
   "nbconvert_exporter": "python",
   "pygments_lexer": "ipython3",
   "version": "3.12.7"
  }
 },
 "nbformat": 4,
 "nbformat_minor": 5
}
