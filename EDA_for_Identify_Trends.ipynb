{
 "cells": [
  {
   "cell_type": "code",
   "execution_count": 1,
   "id": "3ad5535f",
   "metadata": {},
   "outputs": [],
   "source": [
    "#Online shopping Customer Segmentation\n",
    "#**Problem statement**\n",
    "\n",
    "# 1: Segment (Group/Cluster) customer on basis of RFM (Recency, Frequency, Monetary) \n",
    "# 2: Segment (Group/Cluster) Identify trends for Day, Month, Season, Time by Invoice count\n",
    "# 3.Top 10 selling product \n",
    "# 4 Best product at country level.\n",
    "# 5 FINDING CUSTOMER VALUATION."
   ]
  },
  {
   "cell_type": "code",
   "execution_count": 3,
   "id": "10ab0c7a",
   "metadata": {},
   "outputs": [],
   "source": [
    "#import libraries\n",
    "import pandas as pd\n",
    "import numpy as np\n",
    "import matplotlib.pyplot as plt\n",
    "import seaborn as sns\n",
    "%matplotlib inline\n",
    "import warnings\n",
    "warnings.filterwarnings('ignore') "
   ]
  },
  {
   "cell_type": "code",
   "execution_count": 14,
   "id": "96c1554c",
   "metadata": {},
   "outputs": [
    {
     "data": {
      "text/html": [
       "<div>\n",
       "<style scoped>\n",
       "    .dataframe tbody tr th:only-of-type {\n",
       "        vertical-align: middle;\n",
       "    }\n",
       "\n",
       "    .dataframe tbody tr th {\n",
       "        vertical-align: top;\n",
       "    }\n",
       "\n",
       "    .dataframe thead th {\n",
       "        text-align: right;\n",
       "    }\n",
       "</style>\n",
       "<table border=\"1\" class=\"dataframe\">\n",
       "  <thead>\n",
       "    <tr style=\"text-align: right;\">\n",
       "      <th></th>\n",
       "      <th>InvoiceNo</th>\n",
       "      <th>StockCode</th>\n",
       "      <th>lower</th>\n",
       "      <th>Description</th>\n",
       "      <th>Quantity</th>\n",
       "      <th>InvoiceDate</th>\n",
       "      <th>UnitPrice</th>\n",
       "      <th>CustomerID</th>\n",
       "      <th>Country</th>\n",
       "    </tr>\n",
       "  </thead>\n",
       "  <tbody>\n",
       "    <tr>\n",
       "      <th>0</th>\n",
       "      <td>536365</td>\n",
       "      <td>85123A</td>\n",
       "      <td>white hanging heart t-light holder</td>\n",
       "      <td>WHITE HANGING HEART T-LIGHT HOLDER</td>\n",
       "      <td>6</td>\n",
       "      <td>2010-12-01 08:26:00</td>\n",
       "      <td>2.55</td>\n",
       "      <td>17850.0</td>\n",
       "      <td>United Kingdom</td>\n",
       "    </tr>\n",
       "    <tr>\n",
       "      <th>1</th>\n",
       "      <td>536365</td>\n",
       "      <td>71053</td>\n",
       "      <td>white metal lantern</td>\n",
       "      <td>WHITE METAL LANTERN</td>\n",
       "      <td>6</td>\n",
       "      <td>2010-12-01 08:26:00</td>\n",
       "      <td>3.39</td>\n",
       "      <td>17850.0</td>\n",
       "      <td>United Kingdom</td>\n",
       "    </tr>\n",
       "    <tr>\n",
       "      <th>2</th>\n",
       "      <td>536365</td>\n",
       "      <td>84406B</td>\n",
       "      <td>cream cupid hearts coat hanger</td>\n",
       "      <td>CREAM CUPID HEARTS COAT HANGER</td>\n",
       "      <td>8</td>\n",
       "      <td>2010-12-01 08:26:00</td>\n",
       "      <td>2.75</td>\n",
       "      <td>17850.0</td>\n",
       "      <td>United Kingdom</td>\n",
       "    </tr>\n",
       "    <tr>\n",
       "      <th>3</th>\n",
       "      <td>536365</td>\n",
       "      <td>84029G</td>\n",
       "      <td>knitted union flag hot water bottle</td>\n",
       "      <td>KNITTED UNION FLAG HOT WATER BOTTLE</td>\n",
       "      <td>6</td>\n",
       "      <td>2010-12-01 08:26:00</td>\n",
       "      <td>3.39</td>\n",
       "      <td>17850.0</td>\n",
       "      <td>United Kingdom</td>\n",
       "    </tr>\n",
       "    <tr>\n",
       "      <th>4</th>\n",
       "      <td>536365</td>\n",
       "      <td>84029E</td>\n",
       "      <td>red woolly hottie white heart.</td>\n",
       "      <td>RED WOOLLY HOTTIE WHITE HEART.</td>\n",
       "      <td>6</td>\n",
       "      <td>2010-12-01 08:26:00</td>\n",
       "      <td>3.39</td>\n",
       "      <td>17850.0</td>\n",
       "      <td>United Kingdom</td>\n",
       "    </tr>\n",
       "  </tbody>\n",
       "</table>\n",
       "</div>"
      ],
      "text/plain": [
       "  InvoiceNo StockCode                                lower  \\\n",
       "0    536365    85123A   white hanging heart t-light holder   \n",
       "1    536365     71053                  white metal lantern   \n",
       "2    536365    84406B       cream cupid hearts coat hanger   \n",
       "3    536365    84029G  knitted union flag hot water bottle   \n",
       "4    536365    84029E       red woolly hottie white heart.   \n",
       "\n",
       "                           Description  Quantity         InvoiceDate  \\\n",
       "0   WHITE HANGING HEART T-LIGHT HOLDER         6 2010-12-01 08:26:00   \n",
       "1                  WHITE METAL LANTERN         6 2010-12-01 08:26:00   \n",
       "2       CREAM CUPID HEARTS COAT HANGER         8 2010-12-01 08:26:00   \n",
       "3  KNITTED UNION FLAG HOT WATER BOTTLE         6 2010-12-01 08:26:00   \n",
       "4       RED WOOLLY HOTTIE WHITE HEART.         6 2010-12-01 08:26:00   \n",
       "\n",
       "   UnitPrice  CustomerID         Country  \n",
       "0       2.55     17850.0  United Kingdom  \n",
       "1       3.39     17850.0  United Kingdom  \n",
       "2       2.75     17850.0  United Kingdom  \n",
       "3       3.39     17850.0  United Kingdom  \n",
       "4       3.39     17850.0  United Kingdom  "
      ]
     },
     "execution_count": 14,
     "metadata": {},
     "output_type": "execute_result"
    }
   ],
   "source": [
    "df=pd.read_excel(\"Online_shopping.xlsx\")\n",
    "df.head()"
   ]
  },
  {
   "cell_type": "code",
   "execution_count": 15,
   "id": "310c0496",
   "metadata": {},
   "outputs": [
    {
     "data": {
      "text/plain": [
       "(541909, 9)"
      ]
     },
     "execution_count": 15,
     "metadata": {},
     "output_type": "execute_result"
    }
   ],
   "source": [
    "df.shape"
   ]
  },
  {
   "cell_type": "code",
   "execution_count": 16,
   "id": "9c15d222",
   "metadata": {},
   "outputs": [
    {
     "name": "stdout",
     "output_type": "stream",
     "text": [
      "<class 'pandas.core.frame.DataFrame'>\n",
      "RangeIndex: 541909 entries, 0 to 541908\n",
      "Data columns (total 9 columns):\n",
      " #   Column       Non-Null Count   Dtype         \n",
      "---  ------       --------------   -----         \n",
      " 0   InvoiceNo    541909 non-null  object        \n",
      " 1   StockCode    541909 non-null  object        \n",
      " 2   lower        1816 non-null    object        \n",
      " 3   Description  540455 non-null  object        \n",
      " 4   Quantity     541909 non-null  int64         \n",
      " 5   InvoiceDate  541909 non-null  datetime64[ns]\n",
      " 6   UnitPrice    541909 non-null  float64       \n",
      " 7   CustomerID   406829 non-null  float64       \n",
      " 8   Country      541909 non-null  object        \n",
      "dtypes: datetime64[ns](1), float64(2), int64(1), object(5)\n",
      "memory usage: 37.2+ MB\n"
     ]
    }
   ],
   "source": [
    "df.info()"
   ]
  },
  {
   "cell_type": "code",
   "execution_count": 5,
   "id": "53d10231",
   "metadata": {},
   "outputs": [],
   "source": []
  },
  {
   "cell_type": "code",
   "execution_count": 7,
   "id": "cbba8ec4",
   "metadata": {},
   "outputs": [],
   "source": [
    "# 1- Total 8 feature and this one is clustering problem so no target variable column is there.Data set consists of 541909 rows\n",
    "# 2- InvoiceDate column is already in datetime format\n",
    "# 3- Has null values in few features as well\n",
    "# 4- In cistomerID coloum we have null values."
   ]
  },
  {
   "cell_type": "code",
   "execution_count": 17,
   "id": "50706791",
   "metadata": {},
   "outputs": [
    {
     "data": {
      "text/plain": [
       "InvoiceNo       0.000000\n",
       "StockCode       0.000000\n",
       "lower          99.664888\n",
       "Description     0.268311\n",
       "Quantity        0.000000\n",
       "InvoiceDate     0.000000\n",
       "UnitPrice       0.000000\n",
       "CustomerID     24.926694\n",
       "Country         0.000000\n",
       "dtype: float64"
      ]
     },
     "execution_count": 17,
     "metadata": {},
     "output_type": "execute_result"
    }
   ],
   "source": [
    "df.isnull().sum()/len(df1)*100"
   ]
  },
  {
   "cell_type": "code",
   "execution_count": 18,
   "id": "0dd3d3ca-f0ea-4fc6-96e7-34816d3329e5",
   "metadata": {},
   "outputs": [
    {
     "data": {
      "text/plain": [
       "5268"
      ]
     },
     "execution_count": 18,
     "metadata": {},
     "output_type": "execute_result"
    }
   ],
   "source": [
    "df.duplicated().sum() # Ignoring duplicates"
   ]
  },
  {
   "cell_type": "code",
   "execution_count": 19,
   "id": "a535132f",
   "metadata": {},
   "outputs": [],
   "source": [
    "df1=df.copy()"
   ]
  },
  {
   "cell_type": "code",
   "execution_count": 20,
   "id": "ad9a22d7-d5aa-4154-be9f-4174499c2ebe",
   "metadata": {},
   "outputs": [],
   "source": [
    "df1=df1.dropna(subset=['CustomerID'])"
   ]
  },
  {
   "cell_type": "code",
   "execution_count": 21,
   "id": "a011b124-513b-4d0b-946f-38a4ce9bcc72",
   "metadata": {},
   "outputs": [
    {
     "data": {
      "text/plain": [
       "InvoiceNo           0\n",
       "StockCode           0\n",
       "lower          405387\n",
       "Description         0\n",
       "Quantity            0\n",
       "InvoiceDate         0\n",
       "UnitPrice           0\n",
       "CustomerID          0\n",
       "Country             0\n",
       "dtype: int64"
      ]
     },
     "execution_count": 21,
     "metadata": {},
     "output_type": "execute_result"
    }
   ],
   "source": [
    "df1.isnull().sum()"
   ]
  },
  {
   "cell_type": "code",
   "execution_count": 22,
   "id": "a0c655ea",
   "metadata": {},
   "outputs": [
    {
     "data": {
      "text/html": [
       "<div>\n",
       "<style scoped>\n",
       "    .dataframe tbody tr th:only-of-type {\n",
       "        vertical-align: middle;\n",
       "    }\n",
       "\n",
       "    .dataframe tbody tr th {\n",
       "        vertical-align: top;\n",
       "    }\n",
       "\n",
       "    .dataframe thead th {\n",
       "        text-align: right;\n",
       "    }\n",
       "</style>\n",
       "<table border=\"1\" class=\"dataframe\">\n",
       "  <thead>\n",
       "    <tr style=\"text-align: right;\">\n",
       "      <th></th>\n",
       "      <th>InvoiceNo</th>\n",
       "      <th>Quantity</th>\n",
       "      <th>InvoiceDate</th>\n",
       "      <th>UnitPrice</th>\n",
       "      <th>CustomerID</th>\n",
       "    </tr>\n",
       "  </thead>\n",
       "  <tbody>\n",
       "    <tr>\n",
       "      <th>0</th>\n",
       "      <td>536365</td>\n",
       "      <td>6</td>\n",
       "      <td>2010-12-01 08:26:00</td>\n",
       "      <td>2.55</td>\n",
       "      <td>17850.0</td>\n",
       "    </tr>\n",
       "    <tr>\n",
       "      <th>1</th>\n",
       "      <td>536365</td>\n",
       "      <td>6</td>\n",
       "      <td>2010-12-01 08:26:00</td>\n",
       "      <td>3.39</td>\n",
       "      <td>17850.0</td>\n",
       "    </tr>\n",
       "    <tr>\n",
       "      <th>2</th>\n",
       "      <td>536365</td>\n",
       "      <td>8</td>\n",
       "      <td>2010-12-01 08:26:00</td>\n",
       "      <td>2.75</td>\n",
       "      <td>17850.0</td>\n",
       "    </tr>\n",
       "    <tr>\n",
       "      <th>3</th>\n",
       "      <td>536365</td>\n",
       "      <td>6</td>\n",
       "      <td>2010-12-01 08:26:00</td>\n",
       "      <td>3.39</td>\n",
       "      <td>17850.0</td>\n",
       "    </tr>\n",
       "    <tr>\n",
       "      <th>4</th>\n",
       "      <td>536365</td>\n",
       "      <td>6</td>\n",
       "      <td>2010-12-01 08:26:00</td>\n",
       "      <td>3.39</td>\n",
       "      <td>17850.0</td>\n",
       "    </tr>\n",
       "  </tbody>\n",
       "</table>\n",
       "</div>"
      ],
      "text/plain": [
       "  InvoiceNo  Quantity         InvoiceDate  UnitPrice  CustomerID\n",
       "0    536365         6 2010-12-01 08:26:00       2.55     17850.0\n",
       "1    536365         6 2010-12-01 08:26:00       3.39     17850.0\n",
       "2    536365         8 2010-12-01 08:26:00       2.75     17850.0\n",
       "3    536365         6 2010-12-01 08:26:00       3.39     17850.0\n",
       "4    536365         6 2010-12-01 08:26:00       3.39     17850.0"
      ]
     },
     "execution_count": 22,
     "metadata": {},
     "output_type": "execute_result"
    }
   ],
   "source": [
    "# Droping columns are insignificant for customer segmentation\n",
    "df2 = df1.drop(['StockCode','Description', 'Country','lower'], axis = 1)\n",
    "df2.head()"
   ]
  },
  {
   "cell_type": "code",
   "execution_count": 12,
   "id": "24f2424f",
   "metadata": {},
   "outputs": [
    {
     "data": {
      "text/html": [
       "<div>\n",
       "<style scoped>\n",
       "    .dataframe tbody tr th:only-of-type {\n",
       "        vertical-align: middle;\n",
       "    }\n",
       "\n",
       "    .dataframe tbody tr th {\n",
       "        vertical-align: top;\n",
       "    }\n",
       "\n",
       "    .dataframe thead th {\n",
       "        text-align: right;\n",
       "    }\n",
       "</style>\n",
       "<table border=\"1\" class=\"dataframe\">\n",
       "  <thead>\n",
       "    <tr style=\"text-align: right;\">\n",
       "      <th></th>\n",
       "      <th>count</th>\n",
       "      <th>mean</th>\n",
       "      <th>std</th>\n",
       "      <th>min</th>\n",
       "      <th>25%</th>\n",
       "      <th>50%</th>\n",
       "      <th>75%</th>\n",
       "      <th>max</th>\n",
       "    </tr>\n",
       "  </thead>\n",
       "  <tbody>\n",
       "    <tr>\n",
       "      <th>Quantity</th>\n",
       "      <td>541909.0</td>\n",
       "      <td>9.552250</td>\n",
       "      <td>218.081158</td>\n",
       "      <td>-80995.00</td>\n",
       "      <td>1.00</td>\n",
       "      <td>3.00000</td>\n",
       "      <td>10.00</td>\n",
       "      <td>80995.0</td>\n",
       "    </tr>\n",
       "    <tr>\n",
       "      <th>UnitPrice</th>\n",
       "      <td>541909.0</td>\n",
       "      <td>4.611114</td>\n",
       "      <td>96.759853</td>\n",
       "      <td>-11062.06</td>\n",
       "      <td>1.25</td>\n",
       "      <td>2.08000</td>\n",
       "      <td>4.13</td>\n",
       "      <td>38970.0</td>\n",
       "    </tr>\n",
       "    <tr>\n",
       "      <th>CustomerID</th>\n",
       "      <td>541909.0</td>\n",
       "      <td>15287.690570</td>\n",
       "      <td>1484.746010</td>\n",
       "      <td>12346.00</td>\n",
       "      <td>14367.00</td>\n",
       "      <td>15287.69057</td>\n",
       "      <td>16255.00</td>\n",
       "      <td>18287.0</td>\n",
       "    </tr>\n",
       "  </tbody>\n",
       "</table>\n",
       "</div>"
      ],
      "text/plain": [
       "               count          mean          std       min       25%  \\\n",
       "Quantity    541909.0      9.552250   218.081158 -80995.00      1.00   \n",
       "UnitPrice   541909.0      4.611114    96.759853 -11062.06      1.25   \n",
       "CustomerID  541909.0  15287.690570  1484.746010  12346.00  14367.00   \n",
       "\n",
       "                    50%       75%      max  \n",
       "Quantity        3.00000     10.00  80995.0  \n",
       "UnitPrice       2.08000      4.13  38970.0  \n",
       "CustomerID  15287.69057  16255.00  18287.0  "
      ]
     },
     "execution_count": 12,
     "metadata": {},
     "output_type": "execute_result"
    }
   ],
   "source": [
    "df2.describe().T"
   ]
  },
  {
   "cell_type": "code",
   "execution_count": 13,
   "id": "37012620",
   "metadata": {},
   "outputs": [],
   "source": [
    "#From descriptive statistics we can see that some of the order in quantity column are negative quantity.\n",
    "#It occurs when customer returns the defective product.\n",
    "# For total Sale we have to multiply 'Quantity' with 'UnitPrice'\n",
    "# In two ways we can handle negative quantity entries\n",
    "#1- Replace the negative quanity by 0 also so that total sale amount will be 0 for that entry\n",
    "#2- Leave the negative quantity as it is so that total sale will -ve and it will cancel out the +ve sale of that item to balance out"
   ]
  },
  {
   "cell_type": "markdown",
   "id": "ce92fd11",
   "metadata": {},
   "source": [
    "# But at least customer came and buy something so we need to count that sale amount so lets fill -ve qty by 0"
   ]
  },
  {
   "cell_type": "code",
   "execution_count": 23,
   "id": "d13cc853",
   "metadata": {},
   "outputs": [],
   "source": [
    "df2=df2[(df2[\"Quantity\"]>0)]"
   ]
  },
  {
   "cell_type": "code",
   "execution_count": 24,
   "id": "473958a0",
   "metadata": {},
   "outputs": [
    {
     "data": {
      "text/plain": [
       "(397924, 5)"
      ]
     },
     "execution_count": 24,
     "metadata": {},
     "output_type": "execute_result"
    }
   ],
   "source": [
    "df2.shape\n",
    "# By removing negative and 0 quantity items we have reduced 10624 rows but considered the sales done."
   ]
  },
  {
   "cell_type": "code",
   "execution_count": 25,
   "id": "35589e9c",
   "metadata": {},
   "outputs": [
    {
     "data": {
      "text/html": [
       "<div>\n",
       "<style scoped>\n",
       "    .dataframe tbody tr th:only-of-type {\n",
       "        vertical-align: middle;\n",
       "    }\n",
       "\n",
       "    .dataframe tbody tr th {\n",
       "        vertical-align: top;\n",
       "    }\n",
       "\n",
       "    .dataframe thead th {\n",
       "        text-align: right;\n",
       "    }\n",
       "</style>\n",
       "<table border=\"1\" class=\"dataframe\">\n",
       "  <thead>\n",
       "    <tr style=\"text-align: right;\">\n",
       "      <th></th>\n",
       "      <th>InvoiceNo</th>\n",
       "      <th>Quantity</th>\n",
       "      <th>InvoiceDate</th>\n",
       "      <th>UnitPrice</th>\n",
       "      <th>CustomerID</th>\n",
       "      <th>Total</th>\n",
       "    </tr>\n",
       "  </thead>\n",
       "  <tbody>\n",
       "    <tr>\n",
       "      <th>0</th>\n",
       "      <td>536365</td>\n",
       "      <td>6</td>\n",
       "      <td>2010-12-01 08:26:00</td>\n",
       "      <td>2.55</td>\n",
       "      <td>17850.0</td>\n",
       "      <td>15.30</td>\n",
       "    </tr>\n",
       "    <tr>\n",
       "      <th>1</th>\n",
       "      <td>536365</td>\n",
       "      <td>6</td>\n",
       "      <td>2010-12-01 08:26:00</td>\n",
       "      <td>3.39</td>\n",
       "      <td>17850.0</td>\n",
       "      <td>20.34</td>\n",
       "    </tr>\n",
       "    <tr>\n",
       "      <th>2</th>\n",
       "      <td>536365</td>\n",
       "      <td>8</td>\n",
       "      <td>2010-12-01 08:26:00</td>\n",
       "      <td>2.75</td>\n",
       "      <td>17850.0</td>\n",
       "      <td>22.00</td>\n",
       "    </tr>\n",
       "    <tr>\n",
       "      <th>3</th>\n",
       "      <td>536365</td>\n",
       "      <td>6</td>\n",
       "      <td>2010-12-01 08:26:00</td>\n",
       "      <td>3.39</td>\n",
       "      <td>17850.0</td>\n",
       "      <td>20.34</td>\n",
       "    </tr>\n",
       "    <tr>\n",
       "      <th>4</th>\n",
       "      <td>536365</td>\n",
       "      <td>6</td>\n",
       "      <td>2010-12-01 08:26:00</td>\n",
       "      <td>3.39</td>\n",
       "      <td>17850.0</td>\n",
       "      <td>20.34</td>\n",
       "    </tr>\n",
       "  </tbody>\n",
       "</table>\n",
       "</div>"
      ],
      "text/plain": [
       "  InvoiceNo  Quantity         InvoiceDate  UnitPrice  CustomerID  Total\n",
       "0    536365         6 2010-12-01 08:26:00       2.55     17850.0  15.30\n",
       "1    536365         6 2010-12-01 08:26:00       3.39     17850.0  20.34\n",
       "2    536365         8 2010-12-01 08:26:00       2.75     17850.0  22.00\n",
       "3    536365         6 2010-12-01 08:26:00       3.39     17850.0  20.34\n",
       "4    536365         6 2010-12-01 08:26:00       3.39     17850.0  20.34"
      ]
     },
     "execution_count": 25,
     "metadata": {},
     "output_type": "execute_result"
    }
   ],
   "source": [
    "#Creating another column by calculating Total Sale (Sale= Qty x UnitPrice)\n",
    "df2[\"Total\"]=df2[\"Quantity\"]*df2[\"UnitPrice\"]\n",
    "df2.head()"
   ]
  },
  {
   "cell_type": "markdown",
   "id": "d9533182",
   "metadata": {},
   "source": [
    "# 2: Segment (Group/Cluster) Identify trends for Day, Month, Season, Time by Invoice count"
   ]
  },
  {
   "cell_type": "markdown",
   "id": "4d09698f",
   "metadata": {},
   "source": [
    "Now we are going to analize -\n",
    "\n",
    "1.when is the sales highest (month/season/day/timing)\n",
    "\n",
    "2.when is the rush hour (month/season/day)\n",
    "\n",
    "3.when the rush as per timing (morning,afternoon,evening) as per day(weekday/weekend)\n",
    "\n",
    "4.Monthly sales trend"
   ]
  },
  {
   "cell_type": "code",
   "execution_count": 70,
   "id": "99894b17",
   "metadata": {},
   "outputs": [
    {
     "data": {
      "text/html": [
       "<div>\n",
       "<style scoped>\n",
       "    .dataframe tbody tr th:only-of-type {\n",
       "        vertical-align: middle;\n",
       "    }\n",
       "\n",
       "    .dataframe tbody tr th {\n",
       "        vertical-align: top;\n",
       "    }\n",
       "\n",
       "    .dataframe thead th {\n",
       "        text-align: right;\n",
       "    }\n",
       "</style>\n",
       "<table border=\"1\" class=\"dataframe\">\n",
       "  <thead>\n",
       "    <tr style=\"text-align: right;\">\n",
       "      <th></th>\n",
       "      <th>InvoiceNo</th>\n",
       "      <th>Quantity</th>\n",
       "      <th>InvoiceDate</th>\n",
       "      <th>UnitPrice</th>\n",
       "      <th>CustomerID</th>\n",
       "      <th>Total</th>\n",
       "    </tr>\n",
       "  </thead>\n",
       "  <tbody>\n",
       "    <tr>\n",
       "      <th>0</th>\n",
       "      <td>536365</td>\n",
       "      <td>6</td>\n",
       "      <td>2010-12-01 08:26:00</td>\n",
       "      <td>2.55</td>\n",
       "      <td>17850.0</td>\n",
       "      <td>15.30</td>\n",
       "    </tr>\n",
       "    <tr>\n",
       "      <th>1</th>\n",
       "      <td>536365</td>\n",
       "      <td>6</td>\n",
       "      <td>2010-12-01 08:26:00</td>\n",
       "      <td>3.39</td>\n",
       "      <td>17850.0</td>\n",
       "      <td>20.34</td>\n",
       "    </tr>\n",
       "    <tr>\n",
       "      <th>2</th>\n",
       "      <td>536365</td>\n",
       "      <td>8</td>\n",
       "      <td>2010-12-01 08:26:00</td>\n",
       "      <td>2.75</td>\n",
       "      <td>17850.0</td>\n",
       "      <td>22.00</td>\n",
       "    </tr>\n",
       "    <tr>\n",
       "      <th>3</th>\n",
       "      <td>536365</td>\n",
       "      <td>6</td>\n",
       "      <td>2010-12-01 08:26:00</td>\n",
       "      <td>3.39</td>\n",
       "      <td>17850.0</td>\n",
       "      <td>20.34</td>\n",
       "    </tr>\n",
       "    <tr>\n",
       "      <th>4</th>\n",
       "      <td>536365</td>\n",
       "      <td>6</td>\n",
       "      <td>2010-12-01 08:26:00</td>\n",
       "      <td>3.39</td>\n",
       "      <td>17850.0</td>\n",
       "      <td>20.34</td>\n",
       "    </tr>\n",
       "  </tbody>\n",
       "</table>\n",
       "</div>"
      ],
      "text/plain": [
       "  InvoiceNo  Quantity         InvoiceDate  UnitPrice  CustomerID  Total\n",
       "0    536365         6 2010-12-01 08:26:00       2.55     17850.0  15.30\n",
       "1    536365         6 2010-12-01 08:26:00       3.39     17850.0  20.34\n",
       "2    536365         8 2010-12-01 08:26:00       2.75     17850.0  22.00\n",
       "3    536365         6 2010-12-01 08:26:00       3.39     17850.0  20.34\n",
       "4    536365         6 2010-12-01 08:26:00       3.39     17850.0  20.34"
      ]
     },
     "execution_count": 70,
     "metadata": {},
     "output_type": "execute_result"
    }
   ],
   "source": [
    "df2.head()"
   ]
  },
  {
   "cell_type": "code",
   "execution_count": 71,
   "id": "ebd35f7c",
   "metadata": {},
   "outputs": [
    {
     "data": {
      "text/plain": [
       "(531285, 6)"
      ]
     },
     "execution_count": 71,
     "metadata": {},
     "output_type": "execute_result"
    }
   ],
   "source": [
    "df2.shape"
   ]
  },
  {
   "cell_type": "code",
   "execution_count": 72,
   "id": "c03771b8",
   "metadata": {},
   "outputs": [],
   "source": [
    "# Extration of day,month,hour from invoicedate\n",
    "import datetime as dt\n",
    "df2[\"Day\"]=df2[\"InvoiceDate\"].dt.day_name()\n",
    "df2[\"Month\"]=df2[\"InvoiceDate\"].dt.month\n",
    "df2[\"Hour\"]=df2[\"InvoiceDate\"].dt.hour"
   ]
  },
  {
   "cell_type": "code",
   "execution_count": 73,
   "id": "dd7389b1",
   "metadata": {},
   "outputs": [
    {
     "data": {
      "text/html": [
       "<div>\n",
       "<style scoped>\n",
       "    .dataframe tbody tr th:only-of-type {\n",
       "        vertical-align: middle;\n",
       "    }\n",
       "\n",
       "    .dataframe tbody tr th {\n",
       "        vertical-align: top;\n",
       "    }\n",
       "\n",
       "    .dataframe thead th {\n",
       "        text-align: right;\n",
       "    }\n",
       "</style>\n",
       "<table border=\"1\" class=\"dataframe\">\n",
       "  <thead>\n",
       "    <tr style=\"text-align: right;\">\n",
       "      <th></th>\n",
       "      <th>InvoiceNo</th>\n",
       "      <th>Quantity</th>\n",
       "      <th>InvoiceDate</th>\n",
       "      <th>UnitPrice</th>\n",
       "      <th>CustomerID</th>\n",
       "      <th>Total</th>\n",
       "      <th>Day</th>\n",
       "      <th>Month</th>\n",
       "      <th>Hour</th>\n",
       "    </tr>\n",
       "  </thead>\n",
       "  <tbody>\n",
       "    <tr>\n",
       "      <th>0</th>\n",
       "      <td>536365</td>\n",
       "      <td>6</td>\n",
       "      <td>2010-12-01 08:26:00</td>\n",
       "      <td>2.55</td>\n",
       "      <td>17850.0</td>\n",
       "      <td>15.30</td>\n",
       "      <td>Wednesday</td>\n",
       "      <td>12</td>\n",
       "      <td>8</td>\n",
       "    </tr>\n",
       "    <tr>\n",
       "      <th>1</th>\n",
       "      <td>536365</td>\n",
       "      <td>6</td>\n",
       "      <td>2010-12-01 08:26:00</td>\n",
       "      <td>3.39</td>\n",
       "      <td>17850.0</td>\n",
       "      <td>20.34</td>\n",
       "      <td>Wednesday</td>\n",
       "      <td>12</td>\n",
       "      <td>8</td>\n",
       "    </tr>\n",
       "    <tr>\n",
       "      <th>2</th>\n",
       "      <td>536365</td>\n",
       "      <td>8</td>\n",
       "      <td>2010-12-01 08:26:00</td>\n",
       "      <td>2.75</td>\n",
       "      <td>17850.0</td>\n",
       "      <td>22.00</td>\n",
       "      <td>Wednesday</td>\n",
       "      <td>12</td>\n",
       "      <td>8</td>\n",
       "    </tr>\n",
       "    <tr>\n",
       "      <th>3</th>\n",
       "      <td>536365</td>\n",
       "      <td>6</td>\n",
       "      <td>2010-12-01 08:26:00</td>\n",
       "      <td>3.39</td>\n",
       "      <td>17850.0</td>\n",
       "      <td>20.34</td>\n",
       "      <td>Wednesday</td>\n",
       "      <td>12</td>\n",
       "      <td>8</td>\n",
       "    </tr>\n",
       "    <tr>\n",
       "      <th>4</th>\n",
       "      <td>536365</td>\n",
       "      <td>6</td>\n",
       "      <td>2010-12-01 08:26:00</td>\n",
       "      <td>3.39</td>\n",
       "      <td>17850.0</td>\n",
       "      <td>20.34</td>\n",
       "      <td>Wednesday</td>\n",
       "      <td>12</td>\n",
       "      <td>8</td>\n",
       "    </tr>\n",
       "  </tbody>\n",
       "</table>\n",
       "</div>"
      ],
      "text/plain": [
       "  InvoiceNo  Quantity         InvoiceDate  UnitPrice  CustomerID  Total  \\\n",
       "0    536365         6 2010-12-01 08:26:00       2.55     17850.0  15.30   \n",
       "1    536365         6 2010-12-01 08:26:00       3.39     17850.0  20.34   \n",
       "2    536365         8 2010-12-01 08:26:00       2.75     17850.0  22.00   \n",
       "3    536365         6 2010-12-01 08:26:00       3.39     17850.0  20.34   \n",
       "4    536365         6 2010-12-01 08:26:00       3.39     17850.0  20.34   \n",
       "\n",
       "         Day  Month  Hour  \n",
       "0  Wednesday     12     8  \n",
       "1  Wednesday     12     8  \n",
       "2  Wednesday     12     8  \n",
       "3  Wednesday     12     8  \n",
       "4  Wednesday     12     8  "
      ]
     },
     "execution_count": 73,
     "metadata": {},
     "output_type": "execute_result"
    }
   ],
   "source": [
    "df2.head()"
   ]
  },
  {
   "cell_type": "markdown",
   "id": "54125d9c",
   "metadata": {},
   "source": [
    "# Function to create season and timing column"
   ]
  },
  {
   "cell_type": "code",
   "execution_count": 74,
   "id": "dc392e91",
   "metadata": {},
   "outputs": [],
   "source": [
    "# Deriving season\n",
    "def cal_season(x):\n",
    "    if x in [11,12,1,2]:\n",
    "        return 'Winter'\n",
    "    elif x in [3,4,5]:\n",
    "        return 'Summer'\n",
    "    elif x in [6,7,8]:\n",
    "        return 'Monsoon'\n",
    "    else:\n",
    "        return 'Post Monsoon'"
   ]
  },
  {
   "cell_type": "code",
   "execution_count": 75,
   "id": "c9415d9f",
   "metadata": {},
   "outputs": [],
   "source": [
    "# Deriving timing\n",
    "def cal_timing(x):\n",
    "    if x in range(0,5):\n",
    "        return 'Early Morning(0:00 - 4:00 Hours)'\n",
    "    elif x in range(5,11):\n",
    "        return 'Morning(5:00 - 11:00 Hours)'\n",
    "    elif x in range(11,16):\n",
    "        return 'Afternoon(11:00 - 17:00 Hours)'\n",
    "    elif x in range(17,20):\n",
    "        return 'Evening(17:00-20:00 Hours)'\n",
    "    else :\n",
    "        return 'Night(20:00-00:00 Hours)'"
   ]
  },
  {
   "cell_type": "code",
   "execution_count": 76,
   "id": "26beb9ce",
   "metadata": {},
   "outputs": [],
   "source": [
    "df2['season'] = df2['Month'].apply(cal_season)\n",
    "df2['Timing'] = df2['Hour'].apply(cal_timing)"
   ]
  },
  {
   "cell_type": "code",
   "execution_count": 77,
   "id": "1fa71c4d",
   "metadata": {},
   "outputs": [
    {
     "data": {
      "text/html": [
       "<div>\n",
       "<style scoped>\n",
       "    .dataframe tbody tr th:only-of-type {\n",
       "        vertical-align: middle;\n",
       "    }\n",
       "\n",
       "    .dataframe tbody tr th {\n",
       "        vertical-align: top;\n",
       "    }\n",
       "\n",
       "    .dataframe thead th {\n",
       "        text-align: right;\n",
       "    }\n",
       "</style>\n",
       "<table border=\"1\" class=\"dataframe\">\n",
       "  <thead>\n",
       "    <tr style=\"text-align: right;\">\n",
       "      <th></th>\n",
       "      <th>InvoiceNo</th>\n",
       "      <th>Quantity</th>\n",
       "      <th>InvoiceDate</th>\n",
       "      <th>UnitPrice</th>\n",
       "      <th>CustomerID</th>\n",
       "      <th>Total</th>\n",
       "      <th>Day</th>\n",
       "      <th>Month</th>\n",
       "      <th>Hour</th>\n",
       "      <th>season</th>\n",
       "      <th>Timing</th>\n",
       "    </tr>\n",
       "  </thead>\n",
       "  <tbody>\n",
       "    <tr>\n",
       "      <th>0</th>\n",
       "      <td>536365</td>\n",
       "      <td>6</td>\n",
       "      <td>2010-12-01 08:26:00</td>\n",
       "      <td>2.55</td>\n",
       "      <td>17850.0</td>\n",
       "      <td>15.30</td>\n",
       "      <td>Wednesday</td>\n",
       "      <td>12</td>\n",
       "      <td>8</td>\n",
       "      <td>Winter</td>\n",
       "      <td>Morning(5:00 - 11:00 Hours)</td>\n",
       "    </tr>\n",
       "    <tr>\n",
       "      <th>1</th>\n",
       "      <td>536365</td>\n",
       "      <td>6</td>\n",
       "      <td>2010-12-01 08:26:00</td>\n",
       "      <td>3.39</td>\n",
       "      <td>17850.0</td>\n",
       "      <td>20.34</td>\n",
       "      <td>Wednesday</td>\n",
       "      <td>12</td>\n",
       "      <td>8</td>\n",
       "      <td>Winter</td>\n",
       "      <td>Morning(5:00 - 11:00 Hours)</td>\n",
       "    </tr>\n",
       "    <tr>\n",
       "      <th>2</th>\n",
       "      <td>536365</td>\n",
       "      <td>8</td>\n",
       "      <td>2010-12-01 08:26:00</td>\n",
       "      <td>2.75</td>\n",
       "      <td>17850.0</td>\n",
       "      <td>22.00</td>\n",
       "      <td>Wednesday</td>\n",
       "      <td>12</td>\n",
       "      <td>8</td>\n",
       "      <td>Winter</td>\n",
       "      <td>Morning(5:00 - 11:00 Hours)</td>\n",
       "    </tr>\n",
       "    <tr>\n",
       "      <th>3</th>\n",
       "      <td>536365</td>\n",
       "      <td>6</td>\n",
       "      <td>2010-12-01 08:26:00</td>\n",
       "      <td>3.39</td>\n",
       "      <td>17850.0</td>\n",
       "      <td>20.34</td>\n",
       "      <td>Wednesday</td>\n",
       "      <td>12</td>\n",
       "      <td>8</td>\n",
       "      <td>Winter</td>\n",
       "      <td>Morning(5:00 - 11:00 Hours)</td>\n",
       "    </tr>\n",
       "    <tr>\n",
       "      <th>4</th>\n",
       "      <td>536365</td>\n",
       "      <td>6</td>\n",
       "      <td>2010-12-01 08:26:00</td>\n",
       "      <td>3.39</td>\n",
       "      <td>17850.0</td>\n",
       "      <td>20.34</td>\n",
       "      <td>Wednesday</td>\n",
       "      <td>12</td>\n",
       "      <td>8</td>\n",
       "      <td>Winter</td>\n",
       "      <td>Morning(5:00 - 11:00 Hours)</td>\n",
       "    </tr>\n",
       "  </tbody>\n",
       "</table>\n",
       "</div>"
      ],
      "text/plain": [
       "  InvoiceNo  Quantity         InvoiceDate  UnitPrice  CustomerID  Total  \\\n",
       "0    536365         6 2010-12-01 08:26:00       2.55     17850.0  15.30   \n",
       "1    536365         6 2010-12-01 08:26:00       3.39     17850.0  20.34   \n",
       "2    536365         8 2010-12-01 08:26:00       2.75     17850.0  22.00   \n",
       "3    536365         6 2010-12-01 08:26:00       3.39     17850.0  20.34   \n",
       "4    536365         6 2010-12-01 08:26:00       3.39     17850.0  20.34   \n",
       "\n",
       "         Day  Month  Hour  season                       Timing  \n",
       "0  Wednesday     12     8  Winter  Morning(5:00 - 11:00 Hours)  \n",
       "1  Wednesday     12     8  Winter  Morning(5:00 - 11:00 Hours)  \n",
       "2  Wednesday     12     8  Winter  Morning(5:00 - 11:00 Hours)  \n",
       "3  Wednesday     12     8  Winter  Morning(5:00 - 11:00 Hours)  \n",
       "4  Wednesday     12     8  Winter  Morning(5:00 - 11:00 Hours)  "
      ]
     },
     "execution_count": 77,
     "metadata": {},
     "output_type": "execute_result"
    }
   ],
   "source": [
    "df2.head()"
   ]
  },
  {
   "cell_type": "code",
   "execution_count": 78,
   "id": "8c924fad",
   "metadata": {},
   "outputs": [],
   "source": [
    "df2['Month'] = df2['InvoiceDate'].dt.month_name()\n",
    "df2['weekend']=np.where((df2['Day']=='Saturday')|(df2['Day']=='Sunday'),'Yes',\"No\")"
   ]
  },
  {
   "cell_type": "code",
   "execution_count": 79,
   "id": "c22ec354",
   "metadata": {},
   "outputs": [
    {
     "data": {
      "text/html": [
       "<div>\n",
       "<style scoped>\n",
       "    .dataframe tbody tr th:only-of-type {\n",
       "        vertical-align: middle;\n",
       "    }\n",
       "\n",
       "    .dataframe tbody tr th {\n",
       "        vertical-align: top;\n",
       "    }\n",
       "\n",
       "    .dataframe thead th {\n",
       "        text-align: right;\n",
       "    }\n",
       "</style>\n",
       "<table border=\"1\" class=\"dataframe\">\n",
       "  <thead>\n",
       "    <tr style=\"text-align: right;\">\n",
       "      <th></th>\n",
       "      <th>InvoiceNo</th>\n",
       "      <th>Quantity</th>\n",
       "      <th>InvoiceDate</th>\n",
       "      <th>UnitPrice</th>\n",
       "      <th>CustomerID</th>\n",
       "      <th>Total</th>\n",
       "      <th>Day</th>\n",
       "      <th>Month</th>\n",
       "      <th>Hour</th>\n",
       "      <th>season</th>\n",
       "      <th>Timing</th>\n",
       "      <th>weekend</th>\n",
       "    </tr>\n",
       "  </thead>\n",
       "  <tbody>\n",
       "    <tr>\n",
       "      <th>0</th>\n",
       "      <td>536365</td>\n",
       "      <td>6</td>\n",
       "      <td>2010-12-01 08:26:00</td>\n",
       "      <td>2.55</td>\n",
       "      <td>17850.0</td>\n",
       "      <td>15.30</td>\n",
       "      <td>Wednesday</td>\n",
       "      <td>December</td>\n",
       "      <td>8</td>\n",
       "      <td>Winter</td>\n",
       "      <td>Morning(5:00 - 11:00 Hours)</td>\n",
       "      <td>No</td>\n",
       "    </tr>\n",
       "    <tr>\n",
       "      <th>1</th>\n",
       "      <td>536365</td>\n",
       "      <td>6</td>\n",
       "      <td>2010-12-01 08:26:00</td>\n",
       "      <td>3.39</td>\n",
       "      <td>17850.0</td>\n",
       "      <td>20.34</td>\n",
       "      <td>Wednesday</td>\n",
       "      <td>December</td>\n",
       "      <td>8</td>\n",
       "      <td>Winter</td>\n",
       "      <td>Morning(5:00 - 11:00 Hours)</td>\n",
       "      <td>No</td>\n",
       "    </tr>\n",
       "    <tr>\n",
       "      <th>2</th>\n",
       "      <td>536365</td>\n",
       "      <td>8</td>\n",
       "      <td>2010-12-01 08:26:00</td>\n",
       "      <td>2.75</td>\n",
       "      <td>17850.0</td>\n",
       "      <td>22.00</td>\n",
       "      <td>Wednesday</td>\n",
       "      <td>December</td>\n",
       "      <td>8</td>\n",
       "      <td>Winter</td>\n",
       "      <td>Morning(5:00 - 11:00 Hours)</td>\n",
       "      <td>No</td>\n",
       "    </tr>\n",
       "    <tr>\n",
       "      <th>3</th>\n",
       "      <td>536365</td>\n",
       "      <td>6</td>\n",
       "      <td>2010-12-01 08:26:00</td>\n",
       "      <td>3.39</td>\n",
       "      <td>17850.0</td>\n",
       "      <td>20.34</td>\n",
       "      <td>Wednesday</td>\n",
       "      <td>December</td>\n",
       "      <td>8</td>\n",
       "      <td>Winter</td>\n",
       "      <td>Morning(5:00 - 11:00 Hours)</td>\n",
       "      <td>No</td>\n",
       "    </tr>\n",
       "    <tr>\n",
       "      <th>4</th>\n",
       "      <td>536365</td>\n",
       "      <td>6</td>\n",
       "      <td>2010-12-01 08:26:00</td>\n",
       "      <td>3.39</td>\n",
       "      <td>17850.0</td>\n",
       "      <td>20.34</td>\n",
       "      <td>Wednesday</td>\n",
       "      <td>December</td>\n",
       "      <td>8</td>\n",
       "      <td>Winter</td>\n",
       "      <td>Morning(5:00 - 11:00 Hours)</td>\n",
       "      <td>No</td>\n",
       "    </tr>\n",
       "  </tbody>\n",
       "</table>\n",
       "</div>"
      ],
      "text/plain": [
       "  InvoiceNo  Quantity         InvoiceDate  UnitPrice  CustomerID  Total  \\\n",
       "0    536365         6 2010-12-01 08:26:00       2.55     17850.0  15.30   \n",
       "1    536365         6 2010-12-01 08:26:00       3.39     17850.0  20.34   \n",
       "2    536365         8 2010-12-01 08:26:00       2.75     17850.0  22.00   \n",
       "3    536365         6 2010-12-01 08:26:00       3.39     17850.0  20.34   \n",
       "4    536365         6 2010-12-01 08:26:00       3.39     17850.0  20.34   \n",
       "\n",
       "         Day     Month  Hour  season                       Timing weekend  \n",
       "0  Wednesday  December     8  Winter  Morning(5:00 - 11:00 Hours)      No  \n",
       "1  Wednesday  December     8  Winter  Morning(5:00 - 11:00 Hours)      No  \n",
       "2  Wednesday  December     8  Winter  Morning(5:00 - 11:00 Hours)      No  \n",
       "3  Wednesday  December     8  Winter  Morning(5:00 - 11:00 Hours)      No  \n",
       "4  Wednesday  December     8  Winter  Morning(5:00 - 11:00 Hours)      No  "
      ]
     },
     "execution_count": 79,
     "metadata": {},
     "output_type": "execute_result"
    }
   ],
   "source": [
    "df2.head()"
   ]
  },
  {
   "cell_type": "markdown",
   "id": "2458b374",
   "metadata": {},
   "source": [
    "# Analyzing rush hour i.e total number of invoice is more"
   ]
  },
  {
   "cell_type": "code",
   "execution_count": 80,
   "id": "090f3ae8",
   "metadata": {},
   "outputs": [
    {
     "data": {
      "text/html": [
       "<div>\n",
       "<style scoped>\n",
       "    .dataframe tbody tr th:only-of-type {\n",
       "        vertical-align: middle;\n",
       "    }\n",
       "\n",
       "    .dataframe tbody tr th {\n",
       "        vertical-align: top;\n",
       "    }\n",
       "\n",
       "    .dataframe thead th {\n",
       "        text-align: right;\n",
       "    }\n",
       "</style>\n",
       "<table border=\"1\" class=\"dataframe\">\n",
       "  <thead>\n",
       "    <tr style=\"text-align: right;\">\n",
       "      <th></th>\n",
       "      <th>Day</th>\n",
       "      <th>count_of_invoices</th>\n",
       "    </tr>\n",
       "  </thead>\n",
       "  <tbody>\n",
       "    <tr>\n",
       "      <th>0</th>\n",
       "      <td>Friday</td>\n",
       "      <td>80483</td>\n",
       "    </tr>\n",
       "    <tr>\n",
       "      <th>1</th>\n",
       "      <td>Monday</td>\n",
       "      <td>93308</td>\n",
       "    </tr>\n",
       "    <tr>\n",
       "      <th>2</th>\n",
       "      <td>Sunday</td>\n",
       "      <td>63910</td>\n",
       "    </tr>\n",
       "    <tr>\n",
       "      <th>3</th>\n",
       "      <td>Thursday</td>\n",
       "      <td>101221</td>\n",
       "    </tr>\n",
       "    <tr>\n",
       "      <th>4</th>\n",
       "      <td>Tuesday</td>\n",
       "      <td>99804</td>\n",
       "    </tr>\n",
       "    <tr>\n",
       "      <th>5</th>\n",
       "      <td>Wednesday</td>\n",
       "      <td>92559</td>\n",
       "    </tr>\n",
       "  </tbody>\n",
       "</table>\n",
       "</div>"
      ],
      "text/plain": [
       "         Day  count_of_invoices\n",
       "0     Friday              80483\n",
       "1     Monday              93308\n",
       "2     Sunday              63910\n",
       "3   Thursday             101221\n",
       "4    Tuesday              99804\n",
       "5  Wednesday              92559"
      ]
     },
     "execution_count": 80,
     "metadata": {},
     "output_type": "execute_result"
    }
   ],
   "source": [
    "day_count = df2.groupby('Day')['InvoiceNo'].count().to_frame('count_of_invoices').reset_index()\n",
    "day_count\n",
    "#Thers is no sale on saturday so we can conclude that Mall is closed on every Saturday"
   ]
  },
  {
   "cell_type": "code",
   "execution_count": 81,
   "id": "fb96bf14",
   "metadata": {},
   "outputs": [
    {
     "data": {
      "image/png": "[encoded data removed]",
      "text/plain": [
       "<Figure size 800x550 with 1 Axes>"
      ]
     },
     "metadata": {},
     "output_type": "display_data"
    }
   ],
   "source": [
    "plt.pie(day_count.count_of_invoices,labels=day_count['Day'],autopct='%.1f%%')\n",
    "plt.show()"
   ]
  },
  {
   "cell_type": "code",
   "execution_count": 82,
   "id": "1a82bb10",
   "metadata": {},
   "outputs": [
    {
     "data": {
      "image/png": "[encoded data removed]",
      "text/plain": [
       "<Figure size 500x300 with 1 Axes>"
      ]
     },
     "metadata": {},
     "output_type": "display_data"
    }
   ],
   "source": [
    "# plot number of customers by day graph\n",
    "day=df2[\"Day\"].value_counts()\n",
    "plt.figure(figsize=(5,3))\n",
    "sns.barplot(day.index,day.values)\n",
    "#plot the average blue line\n",
    "plt.axhline(y=day.mean())\n",
    "plt.title(\"No. of customers by day\")\n",
    "plt.ylabel(\"no. of customers\",fontsize=12)\n",
    "plt.xlabel(\"Days of week\",fontsize=12)\n",
    "plt.show()"
   ]
  },
  {
   "cell_type": "code",
   "execution_count": 83,
   "id": "6924017c",
   "metadata": {},
   "outputs": [
    {
     "data": {
      "text/html": [
       "<div>\n",
       "<style scoped>\n",
       "    .dataframe tbody tr th:only-of-type {\n",
       "        vertical-align: middle;\n",
       "    }\n",
       "\n",
       "    .dataframe tbody tr th {\n",
       "        vertical-align: top;\n",
       "    }\n",
       "\n",
       "    .dataframe thead th {\n",
       "        text-align: right;\n",
       "    }\n",
       "</style>\n",
       "<table border=\"1\" class=\"dataframe\">\n",
       "  <thead>\n",
       "    <tr style=\"text-align: right;\">\n",
       "      <th></th>\n",
       "      <th>Timing</th>\n",
       "      <th>count_of_invoices</th>\n",
       "    </tr>\n",
       "  </thead>\n",
       "  <tbody>\n",
       "    <tr>\n",
       "      <th>0</th>\n",
       "      <td>Afternoon(11:00 - 17:00 Hours)</td>\n",
       "      <td>347317</td>\n",
       "    </tr>\n",
       "    <tr>\n",
       "      <th>1</th>\n",
       "      <td>Evening(17:00-20:00 Hours)</td>\n",
       "      <td>39682</td>\n",
       "    </tr>\n",
       "    <tr>\n",
       "      <th>2</th>\n",
       "      <td>Morning(5:00 - 11:00 Hours)</td>\n",
       "      <td>90835</td>\n",
       "    </tr>\n",
       "    <tr>\n",
       "      <th>3</th>\n",
       "      <td>Night(20:00-00:00 Hours)</td>\n",
       "      <td>53451</td>\n",
       "    </tr>\n",
       "  </tbody>\n",
       "</table>\n",
       "</div>"
      ],
      "text/plain": [
       "                           Timing  count_of_invoices\n",
       "0  Afternoon(11:00 - 17:00 Hours)             347317\n",
       "1      Evening(17:00-20:00 Hours)              39682\n",
       "2     Morning(5:00 - 11:00 Hours)              90835\n",
       "3        Night(20:00-00:00 Hours)              53451"
      ]
     },
     "execution_count": 83,
     "metadata": {},
     "output_type": "execute_result"
    }
   ],
   "source": [
    "#hour_count = df2.groupby('Timing')['InvoiceNo'].agg([\"count\"]).sort_values(by=\"count\",ascending=False)\n",
    "#hour_count\n",
    "hour_count = df2.groupby('Timing')['InvoiceNo'].count().to_frame('count_of_invoices').reset_index()\n",
    "hour_count"
   ]
  },
  {
   "cell_type": "code",
   "execution_count": 84,
   "id": "a19503e9",
   "metadata": {},
   "outputs": [
    {
     "data": {
      "image/png": "[encoded data removed]",
      "text/plain": [
       "<Figure size 800x550 with 1 Axes>"
      ]
     },
     "metadata": {},
     "output_type": "display_data"
    }
   ],
   "source": [
    "plt.pie(hour_count.count_of_invoices,labels=hour_count['Timing'],autopct='%.1f%%')\n",
    "plt.show()"
   ]
  },
  {
   "cell_type": "code",
   "execution_count": 85,
   "id": "750e88c8",
   "metadata": {},
   "outputs": [
    {
     "data": {
      "image/png": "[encoded data removed]",
      "text/plain": [
       "<Figure size 1000x300 with 1 Axes>"
      ]
     },
     "metadata": {},
     "output_type": "display_data"
    }
   ],
   "source": [
    "# plot number of customers by timing-weekend graph\n",
    "timing=df2[\"Timing\"].value_counts()\n",
    "plt.figure(figsize=(10,3))\n",
    "sns.countplot(x=df2['Timing'],hue=df2['weekend'])\n",
    "#plot the average customers line\n",
    "plt.axhline(y=timing.mean())\n",
    "plt.title(\"No. of customers by timing\")\n",
    "plt.ylabel(\"no. of customers\",fontsize=12)\n",
    "plt.xlabel(\"timing of day\",fontsize=12)\n",
    "plt.show()"
   ]
  },
  {
   "cell_type": "code",
   "execution_count": 86,
   "id": "c1baf628",
   "metadata": {},
   "outputs": [
    {
     "data": {
      "text/html": [
       "<div>\n",
       "<style scoped>\n",
       "    .dataframe tbody tr th:only-of-type {\n",
       "        vertical-align: middle;\n",
       "    }\n",
       "\n",
       "    .dataframe tbody tr th {\n",
       "        vertical-align: top;\n",
       "    }\n",
       "\n",
       "    .dataframe thead th {\n",
       "        text-align: right;\n",
       "    }\n",
       "</style>\n",
       "<table border=\"1\" class=\"dataframe\">\n",
       "  <thead>\n",
       "    <tr style=\"text-align: right;\">\n",
       "      <th></th>\n",
       "      <th>Month</th>\n",
       "      <th>count_of_invoices</th>\n",
       "    </tr>\n",
       "  </thead>\n",
       "  <tbody>\n",
       "    <tr>\n",
       "      <th>0</th>\n",
       "      <td>April</td>\n",
       "      <td>29171</td>\n",
       "    </tr>\n",
       "    <tr>\n",
       "      <th>1</th>\n",
       "      <td>August</td>\n",
       "      <td>34566</td>\n",
       "    </tr>\n",
       "    <tr>\n",
       "      <th>2</th>\n",
       "      <td>December</td>\n",
       "      <td>66818</td>\n",
       "    </tr>\n",
       "    <tr>\n",
       "      <th>3</th>\n",
       "      <td>February</td>\n",
       "      <td>27184</td>\n",
       "    </tr>\n",
       "    <tr>\n",
       "      <th>4</th>\n",
       "      <td>January</td>\n",
       "      <td>34350</td>\n",
       "    </tr>\n",
       "    <tr>\n",
       "      <th>5</th>\n",
       "      <td>July</td>\n",
       "      <td>38716</td>\n",
       "    </tr>\n",
       "    <tr>\n",
       "      <th>6</th>\n",
       "      <td>June</td>\n",
       "      <td>36056</td>\n",
       "    </tr>\n",
       "    <tr>\n",
       "      <th>7</th>\n",
       "      <td>March</td>\n",
       "      <td>35915</td>\n",
       "    </tr>\n",
       "    <tr>\n",
       "      <th>8</th>\n",
       "      <td>May</td>\n",
       "      <td>36292</td>\n",
       "    </tr>\n",
       "    <tr>\n",
       "      <th>9</th>\n",
       "      <td>November</td>\n",
       "      <td>83498</td>\n",
       "    </tr>\n",
       "    <tr>\n",
       "      <th>10</th>\n",
       "      <td>October</td>\n",
       "      <td>59396</td>\n",
       "    </tr>\n",
       "    <tr>\n",
       "      <th>11</th>\n",
       "      <td>September</td>\n",
       "      <td>49323</td>\n",
       "    </tr>\n",
       "  </tbody>\n",
       "</table>\n",
       "</div>"
      ],
      "text/plain": [
       "        Month  count_of_invoices\n",
       "0       April              29171\n",
       "1      August              34566\n",
       "2    December              66818\n",
       "3    February              27184\n",
       "4     January              34350\n",
       "5        July              38716\n",
       "6        June              36056\n",
       "7       March              35915\n",
       "8         May              36292\n",
       "9    November              83498\n",
       "10    October              59396\n",
       "11  September              49323"
      ]
     },
     "execution_count": 86,
     "metadata": {},
     "output_type": "execute_result"
    }
   ],
   "source": [
    "#month_count = df2.groupby('Month')['InvoiceNo'].agg([\"count\"]).sort_values(by=\"count\",ascending=False)\n",
    "#month_count\n",
    "month_count = df2.groupby('Month')['InvoiceNo'].count().to_frame('count_of_invoices').reset_index()\n",
    "month_count"
   ]
  },
  {
   "cell_type": "code",
   "execution_count": 87,
   "id": "d271e570",
   "metadata": {},
   "outputs": [
    {
     "data": {
      "image/png": "[encoded data removed]",
      "text/plain": [
       "<Figure size 800x550 with 1 Axes>"
      ]
     },
     "metadata": {},
     "output_type": "display_data"
    }
   ],
   "source": [
    "plt.pie(month_count.count_of_invoices,labels=month_count['Month'],autopct='%.1f%%')\n",
    "plt.show()"
   ]
  },
  {
   "cell_type": "code",
   "execution_count": 88,
   "id": "3932800e",
   "metadata": {},
   "outputs": [
    {
     "data": {
      "image/png": "[encoded data removed]",
      "text/plain": [
       "<Figure size 1000x300 with 1 Axes>"
      ]
     },
     "metadata": {},
     "output_type": "display_data"
    }
   ],
   "source": [
    "# plot number of customers by month graph\n",
    "Month=df2[\"Month\"].value_counts()\n",
    "plt.figure(figsize=(10,3))\n",
    "sns.barplot(Month.index,Month.values)\n",
    "#plot the average \n",
    "plt.axhline(y=Month.mean())\n",
    "plt.title(\"No. of customers by Month\")\n",
    "plt.ylabel(\"no. of customers\",fontsize=12)\n",
    "plt.xlabel(\"months of year\",fontsize=12)\n",
    "plt.show()"
   ]
  },
  {
   "cell_type": "code",
   "execution_count": 89,
   "id": "2df73186",
   "metadata": {},
   "outputs": [
    {
     "data": {
      "text/html": [
       "<div>\n",
       "<style scoped>\n",
       "    .dataframe tbody tr th:only-of-type {\n",
       "        vertical-align: middle;\n",
       "    }\n",
       "\n",
       "    .dataframe tbody tr th {\n",
       "        vertical-align: top;\n",
       "    }\n",
       "\n",
       "    .dataframe thead th {\n",
       "        text-align: right;\n",
       "    }\n",
       "</style>\n",
       "<table border=\"1\" class=\"dataframe\">\n",
       "  <thead>\n",
       "    <tr style=\"text-align: right;\">\n",
       "      <th></th>\n",
       "      <th>season</th>\n",
       "      <th>count_of_invoices</th>\n",
       "    </tr>\n",
       "  </thead>\n",
       "  <tbody>\n",
       "    <tr>\n",
       "      <th>0</th>\n",
       "      <td>Monsoon</td>\n",
       "      <td>109338</td>\n",
       "    </tr>\n",
       "    <tr>\n",
       "      <th>1</th>\n",
       "      <td>Post Monsoon</td>\n",
       "      <td>108719</td>\n",
       "    </tr>\n",
       "    <tr>\n",
       "      <th>2</th>\n",
       "      <td>Summer</td>\n",
       "      <td>101378</td>\n",
       "    </tr>\n",
       "    <tr>\n",
       "      <th>3</th>\n",
       "      <td>Winter</td>\n",
       "      <td>211850</td>\n",
       "    </tr>\n",
       "  </tbody>\n",
       "</table>\n",
       "</div>"
      ],
      "text/plain": [
       "         season  count_of_invoices\n",
       "0       Monsoon             109338\n",
       "1  Post Monsoon             108719\n",
       "2        Summer             101378\n",
       "3        Winter             211850"
      ]
     },
     "execution_count": 89,
     "metadata": {},
     "output_type": "execute_result"
    }
   ],
   "source": [
    "#season_count = df2.groupby('season')['InvoiceNo'].agg([\"count\"]).sort_values(by=\"count\",ascending=False)\n",
    "#season_count\n",
    "season_count = df2.groupby('season')['InvoiceNo'].count().to_frame('count_of_invoices')\n",
    "season_count.reset_index(inplace=True)\n",
    "season_count"
   ]
  },
  {
   "cell_type": "code",
   "execution_count": 90,
   "id": "4eccebf7",
   "metadata": {},
   "outputs": [
    {
     "data": {
      "image/png": "[encoded data removed]",
      "text/plain": [
       "<Figure size 800x550 with 1 Axes>"
      ]
     },
     "metadata": {},
     "output_type": "display_data"
    }
   ],
   "source": [
    "plt.pie(season_count.count_of_invoices,labels=season_count['season'],autopct='%.1f%%')\n",
    "plt.show()"
   ]
  },
  {
   "cell_type": "code",
   "execution_count": 91,
   "id": "ae4152d7",
   "metadata": {},
   "outputs": [
    {
     "data": {
      "image/png": "[encoded data removed]",
      "text/plain": [
       "<Figure size 600x200 with 1 Axes>"
      ]
     },
     "metadata": {},
     "output_type": "display_data"
    }
   ],
   "source": [
    "# plot number of customers by month graph\n",
    "season=df2[\"season\"].value_counts()\n",
    "plt.figure(figsize=(6,2))\n",
    "sns.barplot(season.index,season.values)\n",
    "#plot the average line \n",
    "plt.axhline(y=season.mean())\n",
    "plt.title(\"No. of customers by Season\")\n",
    "plt.ylabel(\"no. of customers\",fontsize=12)\n",
    "plt.xlabel(\"Seasons of year\",fontsize=12)\n",
    "plt.show()"
   ]
  },
  {
   "cell_type": "code",
   "execution_count": 92,
   "id": "7130a927",
   "metadata": {},
   "outputs": [
    {
     "data": {
      "text/html": [
       "<div>\n",
       "<style scoped>\n",
       "    .dataframe tbody tr th:only-of-type {\n",
       "        vertical-align: middle;\n",
       "    }\n",
       "\n",
       "    .dataframe tbody tr th {\n",
       "        vertical-align: top;\n",
       "    }\n",
       "\n",
       "    .dataframe thead th {\n",
       "        text-align: right;\n",
       "    }\n",
       "</style>\n",
       "<table border=\"1\" class=\"dataframe\">\n",
       "  <thead>\n",
       "    <tr style=\"text-align: right;\">\n",
       "      <th></th>\n",
       "      <th>count</th>\n",
       "    </tr>\n",
       "    <tr>\n",
       "      <th>weekend</th>\n",
       "      <th></th>\n",
       "    </tr>\n",
       "  </thead>\n",
       "  <tbody>\n",
       "    <tr>\n",
       "      <th>No</th>\n",
       "      <td>467375</td>\n",
       "    </tr>\n",
       "    <tr>\n",
       "      <th>Yes</th>\n",
       "      <td>63910</td>\n",
       "    </tr>\n",
       "  </tbody>\n",
       "</table>\n",
       "</div>"
      ],
      "text/plain": [
       "          count\n",
       "weekend        \n",
       "No       467375\n",
       "Yes       63910"
      ]
     },
     "execution_count": 92,
     "metadata": {},
     "output_type": "execute_result"
    }
   ],
   "source": [
    "weekend_count = df2.groupby('weekend')['InvoiceNo'].agg([\"count\"]).sort_values(by=\"count\",ascending=False)\n",
    "weekend_count"
   ]
  },
  {
   "cell_type": "markdown",
   "id": "aeaf943b",
   "metadata": {},
   "source": [
    "# Now analysing Total Sales"
   ]
  },
  {
   "cell_type": "code",
   "execution_count": 93,
   "id": "0b72137c",
   "metadata": {},
   "outputs": [
    {
     "data": {
      "text/html": [
       "<div>\n",
       "<style scoped>\n",
       "    .dataframe tbody tr th:only-of-type {\n",
       "        vertical-align: middle;\n",
       "    }\n",
       "\n",
       "    .dataframe tbody tr th {\n",
       "        vertical-align: top;\n",
       "    }\n",
       "\n",
       "    .dataframe thead th {\n",
       "        text-align: right;\n",
       "    }\n",
       "</style>\n",
       "<table border=\"1\" class=\"dataframe\">\n",
       "  <thead>\n",
       "    <tr style=\"text-align: right;\">\n",
       "      <th></th>\n",
       "      <th>Day</th>\n",
       "      <th>Total_sales</th>\n",
       "    </tr>\n",
       "  </thead>\n",
       "  <tbody>\n",
       "    <tr>\n",
       "      <th>0</th>\n",
       "      <td>Thursday</td>\n",
       "      <td>2203161.240</td>\n",
       "    </tr>\n",
       "    <tr>\n",
       "      <th>1</th>\n",
       "      <td>Tuesday</td>\n",
       "      <td>2178632.611</td>\n",
       "    </tr>\n",
       "    <tr>\n",
       "      <th>2</th>\n",
       "      <td>Wednesday</td>\n",
       "      <td>1851147.810</td>\n",
       "    </tr>\n",
       "    <tr>\n",
       "      <th>3</th>\n",
       "      <td>Friday</td>\n",
       "      <td>1818216.111</td>\n",
       "    </tr>\n",
       "    <tr>\n",
       "      <th>4</th>\n",
       "      <td>Monday</td>\n",
       "      <td>1779575.041</td>\n",
       "    </tr>\n",
       "    <tr>\n",
       "      <th>5</th>\n",
       "      <td>Sunday</td>\n",
       "      <td>813827.611</td>\n",
       "    </tr>\n",
       "  </tbody>\n",
       "</table>\n",
       "</div>"
      ],
      "text/plain": [
       "         Day  Total_sales\n",
       "0   Thursday  2203161.240\n",
       "1    Tuesday  2178632.611\n",
       "2  Wednesday  1851147.810\n",
       "3     Friday  1818216.111\n",
       "4     Monday  1779575.041\n",
       "5     Sunday   813827.611"
      ]
     },
     "execution_count": 93,
     "metadata": {},
     "output_type": "execute_result"
    }
   ],
   "source": [
    "day_sales = df2.groupby('Day')['Total'].sum().to_frame('Total_sales').sort_values(by = 'Total_sales', ascending = False).reset_index()\n",
    "day_sales"
   ]
  },
  {
   "cell_type": "code",
   "execution_count": 94,
   "id": "10f878ef",
   "metadata": {},
   "outputs": [
    {
     "data": {
      "text/plain": [
       "<matplotlib.lines.Line2D at 0x1d65d405340>"
      ]
     },
     "execution_count": 94,
     "metadata": {},
     "output_type": "execute_result"
    },
    {
     "data": {
      "image/png": "[encoded data removed]",
      "text/plain": [
       "<Figure size 600x200 with 1 Axes>"
      ]
     },
     "metadata": {},
     "output_type": "display_data"
    }
   ],
   "source": [
    "fig, ax = plt.subplots(figsize=(6,2))\n",
    "sns.barplot(data=day_sales, x=\"Day\", y=\"Total_sales\")\n",
    "#plot the average sale\n",
    "plt.axhline(y=day_sales['Total_sales'].mean())"
   ]
  },
  {
   "cell_type": "markdown",
   "id": "584012cd",
   "metadata": {},
   "source": [
    "1.On Thursday and Tuesday sales are high.\n",
    "2.Wednesday,Friday and Monday sales are equally average.\n",
    "3.Sunday sales are lowest. This shows people don't like to shop on weekend or sunday.\n",
    "4.There is no sale on saturday so we can conclude that mall is closed on every Saturday."
   ]
  },
  {
   "cell_type": "code",
   "execution_count": 95,
   "id": "8e579227",
   "metadata": {},
   "outputs": [
    {
     "data": {
      "text/html": [
       "<div>\n",
       "<style scoped>\n",
       "    .dataframe tbody tr th:only-of-type {\n",
       "        vertical-align: middle;\n",
       "    }\n",
       "\n",
       "    .dataframe tbody tr th {\n",
       "        vertical-align: top;\n",
       "    }\n",
       "\n",
       "    .dataframe thead th {\n",
       "        text-align: right;\n",
       "    }\n",
       "</style>\n",
       "<table border=\"1\" class=\"dataframe\">\n",
       "  <thead>\n",
       "    <tr style=\"text-align: right;\">\n",
       "      <th></th>\n",
       "      <th>Month</th>\n",
       "      <th>Total_sales</th>\n",
       "    </tr>\n",
       "  </thead>\n",
       "  <tbody>\n",
       "    <tr>\n",
       "      <th>0</th>\n",
       "      <td>November</td>\n",
       "      <td>1509496.330</td>\n",
       "    </tr>\n",
       "    <tr>\n",
       "      <th>1</th>\n",
       "      <td>December</td>\n",
       "      <td>1462538.820</td>\n",
       "    </tr>\n",
       "    <tr>\n",
       "      <th>2</th>\n",
       "      <td>October</td>\n",
       "      <td>1154979.300</td>\n",
       "    </tr>\n",
       "    <tr>\n",
       "      <th>3</th>\n",
       "      <td>September</td>\n",
       "      <td>1058590.172</td>\n",
       "    </tr>\n",
       "    <tr>\n",
       "      <th>4</th>\n",
       "      <td>May</td>\n",
       "      <td>770536.020</td>\n",
       "    </tr>\n",
       "    <tr>\n",
       "      <th>5</th>\n",
       "      <td>June</td>\n",
       "      <td>761739.900</td>\n",
       "    </tr>\n",
       "    <tr>\n",
       "      <th>6</th>\n",
       "      <td>August</td>\n",
       "      <td>737014.260</td>\n",
       "    </tr>\n",
       "    <tr>\n",
       "      <th>7</th>\n",
       "      <td>July</td>\n",
       "      <td>719221.191</td>\n",
       "    </tr>\n",
       "    <tr>\n",
       "      <th>8</th>\n",
       "      <td>March</td>\n",
       "      <td>717639.360</td>\n",
       "    </tr>\n",
       "    <tr>\n",
       "      <th>9</th>\n",
       "      <td>January</td>\n",
       "      <td>691364.560</td>\n",
       "    </tr>\n",
       "    <tr>\n",
       "      <th>10</th>\n",
       "      <td>April</td>\n",
       "      <td>537808.621</td>\n",
       "    </tr>\n",
       "    <tr>\n",
       "      <th>11</th>\n",
       "      <td>February</td>\n",
       "      <td>523631.890</td>\n",
       "    </tr>\n",
       "  </tbody>\n",
       "</table>\n",
       "</div>"
      ],
      "text/plain": [
       "        Month  Total_sales\n",
       "0    November  1509496.330\n",
       "1    December  1462538.820\n",
       "2     October  1154979.300\n",
       "3   September  1058590.172\n",
       "4         May   770536.020\n",
       "5        June   761739.900\n",
       "6      August   737014.260\n",
       "7        July   719221.191\n",
       "8       March   717639.360\n",
       "9     January   691364.560\n",
       "10      April   537808.621\n",
       "11   February   523631.890"
      ]
     },
     "execution_count": 95,
     "metadata": {},
     "output_type": "execute_result"
    }
   ],
   "source": [
    "month_sales = df2.groupby('Month')['Total'].sum().to_frame('Total_sales').sort_values(by = 'Total_sales', ascending = False).reset_index()\n",
    "month_sales"
   ]
  },
  {
   "cell_type": "code",
   "execution_count": 96,
   "id": "33bcf947",
   "metadata": {},
   "outputs": [
    {
     "data": {
      "text/plain": [
       "<matplotlib.lines.Line2D at 0x1d65d614f10>"
      ]
     },
     "execution_count": 96,
     "metadata": {},
     "output_type": "execute_result"
    },
    {
     "data": {
      "image/png": "[encoded data removed]",
      "text/plain": [
       "<Figure size 1000x300 with 1 Axes>"
      ]
     },
     "metadata": {},
     "output_type": "display_data"
    }
   ],
   "source": [
    "fig, ax = plt.subplots(figsize=(10,3))\n",
    "sns.barplot(data=month_sales, x=\"Month\", y=\"Total_sales\")\n",
    "#plot the average sale\n",
    "plt.axhline(y=month_sales['Total_sales'].mean())"
   ]
  },
  {
   "cell_type": "markdown",
   "id": "6dcc4889",
   "metadata": {},
   "source": [
    "1.From September to Decenber sales are high, November is having highest sales.\n",
    "2.April and February are having lowest sales and rest months are having average sales."
   ]
  },
  {
   "cell_type": "code",
   "execution_count": 97,
   "id": "85f51e7e",
   "metadata": {},
   "outputs": [
    {
     "data": {
      "text/html": [
       "<div>\n",
       "<style scoped>\n",
       "    .dataframe tbody tr th:only-of-type {\n",
       "        vertical-align: middle;\n",
       "    }\n",
       "\n",
       "    .dataframe tbody tr th {\n",
       "        vertical-align: top;\n",
       "    }\n",
       "\n",
       "    .dataframe thead th {\n",
       "        text-align: right;\n",
       "    }\n",
       "</style>\n",
       "<table border=\"1\" class=\"dataframe\">\n",
       "  <thead>\n",
       "    <tr style=\"text-align: right;\">\n",
       "      <th></th>\n",
       "      <th>season</th>\n",
       "      <th>Total_sales</th>\n",
       "    </tr>\n",
       "  </thead>\n",
       "  <tbody>\n",
       "    <tr>\n",
       "      <th>0</th>\n",
       "      <td>Winter</td>\n",
       "      <td>4187031.600</td>\n",
       "    </tr>\n",
       "    <tr>\n",
       "      <th>1</th>\n",
       "      <td>Monsoon</td>\n",
       "      <td>2217975.351</td>\n",
       "    </tr>\n",
       "    <tr>\n",
       "      <th>2</th>\n",
       "      <td>Post Monsoon</td>\n",
       "      <td>2213569.472</td>\n",
       "    </tr>\n",
       "    <tr>\n",
       "      <th>3</th>\n",
       "      <td>Summer</td>\n",
       "      <td>2025984.001</td>\n",
       "    </tr>\n",
       "  </tbody>\n",
       "</table>\n",
       "</div>"
      ],
      "text/plain": [
       "         season  Total_sales\n",
       "0        Winter  4187031.600\n",
       "1       Monsoon  2217975.351\n",
       "2  Post Monsoon  2213569.472\n",
       "3        Summer  2025984.001"
      ]
     },
     "execution_count": 97,
     "metadata": {},
     "output_type": "execute_result"
    }
   ],
   "source": [
    "season_sales = df2.groupby('season')['Total'].sum().to_frame('Total_sales').sort_values(by = 'Total_sales', ascending = False).reset_index()\n",
    "season_sales"
   ]
  },
  {
   "cell_type": "code",
   "execution_count": 98,
   "id": "111961de",
   "metadata": {},
   "outputs": [
    {
     "data": {
      "text/plain": [
       "<matplotlib.lines.Line2D at 0x1d65d6be370>"
      ]
     },
     "execution_count": 98,
     "metadata": {},
     "output_type": "execute_result"
    },
    {
     "data": {
      "image/png": "[encoded data removed]",
      "text/plain": [
       "<Figure size 500x200 with 1 Axes>"
      ]
     },
     "metadata": {},
     "output_type": "display_data"
    }
   ],
   "source": [
    "fig, ax = plt.subplots(figsize=(5,2))\n",
    "sns.barplot(data=season_sales, x=\"season\", y=\"Total_sales\")\n",
    "#plot the average sale\n",
    "plt.axhline(y=season_sales['Total_sales'].mean())"
   ]
  },
  {
   "cell_type": "markdown",
   "id": "ee1117c3",
   "metadata": {},
   "source": [
    "1.Winter sales are the highest, may be due to festive season of Christmas."
   ]
  },
  {
   "cell_type": "code",
   "execution_count": 99,
   "id": "c7faab6f",
   "metadata": {},
   "outputs": [
    {
     "data": {
      "text/html": [
       "<div>\n",
       "<style scoped>\n",
       "    .dataframe tbody tr th:only-of-type {\n",
       "        vertical-align: middle;\n",
       "    }\n",
       "\n",
       "    .dataframe tbody tr th {\n",
       "        vertical-align: top;\n",
       "    }\n",
       "\n",
       "    .dataframe thead th {\n",
       "        text-align: right;\n",
       "    }\n",
       "</style>\n",
       "<table border=\"1\" class=\"dataframe\">\n",
       "  <thead>\n",
       "    <tr style=\"text-align: right;\">\n",
       "      <th></th>\n",
       "      <th>Timing</th>\n",
       "      <th>Total_sales</th>\n",
       "    </tr>\n",
       "  </thead>\n",
       "  <tbody>\n",
       "    <tr>\n",
       "      <th>0</th>\n",
       "      <td>Afternoon(11:00 - 17:00 Hours)</td>\n",
       "      <td>6462597.051</td>\n",
       "    </tr>\n",
       "    <tr>\n",
       "      <th>2</th>\n",
       "      <td>Morning(5:00 - 11:00 Hours)</td>\n",
       "      <td>2751942.502</td>\n",
       "    </tr>\n",
       "    <tr>\n",
       "      <th>3</th>\n",
       "      <td>Night(20:00-00:00 Hours)</td>\n",
       "      <td>754006.560</td>\n",
       "    </tr>\n",
       "    <tr>\n",
       "      <th>1</th>\n",
       "      <td>Evening(17:00-20:00 Hours)</td>\n",
       "      <td>676014.311</td>\n",
       "    </tr>\n",
       "  </tbody>\n",
       "</table>\n",
       "</div>"
      ],
      "text/plain": [
       "                           Timing  Total_sales\n",
       "0  Afternoon(11:00 - 17:00 Hours)  6462597.051\n",
       "2     Morning(5:00 - 11:00 Hours)  2751942.502\n",
       "3        Night(20:00-00:00 Hours)   754006.560\n",
       "1      Evening(17:00-20:00 Hours)   676014.311"
      ]
     },
     "execution_count": 99,
     "metadata": {},
     "output_type": "execute_result"
    }
   ],
   "source": [
    "Timing_sales = df2.groupby('Timing')['Total'].sum().to_frame('Total_sales').reset_index().sort_values(by = 'Total_sales', ascending = False)\n",
    "Timing_sales"
   ]
  },
  {
   "cell_type": "code",
   "execution_count": 100,
   "id": "e263ee34",
   "metadata": {},
   "outputs": [
    {
     "data": {
      "text/plain": [
       "<matplotlib.lines.Line2D at 0x1d65d6eb430>"
      ]
     },
     "execution_count": 100,
     "metadata": {},
     "output_type": "execute_result"
    },
    {
     "data": {
      "image/png": "[encoded data removed]",
      "text/plain": [
       "<Figure size 1000x300 with 1 Axes>"
      ]
     },
     "metadata": {},
     "output_type": "display_data"
    }
   ],
   "source": [
    "fig, ax = plt.subplots(figsize=(10,3))\n",
    "sns.barplot(data=Timing_sales, x=\"Timing\", y=\"Total_sales\")\n",
    "#plot the average sale\n",
    "plt.axhline(y=Timing_sales['Total_sales'].mean())"
   ]
  },
  {
   "cell_type": "markdown",
   "id": "5b2213ee",
   "metadata": {},
   "source": [
    "1.People mostly like to shop in afternoon and on average in morning time.\n",
    "2.At night and evening time people prefer to rest and relax than shopping"
   ]
  },
  {
   "cell_type": "markdown",
   "id": "2cba198f",
   "metadata": {},
   "source": [
    "# Sales trends"
   ]
  },
  {
   "cell_type": "code",
   "execution_count": 101,
   "id": "650260ea",
   "metadata": {},
   "outputs": [
    {
     "data": {
      "text/plain": [
       "<AxesSubplot:xlabel='Month_Year'>"
      ]
     },
     "execution_count": 101,
     "metadata": {},
     "output_type": "execute_result"
    },
    {
     "data": {
      "image/png": "[encoded data removed]",
      "text/plain": [
       "<Figure size 1800x600 with 1 Axes>"
      ]
     },
     "metadata": {},
     "output_type": "display_data"
    }
   ],
   "source": [
    "df2['Month_Year'] = df2['InvoiceDate'].dt.to_period('M')\n",
    "sales = df2.groupby(['Month_Year']).sum()\n",
    "sales[['Total']].plot(figsize=(18, 6))"
   ]
  },
  {
   "cell_type": "markdown",
   "id": "d2bac6b8",
   "metadata": {},
   "source": [
    "# TRENDS :-\n",
    "\n",
    "## 1.Sales is in increasing trend\n",
    "\n",
    "## 2.In November it is the highest."
   ]
  }
 ],
 "metadata": {
  "kernelspec": {
   "display_name": "Python 3 (ipykernel)",
   "language": "python",
   "name": "python3"
  },
  "language_info": {
   "codemirror_mode": {
    "name": "ipython",
    "version": 3
   },
   "file_extension": ".py",
   "mimetype": "text/x-python",
   "name": "python",
   "nbconvert_exporter": "python",
   "pygments_lexer": "ipython3",
   "version": "3.12.7"
  }
 },
 "nbformat": 4,
 "nbformat_minor": 5
}
